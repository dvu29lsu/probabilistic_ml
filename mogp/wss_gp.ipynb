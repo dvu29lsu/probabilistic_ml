{
 "cells": [
  {
   "cell_type": "code",
   "execution_count": 13,
   "id": "1d11d0ba-f2cc-4e87-9bc4-0241a966d0c1",
   "metadata": {},
   "outputs": [
    {
     "name": "stderr",
     "output_type": "stream",
     "text": [
      "'ls' is not recognized as an internal or external command,\n",
      "operable program or batch file.\n"
     ]
    }
   ],
   "source": [
    "## this project implement the paper using the wasserstein distance to quantify the similarity between two distribution(2 gps)\n",
    "\n",
    "## 1. Getting the quadractic function from the .mat file (let say 3 functions)\n",
    "\n",
    "## 2. Generate data for each functions (separately/ heterotopic both train and test) \n",
    "\n",
    "## 3. Train GP for 3 functions \n",
    "\n",
    "## 2. Choosing the inducing points Z (using the uniform distribution)\n",
    "\n",
    "## 3. Based on the distribution with the Z -> calculate the WSS between (f1, f3) & (f1, f2)\n",
    "\n",
    "## 4. Train joinly the (f1 & f3), (f1 & f2) => Compare results "
   ]
  },
  {
   "cell_type": "code",
   "execution_count": null,
   "id": "da559dbe-448b-4e99-8062-65309325b102",
   "metadata": {},
   "outputs": [],
   "source": []
  }
 ],
 "metadata": {
  "kernelspec": {
   "display_name": "Python [conda env:base] *",
   "language": "python",
   "name": "conda-base-py"
  },
  "language_info": {
   "codemirror_mode": {
    "name": "ipython",
    "version": 3
   },
   "file_extension": ".py",
   "mimetype": "text/x-python",
   "name": "python",
   "nbconvert_exporter": "python",
   "pygments_lexer": "ipython3",
   "version": "3.12.7"
  }
 },
 "nbformat": 4,
 "nbformat_minor": 5
}
