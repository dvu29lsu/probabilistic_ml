{
 "cells": [
  {
   "cell_type": "code",
   "execution_count": 1,
   "id": "66a602ee-e6a2-4a0a-8cbe-557986f3575c",
   "metadata": {},
   "outputs": [],
   "source": [
    "## This notebook will be about verifying the ability to handle the missing data cases of the MOGP\n",
    "\n",
    "# Task\n",
    "# 1 - Generate data and drop the data randomly\n",
    "# 2 - Trying to modeling them jointly -> compare the performance with the cases they are modeling separately\n",
    "# 3 - Increase the number of agent to see whether its could be affect to the theoretical assumption\n",
    "\n"
   ]
  },
  {
   "cell_type": "code",
   "execution_count": 2,
   "id": "353f37c4-be8b-49e3-9c38-dced6d034f2a",
   "metadata": {},
   "outputs": [],
   "source": [
    "## modeling the MOGP and SOGP with the vector input function (quadratic function)\n",
    "\n",
    "import time\n",
    "import numpy as np\n",
    "import matplotlib.pyplot as plt\n",
    "from sklearn.model_selection import train_test_split\n",
    "from sklearn.preprocessing import StandardScaler\n",
    "from sklearn.metrics import mean_squared_error\n",
    "\n",
    "import GPy"
   ]
  },
  {
   "cell_type": "code",
   "execution_count": 3,
   "id": "8d24c375-20ab-41e8-b745-1303ef9c19c4",
   "metadata": {},
   "outputs": [],
   "source": [
    "np.set_printoptions(precision=4, suppress=True)"
   ]
  },
  {
   "cell_type": "code",
   "execution_count": 4,
   "id": "cd4a15cd-cbec-4629-a7ee-71169bbc0225",
   "metadata": {},
   "outputs": [],
   "source": [
    "# define the quadractic function we want to sample\n",
    "\n",
    "def sample_convex_quadratic(d, seed = 42, pd_shift=0.5, r_scale=0.5, mu_scale=0.25, b_scale=0.2, c_scale=0.1):\n",
    "    # f(x) = (x-mu).T @ A @ (x-mu) + b.T @ x + c\n",
    "    \n",
    "    rng = np.random.default_rng(seed) ### using the new numpy generator function\n",
    "    \n",
    "    mu = rng.normal(scale=mu_scale, size=d) # random mean of features vector\n",
    "\n",
    "    # generate random vector from a normal distribution\n",
    "    R = rng.normal(scale=r_scale, size=(d, d))\n",
    "\n",
    "    # getting the matrix A random but satisfy strictly convex (A need to be strictly PD)\n",
    "    A = R.T @ R + pd_shift * np.eye(d)\n",
    "\n",
    "    # linear part: generate the vector b\n",
    "    b = rng.normal(scale=b_scale, size = d) # random vector b\n",
    "    \n",
    "    # additional part c\n",
    "    c = rng.normal(scale=c_scale) # just random number\n",
    "\n",
    "    return mu, A, b, c\n",
    "\n",
    "# giving the vaue of the quadractic function given the X value\n",
    "# just calculate the quad function\n",
    "def evaluate_quadratic(X, mu, A, b, c):\n",
    "    \n",
    "    X = np.asarray(X)\n",
    "    \n",
    "    xm = X - mu # shifting the data -> not in the origin axis\n",
    "    \n",
    "    quad = np.einsum('ni,ij,nj->n', xm, A, xm)  # (x-mu)^T A (x-mu)\n",
    "    \n",
    "    lin = X @ b\n",
    "    \n",
    "    return quad + lin + c"
   ]
  },
  {
   "cell_type": "code",
   "execution_count": 5,
   "id": "f95a0e4b-81a9-441d-a693-2321c9b3c644",
   "metadata": {},
   "outputs": [],
   "source": [
    "## generate data and trying to modeling them separate"
   ]
  },
  {
   "cell_type": "code",
   "execution_count": 6,
   "id": "746eecdf-8d66-40f4-b54c-b8c66391c77b",
   "metadata": {},
   "outputs": [],
   "source": [
    "# generate the quadractic dataset\n",
    "def generate_quadratic_dataset(\n",
    "    n_train = 10,\n",
    "    n_test = 30,\n",
    "    d = 5,\n",
    "    S = 3,\n",
    "    seed = 42,\n",
    "    noise_levels=(0.02, 0.01, 0.01),\n",
    "    weight_range=(0.5, 1.2)):  # how strongly each output uses the shared quadratic latent functions\n",
    "\n",
    "    rng = np.random.default_rng(seed)\n",
    "\n",
    "    # sample input vectors\n",
    "    # X_all = rng.normal(size=(n_train + n_test, d))\n",
    "    X_all = rng.uniform(0, 0.5, size=(n_train + n_test, d))\n",
    "\n",
    "    # sample base convex quadratic\n",
    "    mu, A, b, c = sample_convex_quadratic(d, seed=seed) ## getting the params of the function\n",
    "    f_all = evaluate_quadratic(X_all, mu, A, b, c)  # shape (N,) ## getting the value of the function\n",
    "\n",
    "    # per-output mixing weights (like scaling of the based function)\n",
    "    w = rng.uniform(weight_range[0], weight_range[1], size=S)\n",
    "\n",
    "    # build outputs with Gaussian noise (each output will have different noise - independent)\n",
    "    Y_list = []\n",
    "    for s in range(S):\n",
    "        base  = w[s] * f_all[:, None]            # (N,1)\n",
    "        drift = 0\n",
    "        sigma = noise_levels[s % len(noise_levels)] # getting noise level\n",
    "        eps   = rng.normal(scale=sigma, size=(X_all.shape[0], 1)) # noise\n",
    "        y_s   = base + drift + eps # adding noise to the output\n",
    "        Y_list.append(y_s)\n",
    "        \n",
    "    Y_all = np.hstack(Y_list)  # getting the value for the function (noisy) - (N, S)\n",
    "\n",
    "    # train test\n",
    "    Xtr, Xte, Ytr, Yte, f_tr, f_te = train_test_split(\n",
    "        X_all, Y_all, f_all, test_size=n_test, random_state=seed\n",
    "    )\n",
    "\n",
    "    # scale X only to prevent the hard optimization when the input vector value will in to differnt scale\n",
    "    x_scaler = StandardScaler().fit(Xtr)\n",
    "    Xtr_s = x_scaler.transform(Xtr)\n",
    "    Xte_s = x_scaler.transform(Xte)\n",
    "\n",
    "    truth = dict(mu=mu, A=A, b=b, c=c, w=w, noise_levels=noise_levels)\n",
    "    return Xtr_s, Ytr, Xte_s, Yte, f_tr, f_te, truth, x_scaler"
   ]
  },
  {
   "cell_type": "code",
   "execution_count": 7,
   "id": "3f15e3ff-3ee6-4252-adf1-00281f0222d3",
   "metadata": {},
   "outputs": [],
   "source": [
    "# define the mask for the output and taking it over then we can compare the result \n",
    "# here we consider the isotopic cases (all output sharing the same input space)\n",
    "\n",
    "X_train, Y_train, X_test, Y_test, f_train, f_test, truth, x_scaler = generate_quadratic_dataset(\n",
    "    n_train=10, n_test=20, d=5, S=3, seed=42\n",
    ")"
   ]
  },
  {
   "cell_type": "code",
   "execution_count": 8,
   "id": "e6ab1df5-8c1b-40b7-8bb5-e0ac6289fd4d",
   "metadata": {},
   "outputs": [
    {
     "name": "stdout",
     "output_type": "stream",
     "text": [
      "Train shapes: X = (10, 5)  Y = (10, 3)\n",
      "Test  shapes: X = (20, 5)  Y = (20, 3)\n",
      "Weights w (how much each output uses f): [1.0784 1.1273 0.5982]\n",
      "Noise levels: (0.02, 0.01, 0.01)\n"
     ]
    }
   ],
   "source": [
    "print(\"Train shapes: X =\", X_train.shape, \" Y =\", Y_train.shape)\n",
    "print(\"Test  shapes: X =\", X_test.shape, \" Y =\", Y_test.shape)\n",
    "print(\"Weights w (how much each output uses f):\", truth[\"w\"])\n",
    "print(\"Noise levels:\", truth[\"noise_levels\"])"
   ]
  },
  {
   "cell_type": "code",
   "execution_count": 9,
   "id": "f08a99f6-30f8-4000-8862-a9608b6e03bf",
   "metadata": {},
   "outputs": [
    {
     "data": {
      "text/plain": [
       "10"
      ]
     },
     "execution_count": 9,
     "metadata": {},
     "output_type": "execute_result"
    }
   ],
   "source": [
    "# define a random mask for the input we can take one input can trying to modeling them\n",
    "X_train.shape[0]"
   ]
  },
  {
   "cell_type": "code",
   "execution_count": 10,
   "id": "397d8acd-9be0-4f44-a488-748f57ab60c7",
   "metadata": {},
   "outputs": [
    {
     "name": "stdout",
     "output_type": "stream",
     "text": [
      "[9 4 5 8 0]\n"
     ]
    }
   ],
   "source": [
    "# generate a random index of the missing data:\n",
    "\n",
    "# number of training point\n",
    "num_samples = X_train.shape[0]\n",
    "\n",
    "# percentage missing point (percent of missing)\n",
    "p_missing = 0.5\n",
    "\n",
    "# getting the number of missing point\n",
    "n_missing = int(num_samples * p_missing)\n",
    "\n",
    "# generate the random indicies\n",
    "missing_indicies = (np.random.choice(num_samples, size=n_missing, replace=False))\n",
    "\n",
    "print(missing_indicies)"
   ]
  },
  {
   "cell_type": "code",
   "execution_count": 11,
   "id": "a12ed682-9e36-4a97-842c-1275f7fdbdfa",
   "metadata": {},
   "outputs": [],
   "source": [
    "num_output = 3\n",
    "output_missing_data_index = 0 #output 1"
   ]
  },
  {
   "cell_type": "code",
   "execution_count": 12,
   "id": "4010d2fe-6323-4ae2-969f-fdf9b1572855",
   "metadata": {},
   "outputs": [],
   "source": [
    "#making masked data\n",
    "def generate_masked(n_samples, n_outputs, missing_indicies, missing_output):\n",
    "    mask_list = []\n",
    "    for k in range(n_outputs):\n",
    "        if k == missing_output:\n",
    "            mask = np.ones(n_samples, dtype=bool)\n",
    "            mask[missing_indicies] = False # False -> drop\n",
    "        else:\n",
    "            mask = np.ones(n_samples, dtype=bool)\n",
    "\n",
    "        mask_list.append(mask)\n",
    "    return mask_list"
   ]
  },
  {
   "cell_type": "code",
   "execution_count": 13,
   "id": "e3c0510b-f13a-4a58-9d71-2c145d2fde6d",
   "metadata": {},
   "outputs": [],
   "source": [
    "#testing generate mask data\n",
    "mask_list = generate_masked(num_samples, num_output, missing_indicies, output_missing_data_index)"
   ]
  },
  {
   "cell_type": "code",
   "execution_count": 14,
   "id": "8f29a955-a8f0-4050-b360-7d9fc326b060",
   "metadata": {},
   "outputs": [
    {
     "data": {
      "text/plain": [
       "[array([False,  True,  True,  True, False, False,  True,  True, False,\n",
       "        False]),\n",
       " array([ True,  True,  True,  True,  True,  True,  True,  True,  True,\n",
       "         True]),\n",
       " array([ True,  True,  True,  True,  True,  True,  True,  True,  True,\n",
       "         True])]"
      ]
     },
     "execution_count": 14,
     "metadata": {},
     "output_type": "execute_result"
    }
   ],
   "source": [
    "mask_list"
   ]
  },
  {
   "cell_type": "code",
   "execution_count": 15,
   "id": "f2ee0a19-0f06-4db4-a0e5-06ead0e32a71",
   "metadata": {},
   "outputs": [],
   "source": [
    "## getting the observed set\n",
    "X_list = [X_train[mask_list[k]] for k in range(num_output)]\n",
    "Y_obs = [Y_train[:, k][mask_list[k]] for k in range(num_output)] #shape"
   ]
  },
  {
   "cell_type": "code",
   "execution_count": 16,
   "id": "ecd7ea09-764d-4833-b692-9da32934e6e3",
   "metadata": {},
   "outputs": [
    {
     "data": {
      "text/plain": [
       "(5,)"
      ]
     },
     "execution_count": 16,
     "metadata": {},
     "output_type": "execute_result"
    }
   ],
   "source": [
    "Y_obs[0].shape"
   ]
  },
  {
   "cell_type": "code",
   "execution_count": 17,
   "id": "8f988d08-93ce-4300-8b93-e5fd938ac710",
   "metadata": {},
   "outputs": [],
   "source": [
    "# training SOGP\n",
    "\n",
    "def train_sogp_single_rbf_fullrun(\n",
    "    X_train, Y_train,\n",
    "    max_iters = 100000,         # large budget; optimizer stops early if it converges\n",
    "    bound_kernel=True,         # keep things numerically stable\n",
    "    noise_bounds=(1e-4, 0.1),  # bounds for Gaussian noise variance\n",
    "    var_bounds=(1e-4, 1e2),    # bounds for kernel variance\n",
    "    ls_bounds=(1e-4, 1e2),      # bounds for ARD lengthscales\n",
    "    num_output=num_output):\n",
    "    \n",
    "    S = num_output\n",
    "    models = []\n",
    "    # store the lmls\n",
    "    lmls = []\n",
    "    total_time = 0.0\n",
    "\n",
    "    for s in range(S):\n",
    "        y = Y_train[s].reshape(-1, 1)\n",
    "\n",
    "        k = GPy.kern.RBF(X_train[s].shape[1], ARD=False, name=f\"rbf_s{s}\") #transform the shape of the \n",
    "        \n",
    "        if bound_kernel:\n",
    "            k.variance.constrain_bounded(*var_bounds)\n",
    "            k.lengthscale.constrain_bounded(*ls_bounds)\n",
    "\n",
    "        m = GPy.models.GPRegression(X_train[s], y, kernel=k)\n",
    "        m.Gaussian_noise.variance.constrain_bounded(*noise_bounds)\n",
    "\n",
    "        t0 = time.perf_counter()\n",
    "        m.optimize(optimizer=\"lbfgsb\", max_iters=max_iters, messages=True)  # single full run\n",
    "        total_time += (time.perf_counter() - t0)\n",
    "\n",
    "        models.append(m)\n",
    "\n",
    "        # adding the lmls for each models\n",
    "        \n",
    "        lmls.append(float(m.log_likelihood()))\n",
    "\n",
    "        # # print model hyperparams after train\n",
    "        # k = m.kern\n",
    "        \n",
    "        # print(f\"Output {s} kernel_variance\", k.variance.values)\n",
    "        # print(f\"Output {s} lengthscales\", k.lengthscale.values)\n",
    "        # print(f\"Output {s} noise_variance\", m.Gaussian_noise.variance.values)\n",
    "\n",
    "    return models, np.array(lmls), total_time"
   ]
  },
  {
   "cell_type": "code",
   "execution_count": 18,
   "id": "5207604a-9175-4622-9f2a-caa00d7ff20f",
   "metadata": {},
   "outputs": [],
   "source": [
    "def predictive_test_nll(y_true, mu, var, eps=1e-12):\n",
    "\n",
    "    var = np.clip(var.reshape(-1), eps, None)\n",
    "    y_true = y_true.reshape(-1); mu = mu.reshape(-1)\n",
    "    return 0.5*np.mean(np.log(2*np.pi*var) + (y_true - mu)**2/var)"
   ]
  },
  {
   "cell_type": "code",
   "execution_count": 19,
   "id": "98f885d4-9d00-4af1-921d-b7bcfe9fbf2e",
   "metadata": {},
   "outputs": [],
   "source": [
    "def eval_sogp(models, Xte, Yte):\n",
    "    # compute the RMSE for each model as well as the nll on test output\n",
    "    S = Yte.shape[1]\n",
    "    rmses, nlls = [], []\n",
    "    for s in range(S):\n",
    "        mu, var = models[s].predict(Xte)\n",
    "        rmse = np.sqrt(mean_squared_error(Yte[:, s], mu))\n",
    "        rmses.append(rmse)\n",
    "        nll = predictive_test_nll(Yte[:, s], mu, var)\n",
    "        nlls.append(nll)\n",
    "    return np.array(rmses), np.array(nlls)"
   ]
  },
  {
   "cell_type": "code",
   "execution_count": 20,
   "id": "e5034fc7-693f-47a5-bcc6-3af743436afc",
   "metadata": {},
   "outputs": [
    {
     "name": "stderr",
     "output_type": "stream",
     "text": [
      "reconstraining parameters rbf_s0.variance\n",
      "reconstraining parameters rbf_s0.lengthscale\n",
      "reconstraining parameters GP_regression.Gaussian_noise.variance\n"
     ]
    },
    {
     "data": {
      "application/vnd.jupyter.widget-view+json": {
       "model_id": "8309dac10a9c47f9b172afff9dde8962",
       "version_major": 2,
       "version_minor": 0
      },
      "text/plain": [
       "HBox(children=(VBox(children=(IntProgress(value=0, max=1000), HTML(value=''))), Box(children=(HTML(value=''),)…"
      ]
     },
     "metadata": {},
     "output_type": "display_data"
    },
    {
     "name": "stderr",
     "output_type": "stream",
     "text": [
      "reconstraining parameters rbf_s1.variance\n",
      "reconstraining parameters rbf_s1.lengthscale\n",
      "reconstraining parameters GP_regression.Gaussian_noise.variance\n"
     ]
    },
    {
     "data": {
      "application/vnd.jupyter.widget-view+json": {
       "model_id": "604422639263443eb7f5f829cd6936fe",
       "version_major": 2,
       "version_minor": 0
      },
      "text/plain": [
       "HBox(children=(VBox(children=(IntProgress(value=0, max=1000), HTML(value=''))), Box(children=(HTML(value=''),)…"
      ]
     },
     "metadata": {},
     "output_type": "display_data"
    },
    {
     "name": "stderr",
     "output_type": "stream",
     "text": [
      "reconstraining parameters rbf_s2.variance\n",
      "reconstraining parameters rbf_s2.lengthscale\n",
      "reconstraining parameters GP_regression.Gaussian_noise.variance\n"
     ]
    },
    {
     "data": {
      "application/vnd.jupyter.widget-view+json": {
       "model_id": "0548e4db4ed44b9f8a8d2e944b44e948",
       "version_major": 2,
       "version_minor": 0
      },
      "text/plain": [
       "HBox(children=(VBox(children=(IntProgress(value=0, max=1000), HTML(value=''))), Box(children=(HTML(value=''),)…"
      ]
     },
     "metadata": {},
     "output_type": "display_data"
    },
    {
     "name": "stdout",
     "output_type": "stream",
     "text": [
      "SOGP trained 3 tasks in 0.16s\n",
      "SOGP of each GP with RBF kernels: [0.3595 0.0707 0.0465]\n",
      "Mean of RMSE: 0.15889970083490632\n"
     ]
    }
   ],
   "source": [
    "# train & evaluate single-RBF SOGP with the missing value data\n",
    "sogp_models, lmls, sogp_time = train_sogp_single_rbf_fullrun(X_list, Y_obs, max_iters=1000)\n",
    "\n",
    "print(f\"SOGP trained {len(sogp_models)} tasks in {sogp_time:.2f}s\")\n",
    "\n",
    "sogp1_rmse, sogp1_nlls = eval_sogp(sogp_models, X_test, Y_test)\n",
    "print(\"SOGP of each GP with RBF kernels:\", sogp1_rmse)\n",
    "print(\"Mean of RMSE:\", (sogp1_rmse.mean()))"
   ]
  },
  {
   "cell_type": "code",
   "execution_count": 21,
   "id": "85abd42d-1274-40bc-be67-9ab97b33da70",
   "metadata": {},
   "outputs": [
    {
     "data": {
      "text/plain": [
       "(10, 5)"
      ]
     },
     "execution_count": 21,
     "metadata": {},
     "output_type": "execute_result"
    }
   ],
   "source": [
    "X_train.shape"
   ]
  },
  {
   "cell_type": "code",
   "execution_count": 22,
   "id": "8fecc55c-08fb-4237-ad53-773d19650c27",
   "metadata": {},
   "outputs": [
    {
     "name": "stderr",
     "output_type": "stream",
     "text": [
      "reconstraining parameters rbf_s0.variance\n",
      "reconstraining parameters rbf_s0.lengthscale\n",
      "reconstraining parameters GP_regression.Gaussian_noise.variance\n"
     ]
    },
    {
     "data": {
      "application/vnd.jupyter.widget-view+json": {
       "model_id": "1b64b3e953ce46b19c45541cfb83bf9c",
       "version_major": 2,
       "version_minor": 0
      },
      "text/plain": [
       "HBox(children=(VBox(children=(IntProgress(value=0, max=10000), HTML(value=''))), Box(children=(HTML(value=''),…"
      ]
     },
     "metadata": {},
     "output_type": "display_data"
    },
    {
     "name": "stderr",
     "output_type": "stream",
     "text": [
      "reconstraining parameters rbf_s1.variance\n",
      "reconstraining parameters rbf_s1.lengthscale\n",
      "reconstraining parameters GP_regression.Gaussian_noise.variance\n"
     ]
    },
    {
     "data": {
      "application/vnd.jupyter.widget-view+json": {
       "model_id": "a1385b8f79634113a27ce584f1409c67",
       "version_major": 2,
       "version_minor": 0
      },
      "text/plain": [
       "HBox(children=(VBox(children=(IntProgress(value=0, max=10000), HTML(value=''))), Box(children=(HTML(value=''),…"
      ]
     },
     "metadata": {},
     "output_type": "display_data"
    },
    {
     "name": "stderr",
     "output_type": "stream",
     "text": [
      "reconstraining parameters rbf_s2.variance\n",
      "reconstraining parameters rbf_s2.lengthscale\n",
      "reconstraining parameters GP_regression.Gaussian_noise.variance\n"
     ]
    },
    {
     "data": {
      "application/vnd.jupyter.widget-view+json": {
       "model_id": "168cbf9c00574a0e8fa545fdfc026912",
       "version_major": 2,
       "version_minor": 0
      },
      "text/plain": [
       "HBox(children=(VBox(children=(IntProgress(value=0, max=10000), HTML(value=''))), Box(children=(HTML(value=''),…"
      ]
     },
     "metadata": {},
     "output_type": "display_data"
    },
    {
     "name": "stderr",
     "output_type": "stream",
     "text": [
      "reconstraining parameters rbf_s0.variance\n"
     ]
    },
    {
     "name": "stdout",
     "output_type": "stream",
     "text": [
      "\n",
      "=== Case 1: 5 train / 10 test ===\n",
      "LML per output: [-1.3571 -0.246  -0.5549]  | mean: -0.7193\n",
      "RMSE per output: [0.1072 0.1117 0.1239]  | mean: 0.1143\n",
      "Training time: 0.146s\n",
      "Output 0 kernel_variance [0.3495]\n",
      "Output 0 lengthscales [5.7602]\n",
      "Output 0 noise_variance [0.0001]\n",
      "Output 1 kernel_variance [0.3871]\n",
      "Output 1 lengthscales [7.7508]\n",
      "Output 1 noise_variance [0.0001]\n",
      "Output 2 kernel_variance [0.4652]\n",
      "Output 2 lengthscales [8.0655]\n",
      "Output 2 noise_variance [0.0001]\n",
      "RMSE prediction missing points (using appropriate model): 0.06260740487929282\n",
      "NLL prediction missing points (using appropriate model): -0.5049027052398245\n"
     ]
    },
    {
     "name": "stderr",
     "output_type": "stream",
     "text": [
      "reconstraining parameters rbf_s0.lengthscale\n",
      "reconstraining parameters GP_regression.Gaussian_noise.variance\n"
     ]
    },
    {
     "data": {
      "application/vnd.jupyter.widget-view+json": {
       "model_id": "f54c6a0a3a3e41f08082489deb5e3c01",
       "version_major": 2,
       "version_minor": 0
      },
      "text/plain": [
       "HBox(children=(VBox(children=(IntProgress(value=0, max=10000), HTML(value=''))), Box(children=(HTML(value=''),…"
      ]
     },
     "metadata": {},
     "output_type": "display_data"
    },
    {
     "name": "stderr",
     "output_type": "stream",
     "text": [
      "reconstraining parameters rbf_s1.variance\n",
      "reconstraining parameters rbf_s1.lengthscale\n",
      "reconstraining parameters GP_regression.Gaussian_noise.variance\n"
     ]
    },
    {
     "data": {
      "application/vnd.jupyter.widget-view+json": {
       "model_id": "ef06ec0f470a468eb90866cb1dec3c28",
       "version_major": 2,
       "version_minor": 0
      },
      "text/plain": [
       "HBox(children=(VBox(children=(IntProgress(value=0, max=10000), HTML(value=''))), Box(children=(HTML(value=''),…"
      ]
     },
     "metadata": {},
     "output_type": "display_data"
    },
    {
     "name": "stderr",
     "output_type": "stream",
     "text": [
      "reconstraining parameters rbf_s2.variance\n",
      "reconstraining parameters rbf_s2.lengthscale\n",
      "reconstraining parameters GP_regression.Gaussian_noise.variance\n"
     ]
    },
    {
     "data": {
      "application/vnd.jupyter.widget-view+json": {
       "model_id": "3ea417ef8b7b4877968632985974371f",
       "version_major": 2,
       "version_minor": 0
      },
      "text/plain": [
       "HBox(children=(VBox(children=(IntProgress(value=0, max=10000), HTML(value=''))), Box(children=(HTML(value=''),…"
      ]
     },
     "metadata": {},
     "output_type": "display_data"
    },
    {
     "name": "stderr",
     "output_type": "stream",
     "text": [
      "reconstraining parameters rbf_s0.variance\n",
      "reconstraining parameters rbf_s0.lengthscale\n",
      "reconstraining parameters GP_regression.Gaussian_noise.variance\n"
     ]
    },
    {
     "name": "stdout",
     "output_type": "stream",
     "text": [
      "\n",
      "=== Case 2: 10 train / 20 test ===\n",
      "LML per output: [-3.2482 -0.4856  2.6304]  | mean: -0.3678\n",
      "RMSE per output: [0.3528 0.0906 0.0533]  | mean: 0.1656\n",
      "Training time: 0.151s\n",
      "Output 0 kernel_variance [1.8727]\n",
      "Output 0 lengthscales [99.9933]\n",
      "Output 0 noise_variance [0.0823]\n",
      "Output 1 kernel_variance [18.417]\n",
      "Output 1 lengthscales [21.567]\n",
      "Output 1 noise_variance [0.0005]\n",
      "Output 2 kernel_variance [5.0422]\n",
      "Output 2 lengthscales [17.413]\n",
      "Output 2 noise_variance [0.0006]\n",
      "RMSE prediction missing points (using appropriate model): 0.6906920142464941\n",
      "NLL prediction missing points (using appropriate model): 2.1463292813185157\n"
     ]
    },
    {
     "data": {
      "application/vnd.jupyter.widget-view+json": {
       "model_id": "6d2e194c01be4abab356773f1388a3ac",
       "version_major": 2,
       "version_minor": 0
      },
      "text/plain": [
       "HBox(children=(VBox(children=(IntProgress(value=0, max=10000), HTML(value=''))), Box(children=(HTML(value=''),…"
      ]
     },
     "metadata": {},
     "output_type": "display_data"
    },
    {
     "name": "stderr",
     "output_type": "stream",
     "text": [
      "reconstraining parameters rbf_s1.variance\n",
      "reconstraining parameters rbf_s1.lengthscale\n",
      "reconstraining parameters GP_regression.Gaussian_noise.variance\n"
     ]
    },
    {
     "data": {
      "application/vnd.jupyter.widget-view+json": {
       "model_id": "3f543af687c34adb8bceeb7efb42e09a",
       "version_major": 2,
       "version_minor": 0
      },
      "text/plain": [
       "HBox(children=(VBox(children=(IntProgress(value=0, max=10000), HTML(value=''))), Box(children=(HTML(value=''),…"
      ]
     },
     "metadata": {},
     "output_type": "display_data"
    },
    {
     "name": "stderr",
     "output_type": "stream",
     "text": [
      "reconstraining parameters rbf_s2.variance\n",
      "reconstraining parameters rbf_s2.lengthscale\n",
      "reconstraining parameters GP_regression.Gaussian_noise.variance\n"
     ]
    },
    {
     "data": {
      "application/vnd.jupyter.widget-view+json": {
       "model_id": "4658b5a2c0a7455eaf94ec81ef1836da",
       "version_major": 2,
       "version_minor": 0
      },
      "text/plain": [
       "HBox(children=(VBox(children=(IntProgress(value=0, max=10000), HTML(value=''))), Box(children=(HTML(value=''),…"
      ]
     },
     "metadata": {},
     "output_type": "display_data"
    },
    {
     "name": "stderr",
     "output_type": "stream",
     "text": [
      "reconstraining parameters rbf_s0.variance\n"
     ]
    },
    {
     "name": "stdout",
     "output_type": "stream",
     "text": [
      "\n",
      "=== Case 3: 20 train / 40 test ===\n",
      "LML per output: [-9.2564 11.4916 10.8067]  | mean: 4.3473\n",
      "RMSE per output: [0.2021 0.035  0.0277]  | mean: 0.0883\n",
      "Training time: 0.208s\n",
      "Output 0 kernel_variance [99.9999]\n",
      "Output 0 lengthscales [20.6101]\n",
      "Output 0 noise_variance [0.0001]\n",
      "Output 1 kernel_variance [70.3124]\n",
      "Output 1 lengthscales [22.1804]\n",
      "Output 1 noise_variance [0.0001]\n",
      "Output 2 kernel_variance [59.7504]\n",
      "Output 2 lengthscales [20.9167]\n",
      "Output 2 noise_variance [0.0001]\n",
      "RMSE prediction missing points (using appropriate model): 0.1717749596712357\n",
      "NLL prediction missing points (using appropriate model): -0.2293630544072533\n"
     ]
    },
    {
     "name": "stderr",
     "output_type": "stream",
     "text": [
      "reconstraining parameters rbf_s0.lengthscale\n",
      "reconstraining parameters GP_regression.Gaussian_noise.variance\n"
     ]
    },
    {
     "data": {
      "application/vnd.jupyter.widget-view+json": {
       "model_id": "d31d247c61bf421b9a929952c3fc7622",
       "version_major": 2,
       "version_minor": 0
      },
      "text/plain": [
       "HBox(children=(VBox(children=(IntProgress(value=0, max=10000), HTML(value=''))), Box(children=(HTML(value=''),…"
      ]
     },
     "metadata": {},
     "output_type": "display_data"
    },
    {
     "name": "stderr",
     "output_type": "stream",
     "text": [
      "reconstraining parameters rbf_s1.variance\n",
      "reconstraining parameters rbf_s1.lengthscale\n",
      "reconstraining parameters GP_regression.Gaussian_noise.variance\n"
     ]
    },
    {
     "data": {
      "application/vnd.jupyter.widget-view+json": {
       "model_id": "d58e2a5a57d6445784d906d68d0b5672",
       "version_major": 2,
       "version_minor": 0
      },
      "text/plain": [
       "HBox(children=(VBox(children=(IntProgress(value=0, max=10000), HTML(value=''))), Box(children=(HTML(value=''),…"
      ]
     },
     "metadata": {},
     "output_type": "display_data"
    },
    {
     "name": "stderr",
     "output_type": "stream",
     "text": [
      "reconstraining parameters rbf_s2.variance\n",
      "reconstraining parameters rbf_s2.lengthscale\n",
      "reconstraining parameters GP_regression.Gaussian_noise.variance\n"
     ]
    },
    {
     "data": {
      "application/vnd.jupyter.widget-view+json": {
       "model_id": "2e1f706eb3d649f69d31546506b68b14",
       "version_major": 2,
       "version_minor": 0
      },
      "text/plain": [
       "HBox(children=(VBox(children=(IntProgress(value=0, max=10000), HTML(value=''))), Box(children=(HTML(value=''),…"
      ]
     },
     "metadata": {},
     "output_type": "display_data"
    },
    {
     "name": "stderr",
     "output_type": "stream",
     "text": [
      "reconstraining parameters rbf_s0.variance\n",
      "reconstraining parameters rbf_s0.lengthscale\n",
      "reconstraining parameters GP_regression.Gaussian_noise.variance\n"
     ]
    },
    {
     "name": "stdout",
     "output_type": "stream",
     "text": [
      "\n",
      "=== Case 4: 40 train / 80 test ===\n",
      "LML per output: [-2.5119 49.7582 42.4446]  | mean: 29.8969\n",
      "RMSE per output: [0.1245 0.0201 0.015 ]  | mean: 0.0532\n",
      "Training time: 0.197s\n",
      "Output 0 kernel_variance [28.4549]\n",
      "Output 0 lengthscales [10.856]\n",
      "Output 0 noise_variance [0.0009]\n",
      "Output 1 kernel_variance [100.]\n",
      "Output 1 lengthscales [18.0401]\n",
      "Output 1 noise_variance [0.0001]\n",
      "Output 2 kernel_variance [100.]\n",
      "Output 2 lengthscales [15.9718]\n",
      "Output 2 noise_variance [0.0001]\n",
      "RMSE prediction missing points (using appropriate model): 0.11888467945591986\n",
      "NLL prediction missing points (using appropriate model): -0.954010309813164\n"
     ]
    },
    {
     "data": {
      "application/vnd.jupyter.widget-view+json": {
       "model_id": "138e3468db4b4eff98769a3239469307",
       "version_major": 2,
       "version_minor": 0
      },
      "text/plain": [
       "HBox(children=(VBox(children=(IntProgress(value=0, max=10000), HTML(value=''))), Box(children=(HTML(value=''),…"
      ]
     },
     "metadata": {},
     "output_type": "display_data"
    },
    {
     "name": "stderr",
     "output_type": "stream",
     "text": [
      "reconstraining parameters rbf_s1.variance\n",
      "reconstraining parameters rbf_s1.lengthscale\n",
      "reconstraining parameters GP_regression.Gaussian_noise.variance\n"
     ]
    },
    {
     "data": {
      "application/vnd.jupyter.widget-view+json": {
       "model_id": "19041547a8704e748efe95786e73f9ae",
       "version_major": 2,
       "version_minor": 0
      },
      "text/plain": [
       "HBox(children=(VBox(children=(IntProgress(value=0, max=10000), HTML(value=''))), Box(children=(HTML(value=''),…"
      ]
     },
     "metadata": {},
     "output_type": "display_data"
    },
    {
     "name": "stderr",
     "output_type": "stream",
     "text": [
      "reconstraining parameters rbf_s2.variance\n",
      "reconstraining parameters rbf_s2.lengthscale\n",
      "reconstraining parameters GP_regression.Gaussian_noise.variance\n"
     ]
    },
    {
     "data": {
      "application/vnd.jupyter.widget-view+json": {
       "model_id": "f8ac1e1eee174affa9ef1cc5601ee43b",
       "version_major": 2,
       "version_minor": 0
      },
      "text/plain": [
       "HBox(children=(VBox(children=(IntProgress(value=0, max=10000), HTML(value=''))), Box(children=(HTML(value=''),…"
      ]
     },
     "metadata": {},
     "output_type": "display_data"
    },
    {
     "name": "stderr",
     "output_type": "stream",
     "text": [
      "reconstraining parameters rbf_s0.variance\n",
      "reconstraining parameters rbf_s0.lengthscale\n",
      "reconstraining parameters GP_regression.Gaussian_noise.variance\n"
     ]
    },
    {
     "name": "stdout",
     "output_type": "stream",
     "text": [
      "\n",
      "=== Case 5: 60 train / 120 test ===\n",
      "LML per output: [ 24.7039 109.6565 114.5505]  | mean: 82.9703\n",
      "RMSE per output: [0.054  0.0136 0.011 ]  | mean: 0.0262\n",
      "Training time: 0.232s\n",
      "Output 0 kernel_variance [8.485]\n",
      "Output 0 lengthscales [15.8491]\n",
      "Output 0 noise_variance [0.0017]\n",
      "Output 1 kernel_variance [45.5742]\n",
      "Output 1 lengthscales [16.5428]\n",
      "Output 1 noise_variance [0.0001]\n",
      "Output 2 kernel_variance [53.8692]\n",
      "Output 2 lengthscales [19.7055]\n",
      "Output 2 noise_variance [0.0001]\n",
      "RMSE prediction missing points (using appropriate model): 0.06453667086808221\n",
      "NLL prediction missing points (using appropriate model): -1.559484355860064\n"
     ]
    },
    {
     "data": {
      "application/vnd.jupyter.widget-view+json": {
       "model_id": "6a0f8bd7a125446b97a6005f9e3d1203",
       "version_major": 2,
       "version_minor": 0
      },
      "text/plain": [
       "HBox(children=(VBox(children=(IntProgress(value=0, max=10000), HTML(value=''))), Box(children=(HTML(value=''),…"
      ]
     },
     "metadata": {},
     "output_type": "display_data"
    },
    {
     "name": "stderr",
     "output_type": "stream",
     "text": [
      "reconstraining parameters rbf_s1.variance\n",
      "reconstraining parameters rbf_s1.lengthscale\n",
      "reconstraining parameters GP_regression.Gaussian_noise.variance\n"
     ]
    },
    {
     "data": {
      "application/vnd.jupyter.widget-view+json": {
       "model_id": "44adee34a8bc459d9b4bb098f1344ffb",
       "version_major": 2,
       "version_minor": 0
      },
      "text/plain": [
       "HBox(children=(VBox(children=(IntProgress(value=0, max=10000), HTML(value=''))), Box(children=(HTML(value=''),…"
      ]
     },
     "metadata": {},
     "output_type": "display_data"
    },
    {
     "name": "stderr",
     "output_type": "stream",
     "text": [
      "reconstraining parameters rbf_s2.variance\n",
      "reconstraining parameters rbf_s2.lengthscale\n",
      "reconstraining parameters GP_regression.Gaussian_noise.variance\n"
     ]
    },
    {
     "data": {
      "application/vnd.jupyter.widget-view+json": {
       "model_id": "7c893ece6eef4dc5a73d1ac9f21c792c",
       "version_major": 2,
       "version_minor": 0
      },
      "text/plain": [
       "HBox(children=(VBox(children=(IntProgress(value=0, max=10000), HTML(value=''))), Box(children=(HTML(value=''),…"
      ]
     },
     "metadata": {},
     "output_type": "display_data"
    },
    {
     "name": "stderr",
     "output_type": "stream",
     "text": [
      "reconstraining parameters rbf_s0.variance\n",
      "reconstraining parameters rbf_s0.lengthscale\n",
      "reconstraining parameters GP_regression.Gaussian_noise.variance\n"
     ]
    },
    {
     "name": "stdout",
     "output_type": "stream",
     "text": [
      "\n",
      "=== Case 6: 100 train / 200 test ===\n",
      "LML per output: [ 72.7249 234.6602 237.341 ]  | mean: 181.5754\n",
      "RMSE per output: [0.0238 0.0115 0.0111]  | mean: 0.0155\n",
      "Training time: 0.516s\n",
      "Output 0 kernel_variance [14.125]\n",
      "Output 0 lengthscales [12.7992]\n",
      "Output 0 noise_variance [0.0003]\n",
      "Output 1 kernel_variance [58.1409]\n",
      "Output 1 lengthscales [18.4121]\n",
      "Output 1 noise_variance [0.0001]\n",
      "Output 2 kernel_variance [99.9996]\n",
      "Output 2 lengthscales [19.7633]\n",
      "Output 2 noise_variance [0.0001]\n",
      "RMSE prediction missing points (using appropriate model): 0.01998895832119532\n",
      "NLL prediction missing points (using appropriate model): -2.4887075686365985\n"
     ]
    },
    {
     "data": {
      "application/vnd.jupyter.widget-view+json": {
       "model_id": "73890bd13f1d4c4b86d53608c77642a5",
       "version_major": 2,
       "version_minor": 0
      },
      "text/plain": [
       "HBox(children=(VBox(children=(IntProgress(value=0, max=10000), HTML(value=''))), Box(children=(HTML(value=''),…"
      ]
     },
     "metadata": {},
     "output_type": "display_data"
    },
    {
     "name": "stderr",
     "output_type": "stream",
     "text": [
      "reconstraining parameters rbf_s1.variance\n",
      "reconstraining parameters rbf_s1.lengthscale\n",
      "reconstraining parameters GP_regression.Gaussian_noise.variance\n"
     ]
    },
    {
     "data": {
      "application/vnd.jupyter.widget-view+json": {
       "model_id": "6ec0c85891424d17ba5a27dce702565d",
       "version_major": 2,
       "version_minor": 0
      },
      "text/plain": [
       "HBox(children=(VBox(children=(IntProgress(value=0, max=10000), HTML(value=''))), Box(children=(HTML(value=''),…"
      ]
     },
     "metadata": {},
     "output_type": "display_data"
    },
    {
     "name": "stderr",
     "output_type": "stream",
     "text": [
      "reconstraining parameters rbf_s2.variance\n",
      "reconstraining parameters rbf_s2.lengthscale\n",
      "reconstraining parameters GP_regression.Gaussian_noise.variance\n"
     ]
    },
    {
     "data": {
      "application/vnd.jupyter.widget-view+json": {
       "model_id": "63ba68ab3bf74aaebc3669f8d93ccd9e",
       "version_major": 2,
       "version_minor": 0
      },
      "text/plain": [
       "HBox(children=(VBox(children=(IntProgress(value=0, max=10000), HTML(value=''))), Box(children=(HTML(value=''),…"
      ]
     },
     "metadata": {},
     "output_type": "display_data"
    },
    {
     "name": "stderr",
     "output_type": "stream",
     "text": [
      "reconstraining parameters rbf_s0.variance\n",
      "reconstraining parameters rbf_s0.lengthscale\n",
      "reconstraining parameters GP_regression.Gaussian_noise.variance\n"
     ]
    },
    {
     "name": "stdout",
     "output_type": "stream",
     "text": [
      "\n",
      "=== Case 7: 150 train / 300 test ===\n",
      "LML per output: [116.7071 378.9706 385.7187]  | mean: 293.7988\n",
      "RMSE per output: [0.0247 0.0113 0.0117]  | mean: 0.0159\n",
      "Training time: 0.622s\n",
      "Output 0 kernel_variance [12.508]\n",
      "Output 0 lengthscales [11.7431]\n",
      "Output 0 noise_variance [0.0005]\n",
      "Output 1 kernel_variance [99.9999]\n",
      "Output 1 lengthscales [19.558]\n",
      "Output 1 noise_variance [0.0001]\n",
      "Output 2 kernel_variance [100.]\n",
      "Output 2 lengthscales [19.3416]\n",
      "Output 2 noise_variance [0.0001]\n",
      "RMSE prediction missing points (using appropriate model): 0.023958122227517177\n",
      "NLL prediction missing points (using appropriate model): -2.2857589063765835\n"
     ]
    },
    {
     "data": {
      "application/vnd.jupyter.widget-view+json": {
       "model_id": "6aea62c496654499b1c834144a7c41fa",
       "version_major": 2,
       "version_minor": 0
      },
      "text/plain": [
       "HBox(children=(VBox(children=(IntProgress(value=0, max=10000), HTML(value=''))), Box(children=(HTML(value=''),…"
      ]
     },
     "metadata": {},
     "output_type": "display_data"
    },
    {
     "name": "stderr",
     "output_type": "stream",
     "text": [
      "reconstraining parameters rbf_s1.variance\n",
      "reconstraining parameters rbf_s1.lengthscale\n",
      "reconstraining parameters GP_regression.Gaussian_noise.variance\n"
     ]
    },
    {
     "data": {
      "application/vnd.jupyter.widget-view+json": {
       "model_id": "6bb3f7befb9a49dca6df537325073841",
       "version_major": 2,
       "version_minor": 0
      },
      "text/plain": [
       "HBox(children=(VBox(children=(IntProgress(value=0, max=10000), HTML(value=''))), Box(children=(HTML(value=''),…"
      ]
     },
     "metadata": {},
     "output_type": "display_data"
    },
    {
     "name": "stderr",
     "output_type": "stream",
     "text": [
      "reconstraining parameters rbf_s2.variance\n",
      "reconstraining parameters rbf_s2.lengthscale\n",
      "reconstraining parameters GP_regression.Gaussian_noise.variance\n"
     ]
    },
    {
     "data": {
      "application/vnd.jupyter.widget-view+json": {
       "model_id": "190fe00ae3bd4787a0d59a16c9654d22",
       "version_major": 2,
       "version_minor": 0
      },
      "text/plain": [
       "HBox(children=(VBox(children=(IntProgress(value=0, max=10000), HTML(value=''))), Box(children=(HTML(value=''),…"
      ]
     },
     "metadata": {},
     "output_type": "display_data"
    },
    {
     "name": "stdout",
     "output_type": "stream",
     "text": [
      "\n",
      "=== Case 8: 200 train / 400 test ===\n",
      "LML per output: [187.0795 531.8914 551.9863]  | mean: 423.6524\n",
      "RMSE per output: [0.0223 0.0111 0.0103]  | mean: 0.0146\n",
      "Training time: 0.730s\n",
      "Output 0 kernel_variance [2.8367]\n",
      "Output 0 lengthscales [9.1319]\n",
      "Output 0 noise_variance [0.0004]\n",
      "Output 1 kernel_variance [99.9999]\n",
      "Output 1 lengthscales [20.4725]\n",
      "Output 1 noise_variance [0.0001]\n",
      "Output 2 kernel_variance [30.5954]\n",
      "Output 2 lengthscales [19.5605]\n",
      "Output 2 noise_variance [0.0001]\n",
      "RMSE prediction missing points (using appropriate model): 0.02184626254535682\n",
      "NLL prediction missing points (using appropriate model): -2.390191349429206\n"
     ]
    }
   ],
   "source": [
    "## modeling them with different set of data\n",
    "## running and compare the number of data points scale\n",
    "## also print the prediction for the missing point of the function modeling\n",
    "\n",
    "size_cases = [(5, 10), (10, 20), (20, 40), (40, 80), (60, 120), (100, 200), (150, 300), (200, 400)]\n",
    "\n",
    "d, S = 5, 3 #number of the dimension input and number of output \n",
    "seeds = 123\n",
    "p_missing = 0.5\n",
    "output_missing_data_index = 0 #output 1\n",
    "\n",
    "num_output = S\n",
    "# percentage missing point (percent of missing)\n",
    "\n",
    "all_results_sogp = []\n",
    "\n",
    "for i, (ntr, nte) in enumerate(size_cases):\n",
    "\n",
    "    X_train, Y_train, X_test, Y_test, f_train, f_test, truth, x_scaler = generate_quadratic_dataset(n_train = ntr, n_test = nte, d = d, S = S, seed = seeds + i, noise_levels=(0.02, 0.01, 0.01), weight_range=(0.5, 1.1))\n",
    "\n",
    "    # number of training point\n",
    "    num_samples = X_train.shape[0]\n",
    "    \n",
    "    # getting the number of missing point\n",
    "    n_missing = int(num_samples * p_missing)\n",
    "    \n",
    "    # generate the random indicies\n",
    "    missing_indicies = (np.random.choice(num_samples, size=n_missing, replace=False))\n",
    "    \n",
    "    # generate the mask list\n",
    "    mask_list = generate_masked(num_samples, num_output, missing_indicies, output_missing_data_index)\n",
    "\n",
    "    # getting the data\n",
    "    X_list = [X_train[mask_list[k]] for k in range(num_output)]\n",
    "    Y_obs = [Y_train[:, k][mask_list[k]] for k in range(num_output)]\n",
    "    \n",
    "    # train threee model in one times\n",
    "    models, lmls, train_time = train_sogp_single_rbf_fullrun(X_list, Y_obs, max_iters=10000)\n",
    "\n",
    "    # evaluation each output in each cases\n",
    "    rmses, nlls = eval_sogp(models, X_test, Y_test)\n",
    "    # rmses = eval_sogp(models, X_test, Y_test)\n",
    "\n",
    "    # print per case\n",
    "    print(f\"\\n=== Case {i+1}: {ntr} train / {nte} test ===\")\n",
    "    print(\"LML per output:\", np.round(lmls, 4), \" | mean:\", np.round(lmls.mean(), 4))\n",
    "    print(\"RMSE per output:\", np.round(rmses, 4), \" | mean:\", np.round(rmses.mean(), 4))\n",
    "    print(f\"Training time: {train_time:.3f}s\")\n",
    "\n",
    "    # print model hyperparams after train\n",
    "    for i in range(len(models)):\n",
    "        k = models[i].kern # getting optimized params of the model i_th\n",
    "        \n",
    "        print(f\"Output {i} kernel_variance\", k.variance.values)\n",
    "        print(f\"Output {i} lengthscales\", k.lengthscale.values)\n",
    "        print(f\"Output {i} noise_variance\", models[i].Gaussian_noise.variance.values)\n",
    "\n",
    "    # predict the missing point\n",
    "    X_miss = X_train[missing_indicies,:] # getting the missing input point\n",
    "    Y_miss_true = Y_train[missing_indicies, output_missing_data_index] # getting the true value of the missing input point\n",
    "\n",
    "    missing_output_model = models[output_missing_data_index] ## geting the model that has the missing data\n",
    "    miss_mu, miss_var = missing_output_model.predict(X_miss)\n",
    "\n",
    "    # getting the prediction result for the missing point using the model that train only in a part of point\n",
    "    miss_rmse = np.sqrt(mean_squared_error(Y_miss_true, miss_mu))\n",
    "    miss_nll = predictive_test_nll(Y_miss_true, miss_mu, miss_var)\n",
    "\n",
    "    print(\"RMSE prediction missing points (using appropriate model):\", miss_rmse)\n",
    "    print(\"NLL prediction missing points (using appropriate model):\", miss_nll)\n",
    "\n",
    "    all_results_sogp.append({\n",
    "        \"case\": (ntr, nte),\n",
    "        \"lmls\": lmls,\n",
    "        \"rmses\": rmses, #full rmse for each output \n",
    "        \"nlls\": nlls, #negative log likelihood for all function\n",
    "        \"lml_mean\": lmls.mean() if isinstance(lmls, np.ndarray) else float(lmls),\n",
    "        \"rmse_mean\": rmses.mean(), #rmses mean in all function\n",
    "        \"nll_mean\": nlls.mean(), # mean of nlls for each model\n",
    "        \"time\": train_time,\n",
    "        \"miss_rmse\": miss_rmse,\n",
    "        \"miss_nlls\": miss_nll\n",
    "    })"
   ]
  },
  {
   "cell_type": "markdown",
   "id": "3be6a90a-b1af-466b-acde-bc81332fa4fa",
   "metadata": {},
   "source": [
    "## MOGP for missing data"
   ]
  },
  {
   "cell_type": "code",
   "execution_count": 24,
   "id": "9f8d24c2-0fdc-41d8-be70-1a20746ad95a",
   "metadata": {},
   "outputs": [],
   "source": [
    "## Modeling missing value case using the joint GP\n",
    "\n",
    "## full rank structure\n",
    "def build_lcm_kernel(d, S, Q=None, rank=None, ard=False, var_bounds=(1e-4, 100), ls_bounds=(1e-4, 100)):\n",
    "    \n",
    "    if rank is None:\n",
    "        rank = S  # full rank as default\n",
    "\n",
    "    parts = []\n",
    "    for q in range(Q):\n",
    "        rbf = GPy.kern.RBF(input_dim=d, ARD=ard, name=f\"rbf{q+1}\", active_dims=list(range(d)))\n",
    "        rbf.variance.constrain_bounded(*var_bounds)\n",
    "        rbf.lengthscale.constrain_bounded(*ls_bounds)\n",
    "\n",
    "        B = GPy.kern.Coregionalize(input_dim=1,output_dim=S, rank=rank, name=f\"B{q+1}\", active_dims=[d])\n",
    "        parts.append(rbf.prod(B, name=f\"ICM{q+1}\"))\n",
    "    kern = parts[0]\n",
    "    for p in parts[1:]:\n",
    "        kern = kern + p\n",
    "    return kern"
   ]
  },
  {
   "cell_type": "code",
   "execution_count": 25,
   "id": "a0e309f7-e8de-4175-bcaf-2366cfff3d7d",
   "metadata": {},
   "outputs": [],
   "source": [
    "## getting the neg log likelihood in testing set\n",
    "def predictive_test_nll(y_true, mu, var, eps=1e-12):\n",
    "    var = np.clip(var.reshape(-1), eps, None)\n",
    "    y_true = y_true.reshape(-1); mu = mu.reshape(-1)\n",
    "    return float(0.5*np.mean(np.log(2*np.pi*var) + (y_true - mu)**2/var))\n",
    "\n",
    "def get_output_noise_var(model, s: int) -> float:\n",
    "    \"\"\"\n",
    "    Return learned observation variance σ_obs,s^2 for output s\n",
    "    from a GPCoregionalizedRegression model in GPy.\n",
    "    \"\"\"\n",
    "    try:\n",
    "        return float(model.likelihood.likelihoods_list[s].variance[0])\n",
    "    except Exception:\n",
    "        # Fallback for slightly different GPy Param access\n",
    "        return float(np.asarray(model.likelihood.likelihoods_list[s].variance)[0])\n",
    "\n",
    "## getting the MOGP values\n",
    "def eval_mogp_augmented(model, X_test, Y_test, make_scatter=False):\n",
    "    S, d = Y_test.shape[1], X_test.shape[1]\n",
    "    rmses, nlls = [], []\n",
    "\n",
    "    for s in range(S):\n",
    "        s_idx = np.full((X_test.shape[0], 1), s, dtype=int)\n",
    "        Xte_aug = np.hstack([X_test, s_idx])\n",
    "\n",
    "        Ymd = {'output_index': s_idx}\n",
    "\n",
    "        # mu, var = model.predict(Xte_aug, Y_metadata=Ymd) #### I change here - \n",
    "        mu, var = model.predict(Xte_aug, Y_metadata=Ymd, include_likelihood=True)\n",
    "        rmses.append(np.sqrt(mean_squared_error(Y_test[:, s], mu))) # rmse for each outputs\n",
    "        nlls.append(predictive_test_nll(Y_test[:, s], mu, var)) # nlls for each outputs\n",
    "\n",
    "    return np.array(rmses), np.array(nlls)"
   ]
  },
  {
   "cell_type": "code",
   "execution_count": 26,
   "id": "e26ee0cc-2769-42ed-9f60-c88028421207",
   "metadata": {},
   "outputs": [],
   "source": [
    "def _condition_on_one(mu, Sigma, known_idx, z, obs_var=0.0):\n",
    "    \"\"\"\n",
    "    Condition N(mu, Sigma) on f_known = z with measurement variance obs_var (R).\n",
    "    Returns (mu_post_U, Sigma_post_U, U_indices).\n",
    "    \"\"\"\n",
    "    S = mu.shape[0]\n",
    "    U = [i for i in range(S) if i != known_idx]\n",
    "\n",
    "    mu_O = float(mu[known_idx])\n",
    "    mu_U = mu[U].reshape(-1)\n",
    "\n",
    "    Sigma_OO = float(Sigma[known_idx, known_idx])\n",
    "    Sigma_UO = Sigma[np.ix_(U, [known_idx])]  # (S-1, 1)\n",
    "    Sigma_OU = Sigma[np.ix_([known_idx], U)]  # (1, S-1)\n",
    "    Sigma_UU = Sigma[np.ix_(U, U)]           # (S-1, S-1)\n",
    "\n",
    "    gain = Sigma_UO / (Sigma_OO + obs_var)   # <-- add R here\n",
    "    mu_post_U = mu_U + (gain * (z - mu_O)).reshape(-1)\n",
    "    Sigma_post_U = Sigma_UU - gain @ Sigma_OU\n",
    "    return mu_post_U, Sigma_post_U, U\n",
    "\n",
    "\n",
    "def eval_mogp_with_test_condition(\n",
    "    model, X_test, Y_test,\n",
    "    known_output_idx: int,\n",
    "    obs_var_at_test: float\n",
    "):\n",
    "    \"\"\"\n",
    "    Compare baseline vs conditioning, fairly, on outputs != known_output_idx.\n",
    "    Returns (base, cond, details).\n",
    "    - base['rmse'/'nll']: arrays over remaining outputs\n",
    "    - cond['rmse'/'nll']: arrays over remaining outputs\n",
    "    \"\"\"\n",
    "    S = Y_test.shape[1]\n",
    "    U = [i for i in range(S) if i != known_output_idx]\n",
    "\n",
    "    # Baseline (per-output), use likelihood noise for fair NLL\n",
    "    base_rmses, base_nlls = [], []\n",
    "    for s in U:\n",
    "        s_idx = np.full((X_test.shape[0], 1), s, dtype=int)\n",
    "        Xte_aug = np.hstack([X_test, s_idx])\n",
    "        Ymd = {'output_index': s_idx}\n",
    "        mu_s, var_y_s = model.predict(Xte_aug, Y_metadata=Ymd, include_likelihood=True)\n",
    "        base_rmses.append(np.sqrt(mean_squared_error(Y_test[:, s], mu_s)))\n",
    "        base_nlls.append(predictive_test_nll(Y_test[:, s], mu_s, var_y_s))\n",
    "    base = {\"rmse\": np.array(base_rmses), \"nll\": np.array(base_nlls)}\n",
    "\n",
    "    # Conditioned: loop over test points, form joint (latent), condition with R\n",
    "    updated_means = {s: [] for s in U}\n",
    "    updated_vars  = {s: [] for s in U}\n",
    "\n",
    "    for t in range(X_test.shape[0]):\n",
    "        x = X_test[t:t+1, :]\n",
    "\n",
    "        s_all = np.arange(S, dtype=int).reshape(-1, 1)\n",
    "        X_aug = np.hstack([np.repeat(x, S, axis=0), s_all])\n",
    "        Ymd_all = {'output_index': s_all}\n",
    "\n",
    "        # latent joint over outputs at this test x\n",
    "        mu_all, cov_full = model.predict(\n",
    "            X_aug, Y_metadata=Ymd_all,\n",
    "            include_likelihood=False, full_cov=True\n",
    "        )\n",
    "        mu_all   = mu_all.reshape(-1)               # (S,)\n",
    "        cov_full = np.asarray(cov_full).reshape(S, S)\n",
    "\n",
    "        # known (noisy) test label for the chosen output\n",
    "        z = float(Y_test[t, known_output_idx])\n",
    "\n",
    "        mu_post_U, Sigma_post_U, U_order = _condition_on_one(\n",
    "            mu_all, cov_full, known_output_idx, z, obs_var=obs_var_at_test\n",
    "        )\n",
    "\n",
    "        for i, s in enumerate(U_order):\n",
    "            updated_means[s].append(mu_post_U[i])\n",
    "            updated_vars[s].append(Sigma_post_U[i, i])\n",
    "\n",
    "    # Score conditioned (add each output's observation noise for NLL)\n",
    "    cond_rmses, cond_nlls = [], []\n",
    "    for s in U:\n",
    "        mu_s = np.asarray(updated_means[s]).reshape(-1, 1)\n",
    "        var_latent = np.maximum(np.asarray(updated_vars[s]).reshape(-1, 1), 1e-12)\n",
    "        var_y = var_latent + get_output_noise_var(model, s)  # fair NLL\n",
    "        y_s = Y_test[:, [s]]\n",
    "        cond_rmses.append(np.sqrt(mean_squared_error(y_s, mu_s)))\n",
    "        cond_nlls.append(predictive_test_nll(y_s, mu_s, var_y))\n",
    "    cond = {\"rmse\": np.array(cond_rmses), \"nll\": np.array(cond_nlls)}\n",
    "    details = {\"updated_means\": updated_means, \"updated_vars\": updated_vars, \"U\": U}\n",
    "    return base, cond, details"
   ]
  },
  {
   "cell_type": "code",
   "execution_count": 27,
   "id": "df58f775-0cad-4d90-8584-f19f0c9991a2",
   "metadata": {},
   "outputs": [],
   "source": [
    "# [X_list[i] for i in range(3)]"
   ]
  },
  {
   "cell_type": "code",
   "execution_count": 28,
   "id": "37044870-740c-4ad6-8d12-046b027b5629",
   "metadata": {},
   "outputs": [],
   "source": [
    "def train_mogp_lcm(\n",
    "    X_train, Y_train,\n",
    "    Q=None, rank=None, ard=False,\n",
    "    max_iters=10000,\n",
    "    var_bounds=(1e-4, 1e2),\n",
    "    ls_bounds=(1e-4, 1e2),\n",
    "    noise_bounds=(1e-4, 0.1)\n",
    "):\n",
    "\n",
    "    S, d = len(X_train), X_train[0].shape[1]\n",
    "\n",
    "    # pack lists as GPy expects\n",
    "    # X_list = [X_train[i] for i in range(S)] # replicate the data\n",
    "    # # X_list = X_train\n",
    "    # # Y_list = [Y_train[:, [s]] for s in range(S)] # geeting the training output data for each output stacking\n",
    "    # Y_list = [Y_train[s].reshape(-1, 1) for s in range(S)]\n",
    "\n",
    "    X_list = [np.asarray(Xi, dtype=float) for Xi in X_train]                    # (N_k, d)\n",
    "    Y_list = [np.asarray(Yi, dtype=float).reshape(-1, 1) for Yi in Y_train]     # (N_k, 1)\n",
    "\n",
    "    # build the kernel for LCM model/ full rank SLFM\n",
    "    kern = build_lcm_kernel(d, S, Q=Q, rank=rank, ard=ard,\n",
    "                            var_bounds=var_bounds, ls_bounds=ls_bounds)\n",
    "\n",
    "    #build model\n",
    "    m = GPy.models.GPCoregionalizedRegression(X_list=X_list, Y_list=Y_list, kernel=kern)\n",
    "\n",
    "    # noise bounds per output\n",
    "    for lik in m.likelihood.likelihoods_list:\n",
    "        lik.variance.constrain_bounded(*noise_bounds)\n",
    "\n",
    "    t0 = time.perf_counter() #start time train\n",
    "    \n",
    "    m.optimize(optimizer=\"lbfgsb\", max_iters=max_iters, messages=True)\n",
    "    \n",
    "    train_time = time.perf_counter() - t0 #end time train\n",
    "    \n",
    "    return m, train_time"
   ]
  },
  {
   "cell_type": "code",
   "execution_count": 29,
   "id": "43cd1532-7ef0-4462-8692-83136f65af75",
   "metadata": {},
   "outputs": [],
   "source": [
    "def get_output_noise_var(model, s: int) -> float:\n",
    "    # Gaussian likelihood variance for output s (sigma^2)\n",
    "    return float(model.likelihood.likelihoods_list[s].variance[0])\n"
   ]
  },
  {
   "cell_type": "code",
   "execution_count": 30,
   "id": "09434579-7420-4cbe-a439-3e73ce1b5844",
   "metadata": {},
   "outputs": [
    {
     "name": "stderr",
     "output_type": "stream",
     "text": [
      "reconstraining parameters rbf1.variance\n",
      "reconstraining parameters rbf1.lengthscale\n",
      "reconstraining parameters rbf2.variance\n",
      "reconstraining parameters rbf2.lengthscale\n",
      "reconstraining parameters rbf3.variance\n",
      "reconstraining parameters rbf3.lengthscale\n",
      "reconstraining parameters gp.mixed_noise.Gaussian_noise_0.variance\n",
      "reconstraining parameters gp.mixed_noise.Gaussian_noise_1.variance\n",
      "reconstraining parameters gp.mixed_noise.Gaussian_noise_2.variance\n"
     ]
    },
    {
     "data": {
      "application/vnd.jupyter.widget-view+json": {
       "model_id": "f2cf0d2ebf314a7d8b7015ec1f0d3377",
       "version_major": 2,
       "version_minor": 0
      },
      "text/plain": [
       "HBox(children=(VBox(children=(IntProgress(value=0, max=10000), HTML(value=''))), Box(children=(HTML(value=''),…"
      ]
     },
     "metadata": {},
     "output_type": "display_data"
    },
    {
     "name": "stderr",
     "output_type": "stream",
     "text": [
      "reconstraining parameters rbf1.variance\n",
      "reconstraining parameters rbf1.lengthscale\n",
      "reconstraining parameters rbf2.variance\n",
      "reconstraining parameters rbf2.lengthscale\n",
      "reconstraining parameters rbf3.variance\n",
      "reconstraining parameters rbf3.lengthscale\n",
      "reconstraining parameters gp.mixed_noise.Gaussian_noise_0.variance\n",
      "reconstraining parameters gp.mixed_noise.Gaussian_noise_1.variance\n",
      "reconstraining parameters gp.mixed_noise.Gaussian_noise_2.variance\n"
     ]
    },
    {
     "name": "stdout",
     "output_type": "stream",
     "text": [
      "Model detail optimized params:\n",
      "   \u001b[1msum.                 \u001b[0;0m  |                   value  |  constraints   |  priors\n",
      "  \u001b[1mICM1.rbf1.variance   \u001b[0;0m  |                  0.0001  |  0.0001,100.0  |        \n",
      "  \u001b[1mICM1.rbf1.lengthscale\u001b[0;0m  |      3.1893427087107136  |  0.0001,100.0  |        \n",
      "  \u001b[1mICM1.B1.W            \u001b[0;0m  |                  (3, 3)  |                |        \n",
      "  \u001b[1mICM1.B1.kappa        \u001b[0;0m  |                    (3,)  |      +ve       |        \n",
      "  \u001b[1mICM2.rbf2.variance   \u001b[0;0m  |                  0.0001  |  0.0001,100.0  |        \n",
      "  \u001b[1mICM2.rbf2.lengthscale\u001b[0;0m  |       99.99999994691818  |  0.0001,100.0  |        \n",
      "  \u001b[1mICM2.B2.W            \u001b[0;0m  |                  (3, 3)  |                |        \n",
      "  \u001b[1mICM2.B2.kappa        \u001b[0;0m  |                    (3,)  |      +ve       |        \n",
      "  \u001b[1mICM3.rbf3.variance   \u001b[0;0m  |  0.00010000000000000002  |  0.0001,100.0  |        \n",
      "  \u001b[1mICM3.rbf3.lengthscale\u001b[0;0m  |       99.99999994653604  |  0.0001,100.0  |        \n",
      "  \u001b[1mICM3.B3.W            \u001b[0;0m  |                  (3, 3)  |                |        \n",
      "  \u001b[1mICM3.B3.kappa        \u001b[0;0m  |                    (3,)  |      +ve       |        \n",
      "\n",
      "Learned per-output noise variances:\n",
      "  output 0: 0.0001\n",
      "  output 1: 0.0001\n",
      "  output 2: 0.0001\n",
      "\n",
      "=== MOGP Case 1: 5 train / 10 test ===\n",
      "LML (overall): 24.913561\n",
      "RMSE per output: [0.1098 0.1145 0.1244]  | mean: 0.1163\n",
      "NLL  per output: [-0.953  -0.9725 -0.8909]  | mean: -0.9388\n",
      "Training time: 0.505s\n",
      "RMSE prediction missing points (joint GP model): 0.02267004612629241\n",
      "NLL prediction missing points (joint GP model): -1.8980670432863078\n",
      "[Condition on output 0]  Baseline RMSE (others): [0.1145 0.1244] | mean: 0.1195\n",
      "[Condition on output 0]  Cond.   RMSE (others): [0.0249 0.0255] | mean: 0.0252\n",
      "[Condition on output 0]  Baseline NLL (others): [-0.9725 -0.8909] | mean: -0.9317\n",
      "[Condition on output 0]  Cond.   NLL (others): [-1.8723 -1.9884] | mean: -1.9303\n"
     ]
    },
    {
     "data": {
      "application/vnd.jupyter.widget-view+json": {
       "model_id": "8337aaa7cdc84309bf0edf143c0e016f",
       "version_major": 2,
       "version_minor": 0
      },
      "text/plain": [
       "HBox(children=(VBox(children=(IntProgress(value=0, max=10000), HTML(value=''))), Box(children=(HTML(value=''),…"
      ]
     },
     "metadata": {},
     "output_type": "display_data"
    },
    {
     "name": "stderr",
     "output_type": "stream",
     "text": [
      "reconstraining parameters rbf1.variance\n",
      "reconstraining parameters rbf1.lengthscale\n",
      "reconstraining parameters rbf2.variance\n",
      "reconstraining parameters rbf2.lengthscale\n",
      "reconstraining parameters rbf3.variance\n",
      "reconstraining parameters rbf3.lengthscale\n",
      "reconstraining parameters gp.mixed_noise.Gaussian_noise_0.variance\n",
      "reconstraining parameters gp.mixed_noise.Gaussian_noise_1.variance\n",
      "reconstraining parameters gp.mixed_noise.Gaussian_noise_2.variance\n"
     ]
    },
    {
     "name": "stdout",
     "output_type": "stream",
     "text": [
      "Model detail optimized params:\n",
      "   \u001b[1msum.                 \u001b[0;0m  |                   value  |  constraints   |  priors\n",
      "  \u001b[1mICM1.rbf1.variance   \u001b[0;0m  |    0.006613523145231476  |  0.0001,100.0  |        \n",
      "  \u001b[1mICM1.rbf1.lengthscale\u001b[0;0m  |      14.057915501634705  |  0.0001,100.0  |        \n",
      "  \u001b[1mICM1.B1.W            \u001b[0;0m  |                  (3, 3)  |                |        \n",
      "  \u001b[1mICM1.B1.kappa        \u001b[0;0m  |                    (3,)  |      +ve       |        \n",
      "  \u001b[1mICM2.rbf2.variance   \u001b[0;0m  |  0.00010000000009233503  |  0.0001,100.0  |        \n",
      "  \u001b[1mICM2.rbf2.lengthscale\u001b[0;0m  |       99.99998225372315  |  0.0001,100.0  |        \n",
      "  \u001b[1mICM2.B2.W            \u001b[0;0m  |                  (3, 3)  |                |        \n",
      "  \u001b[1mICM2.B2.kappa        \u001b[0;0m  |                    (3,)  |      +ve       |        \n",
      "  \u001b[1mICM3.rbf3.variance   \u001b[0;0m  |  0.00010000000000021937  |  0.0001,100.0  |        \n",
      "  \u001b[1mICM3.rbf3.lengthscale\u001b[0;0m  |       99.99999997716832  |  0.0001,100.0  |        \n",
      "  \u001b[1mICM3.B3.W            \u001b[0;0m  |                  (3, 3)  |                |        \n",
      "  \u001b[1mICM3.B3.kappa        \u001b[0;0m  |                    (3,)  |      +ve       |        \n",
      "\n",
      "Learned per-output noise variances:\n",
      "  output 0: 0.00111795\n",
      "  output 1: 0.0001\n",
      "  output 2: 0.0001\n",
      "\n",
      "=== MOGP Case 2: 10 train / 20 test ===\n",
      "LML (overall): 39.677576\n",
      "RMSE per output: [0.0928 0.0937 0.0604]  | mean: 0.0823\n",
      "NLL  per output: [-1.0283 -1.0362 -1.5142]  | mean: -1.1929\n",
      "Training time: 2.356s\n",
      "RMSE prediction missing points (joint GP model): 0.012966288994401828\n",
      "NLL prediction missing points (joint GP model): -2.377724545098436\n",
      "[Condition on output 0]  Baseline RMSE (others): [0.0937 0.0604] | mean: 0.077\n",
      "[Condition on output 0]  Cond.   RMSE (others): [0.0221 0.0142] | mean: 0.0182\n",
      "[Condition on output 0]  Baseline NLL (others): [-1.0362 -1.5142] | mean: -1.2752\n",
      "[Condition on output 0]  Cond.   NLL (others): [-2.3058 -2.7071] | mean: -2.5065\n"
     ]
    },
    {
     "data": {
      "application/vnd.jupyter.widget-view+json": {
       "model_id": "477606bc6029464689ee1bc084fa5dd1",
       "version_major": 2,
       "version_minor": 0
      },
      "text/plain": [
       "HBox(children=(VBox(children=(IntProgress(value=0, max=10000), HTML(value=''))), Box(children=(HTML(value=''),…"
      ]
     },
     "metadata": {},
     "output_type": "display_data"
    },
    {
     "name": "stderr",
     "output_type": "stream",
     "text": [
      "reconstraining parameters rbf1.variance\n",
      "reconstraining parameters rbf1.lengthscale\n",
      "reconstraining parameters rbf2.variance\n",
      "reconstraining parameters rbf2.lengthscale\n",
      "reconstraining parameters rbf3.variance\n",
      "reconstraining parameters rbf3.lengthscale\n",
      "reconstraining parameters gp.mixed_noise.Gaussian_noise_0.variance\n",
      "reconstraining parameters gp.mixed_noise.Gaussian_noise_1.variance\n"
     ]
    },
    {
     "name": "stdout",
     "output_type": "stream",
     "text": [
      "Model detail optimized params:\n",
      "   \u001b[1msum.                 \u001b[0;0m  |                   value  |  constraints   |  priors\n",
      "  \u001b[1mICM1.rbf1.variance   \u001b[0;0m  |  0.00010000000001493219  |  0.0001,100.0  |        \n",
      "  \u001b[1mICM1.rbf1.lengthscale\u001b[0;0m  |       99.99999999974519  |  0.0001,100.0  |        \n",
      "  \u001b[1mICM1.B1.W            \u001b[0;0m  |                  (3, 3)  |                |        \n",
      "  \u001b[1mICM1.B1.kappa        \u001b[0;0m  |                    (3,)  |      +ve       |        \n",
      "  \u001b[1mICM2.rbf2.variance   \u001b[0;0m  |       99.93707320085723  |  0.0001,100.0  |        \n",
      "  \u001b[1mICM2.rbf2.lengthscale\u001b[0;0m  |      22.581233591599688  |  0.0001,100.0  |        \n",
      "  \u001b[1mICM2.B2.W            \u001b[0;0m  |                  (3, 3)  |                |        \n",
      "  \u001b[1mICM2.B2.kappa        \u001b[0;0m  |                    (3,)  |      +ve       |        \n",
      "  \u001b[1mICM3.rbf3.variance   \u001b[0;0m  |  0.00010000000050082383  |  0.0001,100.0  |        \n",
      "  \u001b[1mICM3.rbf3.lengthscale\u001b[0;0m  |       99.99999992142371  |  0.0001,100.0  |        \n",
      "  \u001b[1mICM3.B3.W            \u001b[0;0m  |                  (3, 3)  |                |        \n",
      "  \u001b[1mICM3.B3.kappa        \u001b[0;0m  |                    (3,)  |      +ve       |        \n",
      "\n",
      "Learned per-output noise variances:\n",
      "  output 0: 0.00104043\n",
      "  output 1: 0.0001\n",
      "  output 2: 0.0001\n",
      "\n",
      "=== MOGP Case 3: 20 train / 40 test ===\n",
      "LML (overall): 90.896302\n",
      "RMSE per output: [0.0554 0.03   0.0276]  | mean: 0.0377\n",
      "NLL  per output: [-1.6073 -2.2788 -2.3342]  | mean: -2.0734\n",
      "Training time: 12.091s\n",
      "RMSE prediction missing points (joint GP model): 0.025692783216439325\n",
      "NLL prediction missing points (joint GP model): -2.164977091109433\n",
      "[Condition on output 0]  Baseline RMSE (others): [0.03   0.0276] | mean: 0.0288\n",
      "[Condition on output 0]  Cond.   RMSE (others): [0.0142 0.0116] | mean: 0.0129\n",
      "[Condition on output 0]  Baseline NLL (others): [-2.2788 -2.3342] | mean: -2.3065\n",
      "[Condition on output 0]  Cond.   NLL (others): [-2.8086 -2.9182] | mean: -2.8634\n"
     ]
    },
    {
     "name": "stderr",
     "output_type": "stream",
     "text": [
      "reconstraining parameters gp.mixed_noise.Gaussian_noise_2.variance\n"
     ]
    },
    {
     "data": {
      "application/vnd.jupyter.widget-view+json": {
       "model_id": "7018dc79beb24503be099160cac384d0",
       "version_major": 2,
       "version_minor": 0
      },
      "text/plain": [
       "HBox(children=(VBox(children=(IntProgress(value=0, max=10000), HTML(value=''))), Box(children=(HTML(value=''),…"
      ]
     },
     "metadata": {},
     "output_type": "display_data"
    },
    {
     "name": "stderr",
     "output_type": "stream",
     "text": [
      "reconstraining parameters rbf1.variance\n",
      "reconstraining parameters rbf1.lengthscale\n",
      "reconstraining parameters rbf2.variance\n",
      "reconstraining parameters rbf2.lengthscale\n",
      "reconstraining parameters rbf3.variance\n",
      "reconstraining parameters rbf3.lengthscale\n"
     ]
    },
    {
     "name": "stdout",
     "output_type": "stream",
     "text": [
      "Model detail optimized params:\n",
      "   \u001b[1msum.                 \u001b[0;0m  |                   value  |  constraints   |  priors\n",
      "  \u001b[1mICM1.rbf1.variance   \u001b[0;0m  |      0.0737246860819841  |  0.0001,100.0  |        \n",
      "  \u001b[1mICM1.rbf1.lengthscale\u001b[0;0m  |       18.26215532883347  |  0.0001,100.0  |        \n",
      "  \u001b[1mICM1.B1.W            \u001b[0;0m  |                  (3, 3)  |                |        \n",
      "  \u001b[1mICM1.B1.kappa        \u001b[0;0m  |                    (3,)  |      +ve       |        \n",
      "  \u001b[1mICM2.rbf2.variance   \u001b[0;0m  |      0.4177178419833954  |  0.0001,100.0  |        \n",
      "  \u001b[1mICM2.rbf2.lengthscale\u001b[0;0m  |       99.99999999949361  |  0.0001,100.0  |        \n",
      "  \u001b[1mICM2.B2.W            \u001b[0;0m  |                  (3, 3)  |                |        \n",
      "  \u001b[1mICM2.B2.kappa        \u001b[0;0m  |                    (3,)  |      +ve       |        \n",
      "  \u001b[1mICM3.rbf3.variance   \u001b[0;0m  |  0.00010000000001312128  |  0.0001,100.0  |        \n",
      "  \u001b[1mICM3.rbf3.lengthscale\u001b[0;0m  |                   100.0  |  0.0001,100.0  |        \n",
      "  \u001b[1mICM3.B3.W            \u001b[0;0m  |                  (3, 3)  |                |        \n",
      "  \u001b[1mICM3.B3.kappa        \u001b[0;0m  |                    (3,)  |      +ve       |        \n",
      "\n",
      "Learned per-output noise variances:\n",
      "  output 0: 0.0001\n",
      "  output 1: 0.0001\n",
      "  output 2: 0.0001\n",
      "\n",
      "=== MOGP Case 4: 40 train / 80 test ===\n",
      "LML (overall): 226.969445\n",
      "RMSE per output: [0.0219 0.0136 0.0146]  | mean: 0.0167\n",
      "NLL  per output: [-2.1794 -2.8984 -2.827 ]  | mean: -2.6349\n",
      "Training time: 30.663s\n",
      "RMSE prediction missing points (joint GP model): 0.025220146051798932\n",
      "NLL prediction missing points (joint GP model): -1.3232348244544427\n",
      "[Condition on output 0]  Baseline RMSE (others): [0.0136 0.0146] | mean: 0.0141\n",
      "[Condition on output 0]  Cond.   RMSE (others): [0.0135 0.0135] | mean: 0.0135\n",
      "[Condition on output 0]  Baseline NLL (others): [-2.8984 -2.827 ] | mean: -2.8627\n",
      "[Condition on output 0]  Cond.   NLL (others): [-2.861  -2.8949] | mean: -2.878\n"
     ]
    },
    {
     "name": "stderr",
     "output_type": "stream",
     "text": [
      "reconstraining parameters gp.mixed_noise.Gaussian_noise_0.variance\n",
      "reconstraining parameters gp.mixed_noise.Gaussian_noise_1.variance\n",
      "reconstraining parameters gp.mixed_noise.Gaussian_noise_2.variance\n"
     ]
    },
    {
     "data": {
      "application/vnd.jupyter.widget-view+json": {
       "model_id": "d4f4ee8857614e888d0612dc5b3423b3",
       "version_major": 2,
       "version_minor": 0
      },
      "text/plain": [
       "HBox(children=(VBox(children=(IntProgress(value=0, max=10000), HTML(value=''))), Box(children=(HTML(value=''),…"
      ]
     },
     "metadata": {},
     "output_type": "display_data"
    },
    {
     "name": "stdout",
     "output_type": "stream",
     "text": [
      "Model detail optimized params:\n",
      "   \u001b[1msum.                 \u001b[0;0m  |                   value  |  constraints   |  priors\n",
      "  \u001b[1mICM1.rbf1.variance   \u001b[0;0m  |       1.115548376673882  |  0.0001,100.0  |        \n",
      "  \u001b[1mICM1.rbf1.lengthscale\u001b[0;0m  |       20.92826578794924  |  0.0001,100.0  |        \n",
      "  \u001b[1mICM1.B1.W            \u001b[0;0m  |                  (3, 3)  |                |        \n",
      "  \u001b[1mICM1.B1.kappa        \u001b[0;0m  |                    (3,)  |      +ve       |        \n",
      "  \u001b[1mICM2.rbf2.variance   \u001b[0;0m  |  0.00010009962247470995  |  0.0001,100.0  |        \n",
      "  \u001b[1mICM2.rbf2.lengthscale\u001b[0;0m  |       99.08602695765218  |  0.0001,100.0  |        \n",
      "  \u001b[1mICM2.B2.W            \u001b[0;0m  |                  (3, 3)  |                |        \n",
      "  \u001b[1mICM2.B2.kappa        \u001b[0;0m  |                    (3,)  |      +ve       |        \n",
      "  \u001b[1mICM3.rbf3.variance   \u001b[0;0m  |   0.0001002004525433109  |  0.0001,100.0  |        \n",
      "  \u001b[1mICM3.rbf3.lengthscale\u001b[0;0m  |       99.99924929641602  |  0.0001,100.0  |        \n",
      "  \u001b[1mICM3.B3.W            \u001b[0;0m  |                  (3, 3)  |                |        \n",
      "  \u001b[1mICM3.B3.kappa        \u001b[0;0m  |                    (3,)  |      +ve       |        \n",
      "\n",
      "Learned per-output noise variances:\n",
      "  output 0: 0.000329741\n",
      "  output 1: 0.000100023\n",
      "  output 2: 0.000100026\n",
      "\n",
      "=== MOGP Case 5: 60 train / 120 test ===\n",
      "LML (overall): 370.808076\n",
      "RMSE per output: [0.0204 0.0113 0.0102]  | mean: 0.014\n",
      "NLL  per output: [-2.4692 -3.0313 -3.138 ]  | mean: -2.8795\n",
      "Training time: 19.199s\n",
      "RMSE prediction missing points (joint GP model): 0.022528202575584057\n",
      "NLL prediction missing points (joint GP model): -2.3260703865167582\n"
     ]
    },
    {
     "name": "stderr",
     "output_type": "stream",
     "text": [
      "reconstraining parameters rbf1.variance\n",
      "reconstraining parameters rbf1.lengthscale\n",
      "reconstraining parameters rbf2.variance\n",
      "reconstraining parameters rbf2.lengthscale\n",
      "reconstraining parameters rbf3.variance\n",
      "reconstraining parameters rbf3.lengthscale\n",
      "reconstraining parameters gp.mixed_noise.Gaussian_noise_0.variance\n",
      "reconstraining parameters gp.mixed_noise.Gaussian_noise_1.variance\n",
      "reconstraining parameters gp.mixed_noise.Gaussian_noise_2.variance\n"
     ]
    },
    {
     "name": "stdout",
     "output_type": "stream",
     "text": [
      "[Condition on output 0]  Baseline RMSE (others): [0.0113 0.0102] | mean: 0.0107\n",
      "[Condition on output 0]  Cond.   RMSE (others): [0.0112 0.0104] | mean: 0.0108\n",
      "[Condition on output 0]  Baseline NLL (others): [-3.0313 -3.138 ] | mean: -3.0846\n",
      "[Condition on output 0]  Cond.   NLL (others): [-3.0466 -3.1327] | mean: -3.0896\n"
     ]
    },
    {
     "data": {
      "application/vnd.jupyter.widget-view+json": {
       "model_id": "6f39ab01947c421d91a5f13d9c60ea47",
       "version_major": 2,
       "version_minor": 0
      },
      "text/plain": [
       "HBox(children=(VBox(children=(IntProgress(value=0, max=10000), HTML(value=''))), Box(children=(HTML(value=''),…"
      ]
     },
     "metadata": {},
     "output_type": "display_data"
    },
    {
     "name": "stdout",
     "output_type": "stream",
     "text": [
      "Model detail optimized params:\n",
      "   \u001b[1msum.                 \u001b[0;0m  |                   value  |  constraints   |  priors\n",
      "  \u001b[1mICM1.rbf1.variance   \u001b[0;0m  |      0.5144544024570961  |  0.0001,100.0  |        \n",
      "  \u001b[1mICM1.rbf1.lengthscale\u001b[0;0m  |       29.67233798663433  |  0.0001,100.0  |        \n",
      "  \u001b[1mICM1.B1.W            \u001b[0;0m  |                  (3, 3)  |                |        \n",
      "  \u001b[1mICM1.B1.kappa        \u001b[0;0m  |                    (3,)  |      +ve       |        \n",
      "  \u001b[1mICM2.rbf2.variance   \u001b[0;0m  |    0.000100416259155851  |  0.0001,100.0  |        \n",
      "  \u001b[1mICM2.rbf2.lengthscale\u001b[0;0m  |       99.99995643578691  |  0.0001,100.0  |        \n",
      "  \u001b[1mICM2.B2.W            \u001b[0;0m  |                  (3, 3)  |                |        \n",
      "  \u001b[1mICM2.B2.kappa        \u001b[0;0m  |                    (3,)  |      +ve       |        \n",
      "  \u001b[1mICM3.rbf3.variance   \u001b[0;0m  |  0.00010532585740435022  |  0.0001,100.0  |        \n",
      "  \u001b[1mICM3.rbf3.lengthscale\u001b[0;0m  |         99.999999783722  |  0.0001,100.0  |        \n",
      "  \u001b[1mICM3.B3.W            \u001b[0;0m  |                  (3, 3)  |                |        \n",
      "  \u001b[1mICM3.B3.kappa        \u001b[0;0m  |                    (3,)  |      +ve       |        \n",
      "\n",
      "Learned per-output noise variances:\n",
      "  output 0: 0.000254127\n",
      "  output 1: 0.0001\n",
      "  output 2: 0.0001\n",
      "\n",
      "=== MOGP Case 6: 100 train / 200 test ===\n",
      "LML (overall): 683.549644\n",
      "RMSE per output: [0.0208 0.0098 0.0107]  | mean: 0.0138\n",
      "NLL  per output: [-2.3873 -3.1928 -3.1071]  | mean: -2.8957\n",
      "Training time: 44.026s\n",
      "RMSE prediction missing points (joint GP model): 0.016389580323028397\n",
      "NLL prediction missing points (joint GP model): -2.6908761052247416\n"
     ]
    },
    {
     "name": "stderr",
     "output_type": "stream",
     "text": [
      "reconstraining parameters rbf1.variance\n",
      "reconstraining parameters rbf1.lengthscale\n",
      "reconstraining parameters rbf2.variance\n",
      "reconstraining parameters rbf2.lengthscale\n",
      "reconstraining parameters rbf3.variance\n",
      "reconstraining parameters rbf3.lengthscale\n",
      "reconstraining parameters gp.mixed_noise.Gaussian_noise_0.variance\n"
     ]
    },
    {
     "name": "stdout",
     "output_type": "stream",
     "text": [
      "[Condition on output 0]  Baseline RMSE (others): [0.0098 0.0107] | mean: 0.0103\n",
      "[Condition on output 0]  Cond.   RMSE (others): [0.0099 0.011 ] | mean: 0.0104\n",
      "[Condition on output 0]  Baseline NLL (others): [-3.1928 -3.1071] | mean: -3.15\n",
      "[Condition on output 0]  Cond.   NLL (others): [-3.1893 -3.0914] | mean: -3.1404\n"
     ]
    },
    {
     "name": "stderr",
     "output_type": "stream",
     "text": [
      "reconstraining parameters gp.mixed_noise.Gaussian_noise_1.variance\n",
      "reconstraining parameters gp.mixed_noise.Gaussian_noise_2.variance\n"
     ]
    },
    {
     "data": {
      "application/vnd.jupyter.widget-view+json": {
       "model_id": "cc323a930ad644fa90c677552413e69c",
       "version_major": 2,
       "version_minor": 0
      },
      "text/plain": [
       "HBox(children=(VBox(children=(IntProgress(value=0, max=10000), HTML(value=''))), Box(children=(HTML(value=''),…"
      ]
     },
     "metadata": {},
     "output_type": "display_data"
    },
    {
     "name": "stdout",
     "output_type": "stream",
     "text": [
      "Model detail optimized params:\n",
      "   \u001b[1msum.                 \u001b[0;0m  |                   value  |  constraints   |  priors\n",
      "  \u001b[1mICM1.rbf1.variance   \u001b[0;0m  |  0.00010003367355382142  |  0.0001,100.0  |        \n",
      "  \u001b[1mICM1.rbf1.lengthscale\u001b[0;0m  |       99.99999999999996  |  0.0001,100.0  |        \n",
      "  \u001b[1mICM1.B1.W            \u001b[0;0m  |                  (3, 3)  |                |        \n",
      "  \u001b[1mICM1.B1.kappa        \u001b[0;0m  |                    (3,)  |      +ve       |        \n",
      "  \u001b[1mICM2.rbf2.variance   \u001b[0;0m  |     0.10487056067723026  |  0.0001,100.0  |        \n",
      "  \u001b[1mICM2.rbf2.lengthscale\u001b[0;0m  |      27.625048440582685  |  0.0001,100.0  |        \n",
      "  \u001b[1mICM2.B2.W            \u001b[0;0m  |                  (3, 3)  |                |        \n",
      "  \u001b[1mICM2.B2.kappa        \u001b[0;0m  |                    (3,)  |      +ve       |        \n",
      "  \u001b[1mICM3.rbf3.variance   \u001b[0;0m  |       1.210116170245312  |  0.0001,100.0  |        \n",
      "  \u001b[1mICM3.rbf3.lengthscale\u001b[0;0m  |        99.9999999999996  |  0.0001,100.0  |        \n",
      "  \u001b[1mICM3.B3.W            \u001b[0;0m  |                  (3, 3)  |                |        \n",
      "  \u001b[1mICM3.B3.kappa        \u001b[0;0m  |                    (3,)  |      +ve       |        \n",
      "\n",
      "Learned per-output noise variances:\n",
      "  output 0: 0.000436271\n",
      "  output 1: 0.0001\n",
      "  output 2: 0.0001\n",
      "\n",
      "=== MOGP Case 7: 150 train / 300 test ===\n",
      "LML (overall): 1044.114713\n",
      "RMSE per output: [0.0203 0.0105 0.0106]  | mean: 0.0138\n",
      "NLL  per output: [-2.4759 -3.1397 -3.1222]  | mean: -2.9126\n",
      "Training time: 196.670s\n",
      "RMSE prediction missing points (joint GP model): 0.02115072427039807\n",
      "NLL prediction missing points (joint GP model): -2.438150881402424\n"
     ]
    },
    {
     "name": "stderr",
     "output_type": "stream",
     "text": [
      "reconstraining parameters rbf1.variance\n",
      "reconstraining parameters rbf1.lengthscale\n",
      "reconstraining parameters rbf2.variance\n",
      "reconstraining parameters rbf2.lengthscale\n",
      "reconstraining parameters rbf3.variance\n",
      "reconstraining parameters rbf3.lengthscale\n"
     ]
    },
    {
     "name": "stdout",
     "output_type": "stream",
     "text": [
      "[Condition on output 0]  Baseline RMSE (others): [0.0105 0.0106] | mean: 0.0105\n",
      "[Condition on output 0]  Cond.   RMSE (others): [0.0105 0.0106] | mean: 0.0105\n",
      "[Condition on output 0]  Baseline NLL (others): [-3.1397 -3.1222] | mean: -3.1309\n",
      "[Condition on output 0]  Cond.   NLL (others): [-3.1411 -3.125 ] | mean: -3.133\n"
     ]
    },
    {
     "name": "stderr",
     "output_type": "stream",
     "text": [
      "reconstraining parameters gp.mixed_noise.Gaussian_noise_0.variance\n",
      "reconstraining parameters gp.mixed_noise.Gaussian_noise_1.variance\n",
      "reconstraining parameters gp.mixed_noise.Gaussian_noise_2.variance\n"
     ]
    },
    {
     "data": {
      "application/vnd.jupyter.widget-view+json": {
       "model_id": "ce7c6a0fcfba42acb12a2acd2bd02eda",
       "version_major": 2,
       "version_minor": 0
      },
      "text/plain": [
       "HBox(children=(VBox(children=(IntProgress(value=0, max=10000), HTML(value=''))), Box(children=(HTML(value=''),…"
      ]
     },
     "metadata": {},
     "output_type": "display_data"
    },
    {
     "name": "stdout",
     "output_type": "stream",
     "text": [
      "Model detail optimized params:\n",
      "   \u001b[1msum.                 \u001b[0;0m  |                   value  |  constraints   |  priors\n",
      "  \u001b[1mICM1.rbf1.variance   \u001b[0;0m  |      0.2249108784259336  |  0.0001,100.0  |        \n",
      "  \u001b[1mICM1.rbf1.lengthscale\u001b[0;0m  |       99.99998736710931  |  0.0001,100.0  |        \n",
      "  \u001b[1mICM1.B1.W            \u001b[0;0m  |                  (3, 3)  |                |        \n",
      "  \u001b[1mICM1.B1.kappa        \u001b[0;0m  |                    (3,)  |      +ve       |        \n",
      "  \u001b[1mICM2.rbf2.variance   \u001b[0;0m  |  0.00010000000000067499  |  0.0001,100.0  |        \n",
      "  \u001b[1mICM2.rbf2.lengthscale\u001b[0;0m  |       99.99999999996237  |  0.0001,100.0  |        \n",
      "  \u001b[1mICM2.B2.W            \u001b[0;0m  |                  (3, 3)  |                |        \n",
      "  \u001b[1mICM2.B2.kappa        \u001b[0;0m  |                    (3,)  |      +ve       |        \n",
      "  \u001b[1mICM3.rbf3.variance   \u001b[0;0m  |    0.026840553871225966  |  0.0001,100.0  |        \n",
      "  \u001b[1mICM3.rbf3.lengthscale\u001b[0;0m  |      21.813709253124134  |  0.0001,100.0  |        \n",
      "  \u001b[1mICM3.B3.W            \u001b[0;0m  |                  (3, 3)  |                |        \n",
      "  \u001b[1mICM3.B3.kappa        \u001b[0;0m  |                    (3,)  |      +ve       |        \n",
      "\n",
      "Learned per-output noise variances:\n",
      "  output 0: 0.000388587\n",
      "  output 1: 0.0001\n",
      "  output 2: 0.0001\n",
      "\n",
      "=== MOGP Case 8: 200 train / 400 test ===\n",
      "LML (overall): 1420.170201\n",
      "RMSE per output: [0.0198 0.0103 0.01  ]  | mean: 0.0134\n",
      "NLL  per output: [-2.5028 -3.1589 -3.186 ]  | mean: -2.9492\n",
      "Training time: 285.234s\n",
      "RMSE prediction missing points (joint GP model): 0.020895036958080346\n",
      "NLL prediction missing points (joint GP model): -2.447516930874143\n",
      "[Condition on output 0]  Baseline RMSE (others): [0.0103 0.01  ] | mean: 0.0102\n",
      "[Condition on output 0]  Cond.   RMSE (others): [0.0103 0.01  ] | mean: 0.0101\n",
      "[Condition on output 0]  Baseline NLL (others): [-3.1589 -3.186 ] | mean: -3.1724\n",
      "[Condition on output 0]  Cond.   NLL (others): [-3.1628 -3.188 ] | mean: -3.1754\n"
     ]
    }
   ],
   "source": [
    "# Define your size cases (same as SOGP)\n",
    "size_cases = [(5, 10), (10, 20), (20, 40), (40, 80), (60, 120), (100, 200), (150, 300), (200, 400)]\n",
    "\n",
    "# set model params option\n",
    "Q = 3            # number of latent components in LCM\n",
    "rank = 3      # full rank structure (each group have R = 3, Q = 3)\n",
    "\n",
    "ard = False      # treat all the features with equal affect to the length scale\n",
    "max_iters = 10000\n",
    "\n",
    "# Data options (match how you generated SOGP data)\n",
    "d, S = 5, 3\n",
    "\n",
    "p_missing = 0.5\n",
    "output_missing_data_index = 0 #output 1\n",
    "num_output = S\n",
    "\n",
    "all_results_mogp = []\n",
    "\n",
    "for i, (ntr, nte) in enumerate(size_cases):\n",
    "    # generate data set\n",
    "    X_train, Y_train, X_test, Y_test, f_train, f_test, truth, x_scaler = generate_quadratic_dataset(n_train = ntr, n_test = nte, d = d, S = S, seed = seeds + i, noise_levels=(0.02, 0.01, 0.01), weight_range=(0.5, 1.1))\n",
    "\n",
    "    # number of training point\n",
    "    num_samples = X_train.shape[0]\n",
    "    \n",
    "    # getting the number of missing point\n",
    "    n_missing = int(num_samples * p_missing)\n",
    "    \n",
    "    # generate the random indicies\n",
    "    missing_indicies = (np.random.choice(num_samples, size=n_missing, replace=False))\n",
    "    \n",
    "    # generate the mask list\n",
    "    mask_list = generate_masked(num_samples, num_output, missing_indicies, output_missing_data_index)\n",
    "\n",
    "    # getting the data\n",
    "    X_list = [X_train[mask_list[k]] for k in range(num_output)]\n",
    "    Y_obs = [Y_train[:, k][mask_list[k]] for k in range(num_output)]\n",
    "\n",
    "    # train the MOGP\n",
    "    mogp, t_mogp = train_mogp_lcm(\n",
    "        X_list, Y_obs, Q=Q, rank=rank, ard=ard, max_iters=max_iters\n",
    "    )\n",
    "\n",
    "    # evaluate\n",
    "    rmse, nll = eval_mogp_augmented(mogp, X_test, Y_test, make_scatter=False)\n",
    "\n",
    "    # print model hyperparams after train\n",
    "    print(\"Model detail optimized params:\\n\", mogp.sum)\n",
    "\n",
    "    print(\"\\nLearned per-output noise variances:\")\n",
    "    for s, lik in enumerate(mogp.likelihood.likelihoods_list):\n",
    "        try:\n",
    "            val = float(lik.variance[0])\n",
    "        except Exception:\n",
    "            val = float(np.asarray(lik.variance)[0])\n",
    "        print(f\"  output {s}: {val:.6g}\")\n",
    "\n",
    "    \n",
    "    # collect + print output data\n",
    "    lml = float(mogp.log_likelihood())\n",
    "    print(f\"\\n=== MOGP Case {i+1}: {ntr} train / {nte} test ===\")\n",
    "    print(\"LML (overall):\", round(lml, 6))\n",
    "    print(\"RMSE per output:\", np.round(rmse, 4), \" | mean:\", np.round(rmse.mean(), 4))\n",
    "    print(\"NLL  per output:\", np.round(nll, 4),  \" | mean:\", np.round(nll.mean(), 4))\n",
    "    print(f\"Training time: {t_mogp:.3f}s\")\n",
    "\n",
    "    # --------------------------------------PREDICT THE MISSING POINT------------------------------------------------\n",
    "    \n",
    "    #prediction of missing data using the joint model\n",
    "    X_miss = X_train[missing_indicies,:] # getting the missing input point\n",
    "\n",
    "    Y_miss_true = Y_train[missing_indicies, output_missing_data_index] # getting the true value of the missing input point\n",
    "\n",
    "    # j = output_missing_data_index\n",
    "    # Ymd = {\"output_index\": np.full((X_miss.shape[0], 1), j, dtype=int)}\n",
    "    s_idx = np.full((X_miss.shape[0], 1), output_missing_data_index, dtype=int)\n",
    "    Xte_aug = np.hstack([X_miss, s_idx])\n",
    "    Ymd = {'output_index': s_idx}\n",
    "    \n",
    "    # miss_mu_joint, miss_var_joint = mogp.predict(Xte_aug, Y_metadata=Ymd)\n",
    "    \n",
    "    miss_mu_joint, miss_var_y_joint = mogp.predict(Xte_aug, Y_metadata=Ymd, include_likelihood=True) ## Change here\n",
    "    miss_nll_joint = predictive_test_nll(Y_miss_true, miss_mu_joint, miss_var_y_joint) \n",
    "\n",
    "    \n",
    "    # getting the prediction result for the missing point using the model that train only in a part of point\n",
    "    miss_rmse_joint = np.sqrt(mean_squared_error(Y_miss_true, miss_mu_joint))\n",
    "    ##\n",
    "    # miss_nll_joint = predictive_test_nll(Y_miss_true, miss_mu_joint, miss_var_joint) ### I change here\n",
    "\n",
    "    print(\"RMSE prediction missing points (joint GP model):\", miss_rmse_joint)\n",
    "    print(\"NLL prediction missing points (joint GP model):\", miss_nll_joint)\n",
    "    \n",
    "    # ----------------------------------------IMPROVE PREDICTION USING THE CORRECT INPUT------------------------------\n",
    "    # known_output_idx = 1\n",
    "    known_output_idx = 0\n",
    "    \n",
    "    R_known = get_output_noise_var(mogp, known_output_idx)  # learned noise for the known output\n",
    "\n",
    "    base, cond, details = eval_mogp_with_test_condition(\n",
    "        mogp, X_test, Y_test,\n",
    "        known_output_idx=known_output_idx,\n",
    "        obs_var_at_test=R_known\n",
    "    )\n",
    "    \n",
    "    # compare only across the other outputs (exclude the known one)\n",
    "    print(f\"[Condition on output {known_output_idx}]  Baseline RMSE (others):\", np.round(base[\"rmse\"], 4),\n",
    "          \"| mean:\", np.round(base[\"rmse\"].mean(), 4))\n",
    "    print(f\"[Condition on output {known_output_idx}]  Cond.   RMSE (others):\", np.round(cond[\"rmse\"], 4),\n",
    "          \"| mean:\", np.round(cond[\"rmse\"].mean(), 4))\n",
    "    \n",
    "    print(f\"[Condition on output {known_output_idx}]  Baseline NLL (others):\", np.round(base[\"nll\"], 4),\n",
    "          \"| mean:\", np.round(base[\"nll\"].mean(), 4))\n",
    "    print(f\"[Condition on output {known_output_idx}]  Cond.   NLL (others):\", np.round(cond[\"nll\"], 4),\n",
    "          \"| mean:\", np.round(cond[\"nll\"].mean(), 4))\n",
    "\n",
    "    # --------------------------\n",
    "\n",
    "    all_results_mogp.append({\n",
    "        \"case\": (ntr, nte),\n",
    "        \"rmse\": rmse,\n",
    "        \"nll\": nll,\n",
    "        \"rmse_mean\": rmse.mean(),\n",
    "        \"nll_mean\": nll.mean(),\n",
    "        \"lml\": lml,\n",
    "        \"train_time\": t_mogp,\n",
    "        \"missing_rmse\": miss_rmse_joint,\n",
    "        \"missing_nll\": miss_nll_joint,\n",
    "        ### information when taking the conditional using the known value\n",
    "        \"cond_known_output\": known_output_idx,\n",
    "        \"cond_base_rmse\": base[\"rmse\"],\n",
    "        \"cond_base_rmse_mean\": base[\"rmse\"].mean(),\n",
    "        \"cond_rmse\": cond[\"rmse\"],\n",
    "        \"cond_rmse_mean\": cond[\"rmse\"].mean(),\n",
    "        \"cond_base_nll\": base[\"nll\"],\n",
    "        \"cond_base_nll_mean\": base[\"nll\"].mean(),\n",
    "        \"cond_nll\": cond[\"nll\"],\n",
    "        \"cond_nll_mean\": cond[\"nll\"].mean()\n",
    "    })"
   ]
  },
  {
   "cell_type": "code",
   "execution_count": 31,
   "id": "694f5769-4047-488e-be47-1f4e28cf714b",
   "metadata": {},
   "outputs": [],
   "source": [
    "# all_results_mogp"
   ]
  },
  {
   "cell_type": "code",
   "execution_count": 32,
   "id": "f195a036-4ccb-4ce6-a6c3-929c19f5db0d",
   "metadata": {},
   "outputs": [
    {
     "name": "stdout",
     "output_type": "stream",
     "text": [
      "{'case': (5, 10), 'lmls': array([-1.3571, -0.246 , -0.5549]), 'rmses': array([0.1072, 0.1117, 0.1239]), 'nlls': array([-0.69  , -0.9161, -0.6225]), 'lml_mean': -0.7193490718087195, 'rmse_mean': 0.11427859885457416, 'nll_mean': -0.7428917878619634, 'time': 0.145504299987806, 'miss_rmse': 0.06260740487929282, 'miss_nlls': -0.5049027052398245}\n",
      "{'case': (10, 20), 'lmls': array([-3.2482, -0.4856,  2.6304]), 'rmses': array([0.3528, 0.0906, 0.0533]), 'nlls': array([ 0.3915, -0.8363, -1.5837]), 'lml_mean': -0.36782108325294455, 'rmse_mean': 0.16560125706517098, 'nll_mean': -0.6761840217729755, 'time': 0.1510344999987865, 'miss_rmse': 0.6906920142464941, 'miss_nlls': 2.1463292813185157}\n",
      "{'case': (20, 40), 'lmls': array([-9.2564, 11.4916, 10.8067]), 'rmses': array([0.2021, 0.035 , 0.0277]), 'nlls': array([ 0.2637, -2.0517, -2.269 ]), 'lml_mean': 4.347288074167767, 'rmse_mean': 0.08827103398869084, 'nll_mean': -1.3523289023338736, 'time': 0.20798379997722805, 'miss_rmse': 0.1717749596712357, 'miss_nlls': -0.2293630544072533}\n",
      "{'case': (40, 80), 'lmls': array([-2.5119, 49.7582, 42.4446]), 'rmses': array([0.1245, 0.0201, 0.015 ]), 'nlls': array([-0.8853, -2.558 , -2.7079]), 'lml_mean': 29.89694814197142, 'rmse_mean': 0.05318998266339914, 'nll_mean': -2.050366376580968, 'time': 0.19682099999045022, 'miss_rmse': 0.11888467945591986, 'miss_nlls': -0.954010309813164}\n",
      "{'case': (60, 120), 'lmls': array([ 24.7039, 109.6565, 114.5505]), 'rmses': array([0.054 , 0.0136, 0.011 ]), 'nlls': array([-1.6303, -2.8633, -3.0286]), 'lml_mean': 82.97030800259057, 'rmse_mean': 0.026163235348076908, 'nll_mean': -2.507426571449471, 'time': 0.2319271000014851, 'miss_rmse': 0.06453667086808221, 'miss_nlls': -1.559484355860064}\n",
      "{'case': (100, 200), 'lmls': array([ 72.7249, 234.6602, 237.341 ]), 'rmses': array([0.0238, 0.0115, 0.0111]), 'nlls': array([-2.2722, -3.0416, -3.0626]), 'lml_mean': 181.57536799060304, 'rmse_mean': 0.015464436270584048, 'nll_mean': -2.792132614690449, 'time': 0.5156207000109134, 'miss_rmse': 0.01998895832119532, 'miss_nlls': -2.4887075686365985}\n",
      "{'case': (150, 300), 'lmls': array([116.7071, 378.9706, 385.7187]), 'rmses': array([0.0247, 0.0113, 0.0117]), 'nlls': array([-2.2794, -3.0594, -3.0386]), 'lml_mean': 293.7987961026522, 'rmse_mean': 0.01590514640011685, 'nll_mean': -2.792454815597982, 'time': 0.6222207999817329, 'miss_rmse': 0.023958122227517177, 'miss_nlls': -2.2857589063765835}\n",
      "{'case': (200, 400), 'lmls': array([187.0795, 531.8914, 551.9863]), 'rmses': array([0.0223, 0.0111, 0.0103]), 'nlls': array([-2.3879, -3.0961, -3.1536]), 'lml_mean': 423.6523696805507, 'rmse_mean': 0.014564781587638796, 'nll_mean': -2.879192234939205, 'time': 0.7301957000017865, 'miss_rmse': 0.02184626254535682, 'miss_nlls': -2.390191349429206}\n"
     ]
    },
    {
     "data": {
      "text/html": [
       "<div>\n",
       "<style scoped>\n",
       "    .dataframe tbody tr th:only-of-type {\n",
       "        vertical-align: middle;\n",
       "    }\n",
       "\n",
       "    .dataframe tbody tr th {\n",
       "        vertical-align: top;\n",
       "    }\n",
       "\n",
       "    .dataframe thead th {\n",
       "        text-align: right;\n",
       "    }\n",
       "</style>\n",
       "<table border=\"1\" class=\"dataframe\">\n",
       "  <thead>\n",
       "    <tr style=\"text-align: right;\">\n",
       "      <th></th>\n",
       "      <th>case</th>\n",
       "      <th>SOGP_RMSE</th>\n",
       "      <th>MOGP_RMSE</th>\n",
       "      <th>SOGP_NLL</th>\n",
       "      <th>MOGP_NLL</th>\n",
       "      <th>SOGP_time</th>\n",
       "      <th>MOGP_time</th>\n",
       "    </tr>\n",
       "  </thead>\n",
       "  <tbody>\n",
       "    <tr>\n",
       "      <th>0</th>\n",
       "      <td>5/10</td>\n",
       "      <td>0.114279</td>\n",
       "      <td>0.116251</td>\n",
       "      <td>-0.742892</td>\n",
       "      <td>-0.938816</td>\n",
       "      <td>0.145504</td>\n",
       "      <td>0.505156</td>\n",
       "    </tr>\n",
       "    <tr>\n",
       "      <th>1</th>\n",
       "      <td>10/20</td>\n",
       "      <td>0.165601</td>\n",
       "      <td>0.082309</td>\n",
       "      <td>-0.676184</td>\n",
       "      <td>-1.192878</td>\n",
       "      <td>0.151034</td>\n",
       "      <td>2.356130</td>\n",
       "    </tr>\n",
       "    <tr>\n",
       "      <th>2</th>\n",
       "      <td>20/40</td>\n",
       "      <td>0.088271</td>\n",
       "      <td>0.037651</td>\n",
       "      <td>-1.352329</td>\n",
       "      <td>-2.073423</td>\n",
       "      <td>0.207984</td>\n",
       "      <td>12.090950</td>\n",
       "    </tr>\n",
       "    <tr>\n",
       "      <th>3</th>\n",
       "      <td>40/80</td>\n",
       "      <td>0.053190</td>\n",
       "      <td>0.016723</td>\n",
       "      <td>-2.050366</td>\n",
       "      <td>-2.634907</td>\n",
       "      <td>0.196821</td>\n",
       "      <td>30.662946</td>\n",
       "    </tr>\n",
       "    <tr>\n",
       "      <th>4</th>\n",
       "      <td>60/120</td>\n",
       "      <td>0.026163</td>\n",
       "      <td>0.013965</td>\n",
       "      <td>-2.507427</td>\n",
       "      <td>-2.879497</td>\n",
       "      <td>0.231927</td>\n",
       "      <td>19.198848</td>\n",
       "    </tr>\n",
       "    <tr>\n",
       "      <th>5</th>\n",
       "      <td>100/200</td>\n",
       "      <td>0.015464</td>\n",
       "      <td>0.013798</td>\n",
       "      <td>-2.792133</td>\n",
       "      <td>-2.895737</td>\n",
       "      <td>0.515621</td>\n",
       "      <td>44.026203</td>\n",
       "    </tr>\n",
       "    <tr>\n",
       "      <th>6</th>\n",
       "      <td>150/300</td>\n",
       "      <td>0.015905</td>\n",
       "      <td>0.013805</td>\n",
       "      <td>-2.792455</td>\n",
       "      <td>-2.912580</td>\n",
       "      <td>0.622221</td>\n",
       "      <td>196.669675</td>\n",
       "    </tr>\n",
       "    <tr>\n",
       "      <th>7</th>\n",
       "      <td>200/400</td>\n",
       "      <td>0.014565</td>\n",
       "      <td>0.013373</td>\n",
       "      <td>-2.879192</td>\n",
       "      <td>-2.949197</td>\n",
       "      <td>0.730196</td>\n",
       "      <td>285.234436</td>\n",
       "    </tr>\n",
       "  </tbody>\n",
       "</table>\n",
       "</div>"
      ],
      "text/plain": [
       "      case  SOGP_RMSE  MOGP_RMSE  SOGP_NLL  MOGP_NLL  SOGP_time   MOGP_time\n",
       "0     5/10   0.114279   0.116251 -0.742892 -0.938816   0.145504    0.505156\n",
       "1    10/20   0.165601   0.082309 -0.676184 -1.192878   0.151034    2.356130\n",
       "2    20/40   0.088271   0.037651 -1.352329 -2.073423   0.207984   12.090950\n",
       "3    40/80   0.053190   0.016723 -2.050366 -2.634907   0.196821   30.662946\n",
       "4   60/120   0.026163   0.013965 -2.507427 -2.879497   0.231927   19.198848\n",
       "5  100/200   0.015464   0.013798 -2.792133 -2.895737   0.515621   44.026203\n",
       "6  150/300   0.015905   0.013805 -2.792455 -2.912580   0.622221  196.669675\n",
       "7  200/400   0.014565   0.013373 -2.879192 -2.949197   0.730196  285.234436"
      ]
     },
     "execution_count": 32,
     "metadata": {},
     "output_type": "execute_result"
    }
   ],
   "source": [
    "import pandas as pd\n",
    "\n",
    "rows = []\n",
    "# index MOGP by case for easy lookup\n",
    "mogp_by_case = {tuple(r[\"case\"]): r for r in all_results_mogp}\n",
    "\n",
    "for r in all_results_sogp:\n",
    "    print(r)\n",
    "    case = tuple(r[\"case\"])\n",
    "    m = mogp_by_case[case]  # assume both ran on the same set of cases\n",
    "\n",
    "    rows.append({\n",
    "        \"case\": f\"{case[0]}/{case[1]}\",\n",
    "        # means\n",
    "        \"SOGP_RMSE\": float(r[\"rmse_mean\"]),\n",
    "        \"MOGP_RMSE\": float(m[\"rmse_mean\"]),\n",
    "        \"SOGP_NLL\":  float(r.get(\"nll_mean\", np.nan)),  # if you added NLLs as suggested\n",
    "        \"MOGP_NLL\":  float(m[\"nll_mean\"]),\n",
    "        # times\n",
    "        \"SOGP_time\": float(r[\"time\"]),        # your stored SOGP time\n",
    "        \"MOGP_time\": float(m[\"train_time\"]),  # your stored MOGP time\n",
    "    })\n",
    "\n",
    "cmp_df = pd.DataFrame(rows)\n",
    "cmp_df"
   ]
  },
  {
   "cell_type": "code",
   "execution_count": 33,
   "id": "4620c746-596c-48fb-9fbb-660a8933dc65",
   "metadata": {},
   "outputs": [
    {
     "data": {
      "image/png": "[encoded data removed]",
      "text/plain": [
       "<Figure size 1000x600 with 1 Axes>"
      ]
     },
     "metadata": {},
     "output_type": "display_data"
    },
    {
     "data": {
      "image/png": "[encoded data removed]",
      "text/plain": [
       "<Figure size 1000x600 with 1 Axes>"
      ]
     },
     "metadata": {},
     "output_type": "display_data"
    }
   ],
   "source": [
    "labels = cmp_df[\"case\"].tolist()\n",
    "x = np.arange(len(labels)); w = 0.3\n",
    "\n",
    "# plot the rmse\n",
    "plt.figure(figsize=(10, 6))\n",
    "plt.bar(x - w/2, cmp_df[\"SOGP_RMSE\"], width=w, label=\"SOGP\", color=\"red\")\n",
    "plt.bar(x + w/2, cmp_df[\"MOGP_RMSE\"], width=w, label=\"MOGP (LMC)\", color=\"blue\")\n",
    "plt.xticks(x, labels)\n",
    "plt.ylabel(\"Mean RMSE\")\n",
    "plt.title(\"SOGP vs MOGP — Mean RMSE by case (Missing data)\")\n",
    "plt.legend(); plt.grid(True, axis='y', alpha=0.25)\n",
    "plt.show()\n",
    "\n",
    "# plot the LLH\n",
    "plt.figure(figsize=(10, 6))\n",
    "plt.bar(x - w/2, cmp_df[\"SOGP_NLL\"], width=w, label=\"SOGP\", color=\"green\")\n",
    "plt.bar(x + w/2, cmp_df[\"MOGP_NLL\"], width=w, label=\"MOGP (LMC)\", color=\"black\")\n",
    "plt.xticks(x, labels)\n",
    "plt.ylabel(\"Mean NLL\")\n",
    "plt.title(\"SOGP vs MOGP — Mean NLL by case (Missing data)\")\n",
    "plt.legend(); plt.grid(True, axis='y', alpha=0.25)\n",
    "plt.show()"
   ]
  },
  {
   "cell_type": "code",
   "execution_count": 34,
   "id": "19383c08-74ae-46b6-b6a7-6adcc1af14ef",
   "metadata": {},
   "outputs": [
    {
     "data": {
      "image/png": "[encoded data removed]",
      "text/plain": [
       "<Figure size 1000x600 with 1 Axes>"
      ]
     },
     "metadata": {},
     "output_type": "display_data"
    }
   ],
   "source": [
    "# training time\n",
    "plt.figure(figsize=(10, 6))\n",
    "plt.plot(cmp_df[\"SOGP_time\"], label=\"SOGP\")\n",
    "plt.plot(cmp_df[\"MOGP_time\"], label=\"MOGP (LMC)\")\n",
    "plt.xticks(x, labels)\n",
    "plt.ylabel(\"Training time (s)\")\n",
    "plt.title(\"SOGP vs MOGP — Training time by dataset\")\n",
    "plt.legend(); plt.grid(True, axis='y', alpha=0.25)\n",
    "plt.show()"
   ]
  },
  {
   "cell_type": "code",
   "execution_count": 35,
   "id": "3a262c5b-47db-4711-b2f3-64fd328659ee",
   "metadata": {},
   "outputs": [
    {
     "data": {
      "text/html": [
       "<div>\n",
       "<style scoped>\n",
       "    .dataframe tbody tr th:only-of-type {\n",
       "        vertical-align: middle;\n",
       "    }\n",
       "\n",
       "    .dataframe tbody tr th {\n",
       "        vertical-align: top;\n",
       "    }\n",
       "\n",
       "    .dataframe thead th {\n",
       "        text-align: right;\n",
       "    }\n",
       "</style>\n",
       "<table border=\"1\" class=\"dataframe\">\n",
       "  <thead>\n",
       "    <tr style=\"text-align: right;\">\n",
       "      <th></th>\n",
       "      <th>case</th>\n",
       "      <th>miss_rmse_so</th>\n",
       "      <th>miss_rmse_mo</th>\n",
       "      <th>miss_SOGP_NLL</th>\n",
       "      <th>miss_MOGP_NLL</th>\n",
       "    </tr>\n",
       "  </thead>\n",
       "  <tbody>\n",
       "    <tr>\n",
       "      <th>0</th>\n",
       "      <td>5/10</td>\n",
       "      <td>0.062607</td>\n",
       "      <td>0.022670</td>\n",
       "      <td>-0.504903</td>\n",
       "      <td>-1.898067</td>\n",
       "    </tr>\n",
       "    <tr>\n",
       "      <th>1</th>\n",
       "      <td>10/20</td>\n",
       "      <td>0.690692</td>\n",
       "      <td>0.012966</td>\n",
       "      <td>2.146329</td>\n",
       "      <td>-2.377725</td>\n",
       "    </tr>\n",
       "    <tr>\n",
       "      <th>2</th>\n",
       "      <td>20/40</td>\n",
       "      <td>0.171775</td>\n",
       "      <td>0.025693</td>\n",
       "      <td>-0.229363</td>\n",
       "      <td>-2.164977</td>\n",
       "    </tr>\n",
       "    <tr>\n",
       "      <th>3</th>\n",
       "      <td>40/80</td>\n",
       "      <td>0.118885</td>\n",
       "      <td>0.025220</td>\n",
       "      <td>-0.954010</td>\n",
       "      <td>-1.323235</td>\n",
       "    </tr>\n",
       "    <tr>\n",
       "      <th>4</th>\n",
       "      <td>60/120</td>\n",
       "      <td>0.064537</td>\n",
       "      <td>0.022528</td>\n",
       "      <td>-1.559484</td>\n",
       "      <td>-2.326070</td>\n",
       "    </tr>\n",
       "    <tr>\n",
       "      <th>5</th>\n",
       "      <td>100/200</td>\n",
       "      <td>0.019989</td>\n",
       "      <td>0.016390</td>\n",
       "      <td>-2.488708</td>\n",
       "      <td>-2.690876</td>\n",
       "    </tr>\n",
       "    <tr>\n",
       "      <th>6</th>\n",
       "      <td>150/300</td>\n",
       "      <td>0.023958</td>\n",
       "      <td>0.021151</td>\n",
       "      <td>-2.285759</td>\n",
       "      <td>-2.438151</td>\n",
       "    </tr>\n",
       "    <tr>\n",
       "      <th>7</th>\n",
       "      <td>200/400</td>\n",
       "      <td>0.021846</td>\n",
       "      <td>0.020895</td>\n",
       "      <td>-2.390191</td>\n",
       "      <td>-2.447517</td>\n",
       "    </tr>\n",
       "  </tbody>\n",
       "</table>\n",
       "</div>"
      ],
      "text/plain": [
       "      case  miss_rmse_so  miss_rmse_mo  miss_SOGP_NLL  miss_MOGP_NLL\n",
       "0     5/10      0.062607      0.022670      -0.504903      -1.898067\n",
       "1    10/20      0.690692      0.012966       2.146329      -2.377725\n",
       "2    20/40      0.171775      0.025693      -0.229363      -2.164977\n",
       "3    40/80      0.118885      0.025220      -0.954010      -1.323235\n",
       "4   60/120      0.064537      0.022528      -1.559484      -2.326070\n",
       "5  100/200      0.019989      0.016390      -2.488708      -2.690876\n",
       "6  150/300      0.023958      0.021151      -2.285759      -2.438151\n",
       "7  200/400      0.021846      0.020895      -2.390191      -2.447517"
      ]
     },
     "execution_count": 35,
     "metadata": {},
     "output_type": "execute_result"
    }
   ],
   "source": [
    "# Compare the result when predict the missing points of the SOGP vs the MOGP\n",
    "\n",
    "rows_miss_points = []\n",
    "\n",
    "for r in all_results_sogp:\n",
    "    case = tuple(r[\"case\"])\n",
    "    m = mogp_by_case[case]  # assume both ran on the same set of cases\n",
    "\n",
    "    rows_miss_points.append({\n",
    "        \"case\": f\"{case[0]}/{case[1]}\",\n",
    "        # means\n",
    "        \"miss_rmse_so\": float(r[\"miss_rmse\"]),\n",
    "        \"miss_rmse_mo\": float(m[\"missing_rmse\"]),\n",
    "        \"miss_SOGP_NLL\":  float(r.get(\"miss_nlls\", np.nan)),  # if you added NLLs as suggested\n",
    "        \"miss_MOGP_NLL\":  float(m[\"missing_nll\"]),\n",
    "    })\n",
    "\n",
    "missing_pred_metrics = pd.DataFrame(rows_miss_points)\n",
    "missing_pred_metrics"
   ]
  },
  {
   "cell_type": "code",
   "execution_count": 36,
   "id": "51da8628-1a5e-4aca-8662-1429878a4a1e",
   "metadata": {},
   "outputs": [
    {
     "data": {
      "image/png": "[encoded data removed]",
      "text/plain": [
       "<Figure size 1000x600 with 1 Axes>"
      ]
     },
     "metadata": {},
     "output_type": "display_data"
    }
   ],
   "source": [
    "labels = missing_pred_metrics[\"case\"].tolist()\n",
    "x = np.arange(len(labels)); w = 0.3\n",
    "\n",
    "# plot the rmse\n",
    "plt.figure(figsize=(10, 6))\n",
    "plt.bar(x - w/2, missing_pred_metrics[\"miss_rmse_so\"], width=w, label=\"sogp\", color=\"red\")\n",
    "plt.bar(x + w/2, missing_pred_metrics[\"miss_rmse_mo\"], width=w, label=\"mogp (LMC)\", color=\"blue\")\n",
    "plt.xticks(x, labels)\n",
    "plt.ylabel(\"RMSE\")\n",
    "plt.title(\"RMSE of MOGP vs SOGP when doing inference the missing points\")\n",
    "plt.legend(); plt.grid(True, axis='y', alpha=0.25)\n",
    "plt.show()"
   ]
  },
  {
   "cell_type": "code",
   "execution_count": 37,
   "id": "76ead041-fbcc-48a8-b9ad-45c3a4745032",
   "metadata": {},
   "outputs": [
    {
     "data": {
      "image/png": "[encoded data removed]",
      "text/plain": [
       "<Figure size 1000x600 with 1 Axes>"
      ]
     },
     "metadata": {},
     "output_type": "display_data"
    }
   ],
   "source": [
    "labels = missing_pred_metrics[\"case\"].tolist()\n",
    "x = np.arange(len(labels)); w = 0.3\n",
    "\n",
    "# plot the rmse\n",
    "plt.figure(figsize=(10, 6))\n",
    "plt.bar(x - w/2, missing_pred_metrics[\"miss_SOGP_NLL\"], width=w, label=\"sogp\", color=\"orange\")\n",
    "plt.bar(x + w/2, missing_pred_metrics[\"miss_MOGP_NLL\"], width=w, label=\"mogp (LMC)\", color=\"brown\")\n",
    "plt.xticks(x, labels)\n",
    "plt.ylabel(\"NLL\")\n",
    "plt.title(\"NLL of MOGP vs SOGP when doing inference the missing points\")\n",
    "plt.legend(); plt.grid(True, axis='y', alpha=0.25)\n",
    "plt.show()"
   ]
  },
  {
   "cell_type": "code",
   "execution_count": 38,
   "id": "9ead9b41-f6ec-475b-831a-acc68dc32d66",
   "metadata": {},
   "outputs": [],
   "source": [
    "## predict the missing data given a data\n",
    "\n",
    "## assume that we have two case:\n",
    "## Case 1: Using the joint model for predict -> Calculate the MSE for the model prediction and the true value\n",
    "## X* -> GP -> y* = [y1, y2, y3]\n",
    "## Y  ~ 0 , Kxx + noise Kx*\n",
    "## f*   0   K*x K**\n",
    "# => f*|X*, X, Y  = N(f*, cov(f*))\n",
    "\n",
    "## Case 2: Assume we have a function that asking the agent -> getting the true value for the test point -> using this value\n",
    "## to estimate whether the prediction will be better than the case we do not use the true value \n",
    "\n",
    "## Here y* = [y*1 y*2 y*3] but the y*2 already known => how can we using this information to improve the prediction?\n",
    "\n",
    "## We can do this way. First doing prediction like normal -> we receive the mean and covariance of the test result. Assume we have\n",
    "## the true value of the k-th function -> we using the Bayes rule to update the prediction based on the true value. Here the\n",
    "## true value assumed that having the noise (which include with the noise of that output as we learned from the function)\n"
   ]
  },
  {
   "cell_type": "code",
   "execution_count": 39,
   "id": "21a43bc7-3e73-4ea7-ab5d-c2da66109422",
   "metadata": {},
   "outputs": [
    {
     "data": {
      "image/png": "[encoded data removed]",
      "text/plain": [
       "<Figure size 640x480 with 1 Axes>"
      ]
     },
     "metadata": {},
     "output_type": "display_data"
    },
    {
     "data": {
      "image/png": "[encoded data removed]",
      "text/plain": [
       "<Figure size 640x480 with 1 Axes>"
      ]
     },
     "metadata": {},
     "output_type": "display_data"
    }
   ],
   "source": [
    "# Gather series\n",
    "case_labels = [f\"{res['case'][0]}/{res['case'][1]}\" for res in all_results_mogp]\n",
    "base_rmse_means = np.array([res[\"cond_base_rmse_mean\"] for res in all_results_mogp])\n",
    "cond_rmse_means = np.array([res[\"cond_rmse_mean\"] for res in all_results_mogp])\n",
    "base_nll_means  = np.array([res[\"cond_base_nll_mean\"] for res in all_results_mogp])\n",
    "cond_nll_means  = np.array([res[\"cond_nll_mean\"] for res in all_results_mogp])\n",
    "\n",
    "# RMSE line chart across size cases\n",
    "plt.figure()\n",
    "plt.plot(case_labels, base_rmse_means, marker=\"o\", label=\"Base\", color=\"red\")\n",
    "plt.plot(case_labels, cond_rmse_means, marker=\"o\", label=\"Conditioned\", color=\"green\")\n",
    "plt.xlabel(\"Train/Test size\")\n",
    "plt.ylabel(\"Mean RMSE (over y2 & y3)\")\n",
    "plt.title(\"RMSE across cases (known y0 test output - missing data)\")\n",
    "plt.legend()\n",
    "plt.xticks(rotation=45, ha=\"right\")\n",
    "plt.tight_layout()\n",
    "plt.show()\n",
    "\n",
    "# NLL line chart across size cases\n",
    "plt.figure()\n",
    "plt.plot(case_labels, base_nll_means, marker=\"o\", label=\"Base\")\n",
    "plt.plot(case_labels, cond_nll_means, marker=\"o\", label=\"Conditioned\")\n",
    "plt.xlabel(\"train/test size\")\n",
    "plt.ylabel(\"Mean NLL (over y2 & y3)\")\n",
    "plt.title(\"NLL across cases (known y0 test output - missing data)\")\n",
    "plt.legend()\n",
    "plt.xticks(rotation=45, ha=\"right\")\n",
    "plt.tight_layout()\n",
    "plt.show()"
   ]
  },
  {
   "cell_type": "code",
   "execution_count": null,
   "id": "298cea5b-5c08-4abf-8964-a884de653066",
   "metadata": {},
   "outputs": [],
   "source": []
  }
 ],
 "metadata": {
  "kernelspec": {
   "display_name": "Python [conda env:base] *",
   "language": "python",
   "name": "conda-base-py"
  },
  "language_info": {
   "codemirror_mode": {
    "name": "ipython",
    "version": 3
   },
   "file_extension": ".py",
   "mimetype": "text/x-python",
   "name": "python",
   "nbconvert_exporter": "python",
   "pygments_lexer": "ipython3",
   "version": "3.12.7"
  }
 },
 "nbformat": 4,
 "nbformat_minor": 5
}
