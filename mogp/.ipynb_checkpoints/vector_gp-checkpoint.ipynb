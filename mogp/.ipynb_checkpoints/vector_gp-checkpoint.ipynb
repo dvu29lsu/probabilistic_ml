{
 "cells": [
  {
   "cell_type": "code",
   "execution_count": 91,
   "id": "b0ce039d-7e57-4cf5-b492-7a3835516aa1",
   "metadata": {},
   "outputs": [],
   "source": [
    "## modeling the MOGP and SOGP with the vector input function (quadratic function)\n",
    "\n",
    "import time\n",
    "import numpy as np\n",
    "import matplotlib.pyplot as plt\n",
    "from sklearn.model_selection import train_test_split\n",
    "from sklearn.preprocessing import StandardScaler\n",
    "from sklearn.metrics import mean_squared_error\n",
    "\n",
    "import GPy"
   ]
  },
  {
   "cell_type": "code",
   "execution_count": 92,
   "id": "2afb7cb8-6bac-467e-aa37-df9e62949ccb",
   "metadata": {},
   "outputs": [],
   "source": [
    "np.set_printoptions(precision=4, suppress=True)"
   ]
  },
  {
   "cell_type": "code",
   "execution_count": 93,
   "id": "a94ac778-d77f-4a8b-b39c-12994b76e2ec",
   "metadata": {},
   "outputs": [],
   "source": [
    "def sample_convex_quadratic(d, seed = 42, pd_shift=0.5, r_scale=0.5, mu_scale=0.25, b_scale=0.2, c_scale=0.1):\n",
    "    # f(x) = (x-mu).T @ A @ (x-mu) + b.T @ x + c\n",
    "    \n",
    "    rng = np.random.default_rng(seed) ### using the new numpy generator function\n",
    "    \n",
    "    mu = rng.normal(scale=mu_scale, size=d) # random mean of features vector\n",
    "\n",
    "    # generate random vector from a normal distribution\n",
    "    R = rng.normal(scale=r_scale, size=(d, d))\n",
    "\n",
    "    # getting the matrix A random but satisfy strictly convex (A need to be strictly PD)\n",
    "    A = R.T @ R + pd_shift * np.eye(d)\n",
    "\n",
    "    # linear part: generate the vector b\n",
    "    b = rng.normal(scale=b_scale, size = d) # random vector b\n",
    "    \n",
    "    # additional part c\n",
    "    c = rng.normal(scale=c_scale) # just random number\n",
    "\n",
    "    return mu, A, b, c\n",
    "\n",
    "# just calculate the quad function\n",
    "def evaluate_quadratic(X, mu, A, b, c):\n",
    "    \n",
    "    X = np.asarray(X)\n",
    "    \n",
    "    xm = X - mu # shifting the data -> not in the origin axis\n",
    "    \n",
    "    quad = np.einsum('ni,ij,nj->n', xm, A, xm)  # (x-mu)^T A (x-mu)\n",
    "    \n",
    "    lin = X @ b\n",
    "    \n",
    "    return quad + lin + c"
   ]
  },
  {
   "cell_type": "code",
   "execution_count": 94,
   "id": "af27e2f9-a2b5-474d-a16a-c615fee61937",
   "metadata": {},
   "outputs": [],
   "source": [
    "# Y_test"
   ]
  },
  {
   "cell_type": "code",
   "execution_count": 95,
   "id": "0d3d0b51-8d61-44bd-9e26-55ac365b7059",
   "metadata": {},
   "outputs": [],
   "source": [
    "# generate the quadractic dataset\n",
    "def generate_quadratic_dataset(\n",
    "    n_train = 10,\n",
    "    n_test = 30,\n",
    "    d = 5,\n",
    "    S = 3,\n",
    "    seed = 42,\n",
    "    noise_levels=(0.02, 0.01, 0.01),\n",
    "    weight_range=(0.5, 1.2)):  # how strongly each output uses the shared quadratic latent functions\n",
    "\n",
    "    rng = np.random.default_rng(seed)\n",
    "\n",
    "    # sample input vectors\n",
    "    # X_all = rng.normal(size=(n_train + n_test, d))\n",
    "    X_all = rng.uniform(0, 0.5, size=(n_train + n_test, d))\n",
    "\n",
    "    # sample 1 convex quadratic\n",
    "    mu, A, b, c = sample_convex_quadratic(d, seed=seed)\n",
    "    f_all = evaluate_quadratic(X_all, mu, A, b, c)  # shape (N,)\n",
    "\n",
    "    # per-output mixing weights (unknown sharing strength)\n",
    "    w = rng.uniform(weight_range[0], weight_range[1], size=S)\n",
    "\n",
    "    # build outputs with Gaussian noise\n",
    "    Y_list = []\n",
    "    for s in range(S):\n",
    "        base  = w[s] * f_all[:, None]            # (N,1)\n",
    "        drift = 0\n",
    "        sigma = noise_levels[s % len(noise_levels)] # getting noise level\n",
    "        eps   = rng.normal(scale=sigma, size=(X_all.shape[0], 1)) # noise\n",
    "        y_s   = base + drift + eps # adding noise to the output\n",
    "        Y_list.append(y_s)\n",
    "        \n",
    "    Y_all = np.hstack(Y_list)  # getting the value for the function (noisy) - (N, S)\n",
    "\n",
    "    # train test\n",
    "    Xtr, Xte, Ytr, Yte, f_tr, f_te = train_test_split(\n",
    "        X_all, Y_all, f_all, test_size=n_test, random_state=seed\n",
    "    )\n",
    "\n",
    "    # scale X only to prevent the hard optimization when the input vector value will in to differnt scale\n",
    "    x_scaler = StandardScaler().fit(Xtr)\n",
    "    Xtr_s = x_scaler.transform(Xtr)\n",
    "    Xte_s = x_scaler.transform(Xte)\n",
    "\n",
    "    truth = dict(mu=mu, A=A, b=b, c=c, w=w, noise_levels=noise_levels)\n",
    "    return Xtr_s, Ytr, Xte_s, Yte, f_tr, f_te, truth, x_scaler"
   ]
  },
  {
   "cell_type": "code",
   "execution_count": 96,
   "id": "18226525-7a15-4047-985e-91976a49a3bb",
   "metadata": {},
   "outputs": [
    {
     "name": "stdout",
     "output_type": "stream",
     "text": [
      "Train shapes: X = (10, 5)  Y = (10, 3)\n",
      "Test  shapes: X = (20, 5)  Y = (20, 3)\n",
      "Weights w (how much each output uses f): [1.0784 1.1273 0.5982]\n",
      "Noise levels: (0.02, 0.01, 0.01)\n"
     ]
    }
   ],
   "source": [
    "# generate\n",
    "X_train, Y_train, X_test, Y_test, f_train, f_test, truth, x_scaler = generate_quadratic_dataset(\n",
    "    n_train=10, n_test=20, d=5, S=3, seed=42\n",
    ")\n",
    "\n",
    "print(\"Train shapes: X =\", X_train.shape, \" Y =\", Y_train.shape)\n",
    "print(\"Test  shapes: X =\", X_test.shape, \" Y =\", Y_test.shape)\n",
    "print(\"Weights w (how much each output uses f):\", truth[\"w\"])\n",
    "print(\"Noise levels:\", truth[\"noise_levels\"])"
   ]
  },
  {
   "cell_type": "code",
   "execution_count": 97,
   "id": "875f4cef-9620-46e8-b537-c2a1feb092d9",
   "metadata": {},
   "outputs": [],
   "source": [
    "# plt.plot(Y_train[:,0])"
   ]
  },
  {
   "cell_type": "code",
   "execution_count": 98,
   "id": "0ca0c558-1a6a-4e9f-99a2-887bae764a03",
   "metadata": {},
   "outputs": [],
   "source": [
    "def train_sogp_single_rbf_fullrun(\n",
    "    X_train, Y_train,\n",
    "    max_iters = 100000,         # large budget; optimizer stops early if it converges\n",
    "    bound_kernel=True,         # keep things numerically stable\n",
    "    noise_bounds=(1e-4, 0.1),  # bounds for Gaussian noise variance\n",
    "    var_bounds=(1e-4, 1e2),    # bounds for kernel variance\n",
    "    ls_bounds=(1e-4, 1e2)      # bounds for ARD lengthscales\n",
    "):\n",
    "    \n",
    "    S = Y_train.shape[1]\n",
    "    models = []\n",
    "    # store the lmls\n",
    "    lmls = []\n",
    "    total_time = 0.0\n",
    "\n",
    "    for s in range(S):\n",
    "        y = Y_train[:, [s]]\n",
    "\n",
    "        k = GPy.kern.RBF(X_train.shape[1], ARD=False, name=f\"rbf_s{s}\")\n",
    "        \n",
    "        if bound_kernel:\n",
    "            k.variance.constrain_bounded(*var_bounds)\n",
    "            k.lengthscale.constrain_bounded(*ls_bounds)\n",
    "\n",
    "        m = GPy.models.GPRegression(X_train, y, kernel=k)\n",
    "        m.Gaussian_noise.variance.constrain_bounded(*noise_bounds)\n",
    "\n",
    "        t0 = time.perf_counter()\n",
    "        m.optimize(optimizer=\"lbfgsb\", max_iters=max_iters, messages=True)  # single full run\n",
    "        total_time += (time.perf_counter() - t0)\n",
    "\n",
    "        models.append(m)\n",
    "\n",
    "        # adding the lmls for each models\n",
    "        \n",
    "        lmls.append(float(m.log_likelihood()))\n",
    "\n",
    "        # # print model hyperparams after train\n",
    "        # k = m.kern\n",
    "        \n",
    "        # print(f\"Output {s} kernel_variance\", k.variance.values)\n",
    "        # print(f\"Output {s} lengthscales\", k.lengthscale.values)\n",
    "        # print(f\"Output {s} noise_variance\", m.Gaussian_noise.variance.values)\n",
    "\n",
    "    return models, np.array(lmls), total_time\n"
   ]
  },
  {
   "cell_type": "code",
   "execution_count": 99,
   "id": "6c7a2773-f896-402e-abe2-7fd8515968e3",
   "metadata": {},
   "outputs": [],
   "source": [
    "def predictive_test_nll(y_true, mu, var, eps=1e-12):\n",
    "\n",
    "    var = np.clip(var.reshape(-1), eps, None)\n",
    "    y_true = y_true.reshape(-1); mu = mu.reshape(-1)\n",
    "    return 0.5*np.mean(np.log(2*np.pi*var) + (y_true - mu)**2/var)"
   ]
  },
  {
   "cell_type": "code",
   "execution_count": 100,
   "id": "13b553ae-4c4e-4603-b20b-7d1b066a4788",
   "metadata": {},
   "outputs": [],
   "source": [
    "def eval_sogp(models, Xte, Yte):\n",
    "    # compute the RMSE for each model as well as the nll on test output\n",
    "    \n",
    "    S = Yte.shape[1]\n",
    "    rmses, nlls = [], []\n",
    "    for s in range(S):\n",
    "        mu, var = models[s].predict(Xte)\n",
    "        rmse = np.sqrt(mean_squared_error(Yte[:, s], mu))\n",
    "        rmses.append(rmse)\n",
    "        nll = predictive_test_nll(Yte[:, s], mu, var)\n",
    "        nlls.append(nll)\n",
    "    return np.array(rmses), np.array(nlls)"
   ]
  },
  {
   "cell_type": "code",
   "execution_count": 112,
   "id": "4ef6c98b-3ba7-43b1-89b9-4d7f0b884e0c",
   "metadata": {},
   "outputs": [
    {
     "name": "stderr",
     "output_type": "stream",
     "text": [
      "reconstraining parameters rbf_s0.variance\n",
      "reconstraining parameters rbf_s0.lengthscale\n",
      "reconstraining parameters GP_regression.Gaussian_noise.variance\n"
     ]
    },
    {
     "data": {
      "application/vnd.jupyter.widget-view+json": {
       "model_id": "aedc493bf6e0426a82f24f10236ab5cc",
       "version_major": 2,
       "version_minor": 0
      },
      "text/plain": [
       "HBox(children=(VBox(children=(IntProgress(value=0, max=10000), HTML(value=''))), Box(children=(HTML(value=''),…"
      ]
     },
     "metadata": {},
     "output_type": "display_data"
    },
    {
     "name": "stderr",
     "output_type": "stream",
     "text": [
      "reconstraining parameters rbf_s1.variance\n",
      "reconstraining parameters rbf_s1.lengthscale\n",
      "reconstraining parameters GP_regression.Gaussian_noise.variance\n"
     ]
    },
    {
     "data": {
      "application/vnd.jupyter.widget-view+json": {
       "model_id": "7927d778ec4e4ab29e04d60da5650c9c",
       "version_major": 2,
       "version_minor": 0
      },
      "text/plain": [
       "HBox(children=(VBox(children=(IntProgress(value=0, max=10000), HTML(value=''))), Box(children=(HTML(value=''),…"
      ]
     },
     "metadata": {},
     "output_type": "display_data"
    },
    {
     "name": "stderr",
     "output_type": "stream",
     "text": [
      "reconstraining parameters rbf_s2.variance\n",
      "reconstraining parameters rbf_s2.lengthscale\n",
      "reconstraining parameters GP_regression.Gaussian_noise.variance\n"
     ]
    },
    {
     "data": {
      "application/vnd.jupyter.widget-view+json": {
       "model_id": "0d86ec31a4b744519dc09361c79a819c",
       "version_major": 2,
       "version_minor": 0
      },
      "text/plain": [
       "HBox(children=(VBox(children=(IntProgress(value=0, max=10000), HTML(value=''))), Box(children=(HTML(value=''),…"
      ]
     },
     "metadata": {},
     "output_type": "display_data"
    },
    {
     "name": "stdout",
     "output_type": "stream",
     "text": [
      "SOGP trained 3 tasks in 0.19s\n",
      "SOGP of each GP with RBF kernels: [0.0854 0.0707 0.0465]\n",
      "Mean of RMSE: 0.0675424613290899\n"
     ]
    }
   ],
   "source": [
    "# train & evaluate single-RBF SOGP\n",
    "sogp_models, lmls, sogp_time = train_sogp_single_rbf_fullrun(X_train, Y_train, max_iters=10000)\n",
    "\n",
    "print(f\"SOGP trained {len(sogp_models)} tasks in {sogp_time:.2f}s\")\n",
    "\n",
    "sogp1_rmse, sogp1_nlls = eval_sogp(sogp_models, X_test, Y_test)\n",
    "print(\"SOGP of each GP with RBF kernels:\", sogp1_rmse)\n",
    "print(\"Mean of RMSE:\", (sogp1_rmse.mean()))"
   ]
  },
  {
   "cell_type": "code",
   "execution_count": 114,
   "id": "ef86424f-4885-49eb-9e95-e9a8f5b90bdb",
   "metadata": {},
   "outputs": [],
   "source": [
    "import pandas as pd\n",
    "\n",
    "params_summary = []\n",
    "for i, m in enumerate(sogp_models):\n",
    "    k = m.kern\n",
    "    params_summary.append({\n",
    "        \"output\": i,\n",
    "        \"kernel_variance\": k.variance.values,\n",
    "        \"lengthscales\": k.lengthscale.values,\n",
    "        \"noise_variance\": m.Gaussian_noise.variance.values\n",
    "    })\n",
    "\n",
    "df_params = pd.DataFrame(params_summary)"
   ]
  },
  {
   "cell_type": "code",
   "execution_count": 116,
   "id": "9ebb6e7e-ffd9-47d3-8ecd-e67c5a80058f",
   "metadata": {},
   "outputs": [
    {
     "data": {
      "text/plain": [
       "array([15.8265])"
      ]
     },
     "execution_count": 116,
     "metadata": {},
     "output_type": "execute_result"
    }
   ],
   "source": [
    "df_params[\"lengthscales\"][2]"
   ]
  },
  {
   "cell_type": "code",
   "execution_count": 118,
   "id": "5aab12b5-533c-4970-b174-d72e1323e389",
   "metadata": {},
   "outputs": [
    {
     "data": {
      "text/plain": [
       "0     [8.101551832152028]\n",
       "1     [7.338362154313582]\n",
       "2    [2.4175525991092037]\n",
       "Name: kernel_variance, dtype: object"
      ]
     },
     "execution_count": 118,
     "metadata": {},
     "output_type": "execute_result"
    }
   ],
   "source": [
    "df_params[\"kernel_variance\"]"
   ]
  },
  {
   "cell_type": "code",
   "execution_count": 120,
   "id": "92357913-ebdd-4c76-8daa-d5bba7210fa9",
   "metadata": {},
   "outputs": [
    {
     "data": {
      "text/plain": [
       "3"
      ]
     },
     "execution_count": 120,
     "metadata": {},
     "output_type": "execute_result"
    }
   ],
   "source": [
    "len(df_params)"
   ]
  },
  {
   "cell_type": "code",
   "execution_count": 122,
   "id": "1e990289-18da-48f1-93da-35991b7c55d7",
   "metadata": {},
   "outputs": [
    {
     "name": "stderr",
     "output_type": "stream",
     "text": [
      "reconstraining parameters rbf_s0.variance\n",
      "reconstraining parameters rbf_s0.lengthscale\n",
      "reconstraining parameters GP_regression.Gaussian_noise.variance\n"
     ]
    },
    {
     "data": {
      "application/vnd.jupyter.widget-view+json": {
       "model_id": "5b826d87c7904f0dbc98ca8c1e6c4888",
       "version_major": 2,
       "version_minor": 0
      },
      "text/plain": [
       "HBox(children=(VBox(children=(IntProgress(value=0, max=10000), HTML(value=''))), Box(children=(HTML(value=''),…"
      ]
     },
     "metadata": {},
     "output_type": "display_data"
    },
    {
     "name": "stderr",
     "output_type": "stream",
     "text": [
      "reconstraining parameters rbf_s1.variance\n",
      "reconstraining parameters rbf_s1.lengthscale\n",
      "reconstraining parameters GP_regression.Gaussian_noise.variance\n"
     ]
    },
    {
     "data": {
      "application/vnd.jupyter.widget-view+json": {
       "model_id": "7854eae7dd1c4997a1477a696e078bfd",
       "version_major": 2,
       "version_minor": 0
      },
      "text/plain": [
       "HBox(children=(VBox(children=(IntProgress(value=0, max=10000), HTML(value=''))), Box(children=(HTML(value=''),…"
      ]
     },
     "metadata": {},
     "output_type": "display_data"
    },
    {
     "name": "stderr",
     "output_type": "stream",
     "text": [
      "reconstraining parameters rbf_s2.variance\n",
      "reconstraining parameters rbf_s2.lengthscale\n",
      "reconstraining parameters GP_regression.Gaussian_noise.variance\n"
     ]
    },
    {
     "data": {
      "application/vnd.jupyter.widget-view+json": {
       "model_id": "617c5e723c144399963f2047c88359d4",
       "version_major": 2,
       "version_minor": 0
      },
      "text/plain": [
       "HBox(children=(VBox(children=(IntProgress(value=0, max=10000), HTML(value=''))), Box(children=(HTML(value=''),…"
      ]
     },
     "metadata": {},
     "output_type": "display_data"
    },
    {
     "name": "stderr",
     "output_type": "stream",
     "text": [
      "reconstraining parameters rbf_s0.variance\n",
      "reconstraining parameters rbf_s0.lengthscale\n",
      "reconstraining parameters GP_regression.Gaussian_noise.variance\n"
     ]
    },
    {
     "name": "stdout",
     "output_type": "stream",
     "text": [
      "\n",
      "=== Case 1: 5 train / 10 test ===\n",
      "LML per output: [ 0.1797 -0.246  -0.5549]  | mean: -0.2071\n",
      "RMSE per output: [0.114  0.1117 0.1239]  | mean: 0.1165\n",
      "Training time: 0.209s\n",
      "Output 0 kernel_variance [0.3428]\n",
      "Output 0 lengthscales [8.0064]\n",
      "Output 0 noise_variance [0.0001]\n",
      "Output 1 kernel_variance [0.3871]\n",
      "Output 1 lengthscales [7.7508]\n",
      "Output 1 noise_variance [0.0001]\n",
      "Output 2 kernel_variance [0.4652]\n",
      "Output 2 lengthscales [8.0655]\n",
      "Output 2 noise_variance [0.0001]\n"
     ]
    },
    {
     "data": {
      "application/vnd.jupyter.widget-view+json": {
       "model_id": "48bd651b2c244cb6904b5dba28ee7acc",
       "version_major": 2,
       "version_minor": 0
      },
      "text/plain": [
       "HBox(children=(VBox(children=(IntProgress(value=0, max=10000), HTML(value=''))), Box(children=(HTML(value=''),…"
      ]
     },
     "metadata": {},
     "output_type": "display_data"
    },
    {
     "name": "stderr",
     "output_type": "stream",
     "text": [
      "reconstraining parameters rbf_s1.variance\n",
      "reconstraining parameters rbf_s1.lengthscale\n",
      "reconstraining parameters GP_regression.Gaussian_noise.variance\n"
     ]
    },
    {
     "data": {
      "application/vnd.jupyter.widget-view+json": {
       "model_id": "3c6b6c6fe3664487b134c92ac364a16c",
       "version_major": 2,
       "version_minor": 0
      },
      "text/plain": [
       "HBox(children=(VBox(children=(IntProgress(value=0, max=10000), HTML(value=''))), Box(children=(HTML(value=''),…"
      ]
     },
     "metadata": {},
     "output_type": "display_data"
    },
    {
     "name": "stderr",
     "output_type": "stream",
     "text": [
      "reconstraining parameters rbf_s2.variance\n",
      "reconstraining parameters rbf_s2.lengthscale\n",
      "reconstraining parameters GP_regression.Gaussian_noise.variance\n"
     ]
    },
    {
     "data": {
      "application/vnd.jupyter.widget-view+json": {
       "model_id": "b2c98c1eb4a0444699075909ac8bf25c",
       "version_major": 2,
       "version_minor": 0
      },
      "text/plain": [
       "HBox(children=(VBox(children=(IntProgress(value=0, max=10000), HTML(value=''))), Box(children=(HTML(value=''),…"
      ]
     },
     "metadata": {},
     "output_type": "display_data"
    },
    {
     "name": "stderr",
     "output_type": "stream",
     "text": [
      "reconstraining parameters rbf_s0.variance\n"
     ]
    },
    {
     "name": "stdout",
     "output_type": "stream",
     "text": [
      "\n",
      "=== Case 2: 10 train / 20 test ===\n",
      "LML per output: [-2.32   -0.4856  2.6304]  | mean: -0.0584\n",
      "RMSE per output: [0.0852 0.0906 0.0533]  | mean: 0.0764\n",
      "Training time: 0.166s\n",
      "Output 0 kernel_variance [7.4102]\n",
      "Output 0 lengthscales [13.1663]\n",
      "Output 0 noise_variance [0.0001]\n",
      "Output 1 kernel_variance [18.417]\n",
      "Output 1 lengthscales [21.567]\n",
      "Output 1 noise_variance [0.0001]\n",
      "Output 2 kernel_variance [5.0422]\n",
      "Output 2 lengthscales [17.413]\n",
      "Output 2 noise_variance [0.0001]\n"
     ]
    },
    {
     "name": "stderr",
     "output_type": "stream",
     "text": [
      "reconstraining parameters rbf_s0.lengthscale\n",
      "reconstraining parameters GP_regression.Gaussian_noise.variance\n"
     ]
    },
    {
     "data": {
      "application/vnd.jupyter.widget-view+json": {
       "model_id": "5ee5b776af79448da62d536016620c93",
       "version_major": 2,
       "version_minor": 0
      },
      "text/plain": [
       "HBox(children=(VBox(children=(IntProgress(value=0, max=10000), HTML(value=''))), Box(children=(HTML(value=''),…"
      ]
     },
     "metadata": {},
     "output_type": "display_data"
    },
    {
     "name": "stderr",
     "output_type": "stream",
     "text": [
      "reconstraining parameters rbf_s1.variance\n",
      "reconstraining parameters rbf_s1.lengthscale\n",
      "reconstraining parameters GP_regression.Gaussian_noise.variance\n"
     ]
    },
    {
     "data": {
      "application/vnd.jupyter.widget-view+json": {
       "model_id": "1bd01f3a318743dea9f3deb313a2cb50",
       "version_major": 2,
       "version_minor": 0
      },
      "text/plain": [
       "HBox(children=(VBox(children=(IntProgress(value=0, max=10000), HTML(value=''))), Box(children=(HTML(value=''),…"
      ]
     },
     "metadata": {},
     "output_type": "display_data"
    },
    {
     "name": "stderr",
     "output_type": "stream",
     "text": [
      "reconstraining parameters rbf_s2.variance\n",
      "reconstraining parameters rbf_s2.lengthscale\n",
      "reconstraining parameters GP_regression.Gaussian_noise.variance\n"
     ]
    },
    {
     "data": {
      "application/vnd.jupyter.widget-view+json": {
       "model_id": "426ffa53f03441779f497e0d59a6f889",
       "version_major": 2,
       "version_minor": 0
      },
      "text/plain": [
       "HBox(children=(VBox(children=(IntProgress(value=0, max=10000), HTML(value=''))), Box(children=(HTML(value=''),…"
      ]
     },
     "metadata": {},
     "output_type": "display_data"
    },
    {
     "name": "stderr",
     "output_type": "stream",
     "text": [
      "reconstraining parameters rbf_s0.variance\n",
      "reconstraining parameters rbf_s0.lengthscale\n",
      "reconstraining parameters GP_regression.Gaussian_noise.variance\n"
     ]
    },
    {
     "name": "stdout",
     "output_type": "stream",
     "text": [
      "\n",
      "=== Case 3: 20 train / 40 test ===\n",
      "LML per output: [-4.1795 11.4916 10.8067]  | mean: 6.0396\n",
      "RMSE per output: [0.0774 0.035  0.0277]  | mean: 0.0467\n",
      "Training time: 0.233s\n",
      "Output 0 kernel_variance [100.]\n",
      "Output 0 lengthscales [17.7886]\n",
      "Output 0 noise_variance [0.0001]\n",
      "Output 1 kernel_variance [70.3124]\n",
      "Output 1 lengthscales [22.1804]\n",
      "Output 1 noise_variance [0.0001]\n",
      "Output 2 kernel_variance [59.7504]\n",
      "Output 2 lengthscales [20.9167]\n",
      "Output 2 noise_variance [0.0001]\n"
     ]
    },
    {
     "data": {
      "application/vnd.jupyter.widget-view+json": {
       "model_id": "304fd118442b4b8a84b390cbd0cc1ce0",
       "version_major": 2,
       "version_minor": 0
      },
      "text/plain": [
       "HBox(children=(VBox(children=(IntProgress(value=0, max=10000), HTML(value=''))), Box(children=(HTML(value=''),…"
      ]
     },
     "metadata": {},
     "output_type": "display_data"
    },
    {
     "name": "stderr",
     "output_type": "stream",
     "text": [
      "reconstraining parameters rbf_s1.variance\n",
      "reconstraining parameters rbf_s1.lengthscale\n",
      "reconstraining parameters GP_regression.Gaussian_noise.variance\n"
     ]
    },
    {
     "data": {
      "application/vnd.jupyter.widget-view+json": {
       "model_id": "cd542368276d471984abebe721428f42",
       "version_major": 2,
       "version_minor": 0
      },
      "text/plain": [
       "HBox(children=(VBox(children=(IntProgress(value=0, max=10000), HTML(value=''))), Box(children=(HTML(value=''),…"
      ]
     },
     "metadata": {},
     "output_type": "display_data"
    },
    {
     "name": "stderr",
     "output_type": "stream",
     "text": [
      "reconstraining parameters rbf_s2.variance\n",
      "reconstraining parameters rbf_s2.lengthscale\n",
      "reconstraining parameters GP_regression.Gaussian_noise.variance\n"
     ]
    },
    {
     "data": {
      "application/vnd.jupyter.widget-view+json": {
       "model_id": "cf2f3209da9e476cbb0c0ef422a140b1",
       "version_major": 2,
       "version_minor": 0
      },
      "text/plain": [
       "HBox(children=(VBox(children=(IntProgress(value=0, max=10000), HTML(value=''))), Box(children=(HTML(value=''),…"
      ]
     },
     "metadata": {},
     "output_type": "display_data"
    },
    {
     "name": "stderr",
     "output_type": "stream",
     "text": [
      "reconstraining parameters rbf_s0.variance\n",
      "reconstraining parameters rbf_s0.lengthscale\n",
      "reconstraining parameters GP_regression.Gaussian_noise.variance\n"
     ]
    },
    {
     "name": "stdout",
     "output_type": "stream",
     "text": [
      "\n",
      "=== Case 4: 40 train / 80 test ===\n",
      "LML per output: [33.5171 49.7582 42.4446]  | mean: 41.9066\n",
      "RMSE per output: [0.0299 0.0201 0.015 ]  | mean: 0.0217\n",
      "Training time: 0.216s\n",
      "Output 0 kernel_variance [99.9259]\n",
      "Output 0 lengthscales [15.6031]\n",
      "Output 0 noise_variance [0.0001]\n",
      "Output 1 kernel_variance [100.]\n",
      "Output 1 lengthscales [18.0401]\n",
      "Output 1 noise_variance [0.0001]\n",
      "Output 2 kernel_variance [100.]\n",
      "Output 2 lengthscales [15.9718]\n",
      "Output 2 noise_variance [0.0001]\n"
     ]
    },
    {
     "data": {
      "application/vnd.jupyter.widget-view+json": {
       "model_id": "518d8751cbde4b7bae6e02e818ad5f73",
       "version_major": 2,
       "version_minor": 0
      },
      "text/plain": [
       "HBox(children=(VBox(children=(IntProgress(value=0, max=10000), HTML(value=''))), Box(children=(HTML(value=''),…"
      ]
     },
     "metadata": {},
     "output_type": "display_data"
    },
    {
     "name": "stderr",
     "output_type": "stream",
     "text": [
      "reconstraining parameters rbf_s1.variance\n",
      "reconstraining parameters rbf_s1.lengthscale\n",
      "reconstraining parameters GP_regression.Gaussian_noise.variance\n"
     ]
    },
    {
     "data": {
      "application/vnd.jupyter.widget-view+json": {
       "model_id": "30cff13c237f4f0ba0d5816a75c13f9d",
       "version_major": 2,
       "version_minor": 0
      },
      "text/plain": [
       "HBox(children=(VBox(children=(IntProgress(value=0, max=10000), HTML(value=''))), Box(children=(HTML(value=''),…"
      ]
     },
     "metadata": {},
     "output_type": "display_data"
    },
    {
     "name": "stderr",
     "output_type": "stream",
     "text": [
      "reconstraining parameters rbf_s2.variance\n",
      "reconstraining parameters rbf_s2.lengthscale\n",
      "reconstraining parameters GP_regression.Gaussian_noise.variance\n"
     ]
    },
    {
     "data": {
      "application/vnd.jupyter.widget-view+json": {
       "model_id": "68d15f4c0c40429f8749622f30a731d5",
       "version_major": 2,
       "version_minor": 0
      },
      "text/plain": [
       "HBox(children=(VBox(children=(IntProgress(value=0, max=10000), HTML(value=''))), Box(children=(HTML(value=''),…"
      ]
     },
     "metadata": {},
     "output_type": "display_data"
    },
    {
     "name": "stderr",
     "output_type": "stream",
     "text": [
      "reconstraining parameters rbf_s0.variance\n",
      "reconstraining parameters rbf_s0.lengthscale\n",
      "reconstraining parameters GP_regression.Gaussian_noise.variance\n"
     ]
    },
    {
     "name": "stdout",
     "output_type": "stream",
     "text": [
      "\n",
      "=== Case 5: 60 train / 120 test ===\n",
      "LML per output: [ 89.2242 109.6565 114.5505]  | mean: 104.4771\n",
      "RMSE per output: [0.0216 0.0136 0.011 ]  | mean: 0.0154\n",
      "Training time: 0.337s\n",
      "Output 0 kernel_variance [16.8451]\n",
      "Output 0 lengthscales [15.1613]\n",
      "Output 0 noise_variance [0.0001]\n",
      "Output 1 kernel_variance [45.5742]\n",
      "Output 1 lengthscales [16.5428]\n",
      "Output 1 noise_variance [0.0001]\n",
      "Output 2 kernel_variance [53.8692]\n",
      "Output 2 lengthscales [19.7055]\n",
      "Output 2 noise_variance [0.0001]\n"
     ]
    },
    {
     "data": {
      "application/vnd.jupyter.widget-view+json": {
       "model_id": "4beaa715e5004ecba0a88e23bab7cdc7",
       "version_major": 2,
       "version_minor": 0
      },
      "text/plain": [
       "HBox(children=(VBox(children=(IntProgress(value=0, max=10000), HTML(value=''))), Box(children=(HTML(value=''),…"
      ]
     },
     "metadata": {},
     "output_type": "display_data"
    },
    {
     "name": "stderr",
     "output_type": "stream",
     "text": [
      "reconstraining parameters rbf_s1.variance\n",
      "reconstraining parameters rbf_s1.lengthscale\n",
      "reconstraining parameters GP_regression.Gaussian_noise.variance\n"
     ]
    },
    {
     "data": {
      "application/vnd.jupyter.widget-view+json": {
       "model_id": "3e43b85ed0434f068d1aab92c6a343c8",
       "version_major": 2,
       "version_minor": 0
      },
      "text/plain": [
       "HBox(children=(VBox(children=(IntProgress(value=0, max=10000), HTML(value=''))), Box(children=(HTML(value=''),…"
      ]
     },
     "metadata": {},
     "output_type": "display_data"
    },
    {
     "name": "stderr",
     "output_type": "stream",
     "text": [
      "reconstraining parameters rbf_s2.variance\n",
      "reconstraining parameters rbf_s2.lengthscale\n",
      "reconstraining parameters GP_regression.Gaussian_noise.variance\n"
     ]
    },
    {
     "data": {
      "application/vnd.jupyter.widget-view+json": {
       "model_id": "e193d811766f4765a770950d67996556",
       "version_major": 2,
       "version_minor": 0
      },
      "text/plain": [
       "HBox(children=(VBox(children=(IntProgress(value=0, max=10000), HTML(value=''))), Box(children=(HTML(value=''),…"
      ]
     },
     "metadata": {},
     "output_type": "display_data"
    },
    {
     "name": "stderr",
     "output_type": "stream",
     "text": [
      "reconstraining parameters rbf_s0.variance\n",
      "reconstraining parameters rbf_s0.lengthscale\n",
      "reconstraining parameters GP_regression.Gaussian_noise.variance\n"
     ]
    },
    {
     "name": "stdout",
     "output_type": "stream",
     "text": [
      "\n",
      "=== Case 6: 100 train / 200 test ===\n",
      "LML per output: [199.6546 234.6602 237.341 ]  | mean: 223.8853\n",
      "RMSE per output: [0.0223 0.0115 0.0111]  | mean: 0.015\n",
      "Training time: 0.666s\n",
      "Output 0 kernel_variance [23.9153]\n",
      "Output 0 lengthscales [15.0807]\n",
      "Output 0 noise_variance [0.0001]\n",
      "Output 1 kernel_variance [58.1409]\n",
      "Output 1 lengthscales [18.4121]\n",
      "Output 1 noise_variance [0.0001]\n",
      "Output 2 kernel_variance [99.9996]\n",
      "Output 2 lengthscales [19.7633]\n",
      "Output 2 noise_variance [0.0001]\n"
     ]
    },
    {
     "data": {
      "application/vnd.jupyter.widget-view+json": {
       "model_id": "7705bb40aac64fc5a7bb128f9522af2a",
       "version_major": 2,
       "version_minor": 0
      },
      "text/plain": [
       "HBox(children=(VBox(children=(IntProgress(value=0, max=10000), HTML(value=''))), Box(children=(HTML(value=''),…"
      ]
     },
     "metadata": {},
     "output_type": "display_data"
    },
    {
     "name": "stderr",
     "output_type": "stream",
     "text": [
      "reconstraining parameters rbf_s1.variance\n",
      "reconstraining parameters rbf_s1.lengthscale\n",
      "reconstraining parameters GP_regression.Gaussian_noise.variance\n"
     ]
    },
    {
     "data": {
      "application/vnd.jupyter.widget-view+json": {
       "model_id": "78a3678baf5b455eb30ebf1c95b275b2",
       "version_major": 2,
       "version_minor": 0
      },
      "text/plain": [
       "HBox(children=(VBox(children=(IntProgress(value=0, max=10000), HTML(value=''))), Box(children=(HTML(value=''),…"
      ]
     },
     "metadata": {},
     "output_type": "display_data"
    },
    {
     "name": "stderr",
     "output_type": "stream",
     "text": [
      "reconstraining parameters rbf_s2.variance\n",
      "reconstraining parameters rbf_s2.lengthscale\n",
      "reconstraining parameters GP_regression.Gaussian_noise.variance\n"
     ]
    },
    {
     "data": {
      "application/vnd.jupyter.widget-view+json": {
       "model_id": "652b9c822ca74802afdb533619aff490",
       "version_major": 2,
       "version_minor": 0
      },
      "text/plain": [
       "HBox(children=(VBox(children=(IntProgress(value=0, max=10000), HTML(value=''))), Box(children=(HTML(value=''),…"
      ]
     },
     "metadata": {},
     "output_type": "display_data"
    },
    {
     "name": "stderr",
     "output_type": "stream",
     "text": [
      "reconstraining parameters rbf_s0.variance\n",
      "reconstraining parameters rbf_s0.lengthscale\n",
      "reconstraining parameters GP_regression.Gaussian_noise.variance\n"
     ]
    },
    {
     "name": "stdout",
     "output_type": "stream",
     "text": [
      "\n",
      "=== Case 7: 150 train / 300 test ===\n",
      "LML per output: [294.9394 378.9706 385.7187]  | mean: 353.2096\n",
      "RMSE per output: [0.0216 0.0113 0.0117]  | mean: 0.0149\n",
      "Training time: 0.741s\n",
      "Output 0 kernel_variance [15.6018]\n",
      "Output 0 lengthscales [12.4827]\n",
      "Output 0 noise_variance [0.0001]\n",
      "Output 1 kernel_variance [99.9999]\n",
      "Output 1 lengthscales [19.558]\n",
      "Output 1 noise_variance [0.0001]\n",
      "Output 2 kernel_variance [100.]\n",
      "Output 2 lengthscales [19.3416]\n",
      "Output 2 noise_variance [0.0001]\n"
     ]
    },
    {
     "data": {
      "application/vnd.jupyter.widget-view+json": {
       "model_id": "9d1f1d536f4445e69a74227d52fd3bb7",
       "version_major": 2,
       "version_minor": 0
      },
      "text/plain": [
       "HBox(children=(VBox(children=(IntProgress(value=0, max=10000), HTML(value=''))), Box(children=(HTML(value=''),…"
      ]
     },
     "metadata": {},
     "output_type": "display_data"
    },
    {
     "name": "stderr",
     "output_type": "stream",
     "text": [
      "reconstraining parameters rbf_s1.variance\n",
      "reconstraining parameters rbf_s1.lengthscale\n",
      "reconstraining parameters GP_regression.Gaussian_noise.variance\n"
     ]
    },
    {
     "data": {
      "application/vnd.jupyter.widget-view+json": {
       "model_id": "4a24f444fca548788ecf83f98b49dc5d",
       "version_major": 2,
       "version_minor": 0
      },
      "text/plain": [
       "HBox(children=(VBox(children=(IntProgress(value=0, max=10000), HTML(value=''))), Box(children=(HTML(value=''),…"
      ]
     },
     "metadata": {},
     "output_type": "display_data"
    },
    {
     "name": "stderr",
     "output_type": "stream",
     "text": [
      "reconstraining parameters rbf_s2.variance\n",
      "reconstraining parameters rbf_s2.lengthscale\n",
      "reconstraining parameters GP_regression.Gaussian_noise.variance\n"
     ]
    },
    {
     "data": {
      "application/vnd.jupyter.widget-view+json": {
       "model_id": "528cef3bbe5f4b969c73e3c2403c3780",
       "version_major": 2,
       "version_minor": 0
      },
      "text/plain": [
       "HBox(children=(VBox(children=(IntProgress(value=0, max=10000), HTML(value=''))), Box(children=(HTML(value=''),…"
      ]
     },
     "metadata": {},
     "output_type": "display_data"
    },
    {
     "name": "stdout",
     "output_type": "stream",
     "text": [
      "\n",
      "=== Case 8: 200 train / 400 test ===\n",
      "LML per output: [427.6303 531.8914 551.9863]  | mean: 503.836\n",
      "RMSE per output: [0.0212 0.0111 0.0103]  | mean: 0.0142\n",
      "Training time: 0.838s\n",
      "Output 0 kernel_variance [8.3679]\n",
      "Output 0 lengthscales [12.4862]\n",
      "Output 0 noise_variance [0.0001]\n",
      "Output 1 kernel_variance [99.9999]\n",
      "Output 1 lengthscales [20.4725]\n",
      "Output 1 noise_variance [0.0001]\n",
      "Output 2 kernel_variance [30.5954]\n",
      "Output 2 lengthscales [19.5605]\n",
      "Output 2 noise_variance [0.0001]\n"
     ]
    }
   ],
   "source": [
    "# running and compare the number of data points scale\n",
    "\n",
    "size_cases = [(5, 10), (10, 20), (20, 40), (40, 80), (60, 120), (100, 200), (150, 300), (200, 400)]\n",
    "d, S = 5, 3 #number of the dimension input and number of output \n",
    "seeds = 123\n",
    "\n",
    "all_results_sogp = []\n",
    "\n",
    "for i, (ntr, nte) in enumerate(size_cases):\n",
    "\n",
    "    X_train, Y_train, X_test, Y_test, f_train, f_test, truth, x_scaler = generate_quadratic_dataset(n_train = ntr, n_test = nte, d = d, S = S, seed = seeds + i, noise_levels=(0.02, 0.01, 0.01), weight_range=(0.5, 1.1))\n",
    "\n",
    "    # train threee model in one times\n",
    "    models, lmls, train_time = train_sogp_single_rbf_fullrun(X_train, Y_train, max_iters=10000)\n",
    "\n",
    "    # evaluation each output in each cases\n",
    "    rmses, nlls = eval_sogp(models, X_test, Y_test)\n",
    "    # rmses = eval_sogp(models, X_test, Y_test)\n",
    "\n",
    "    # print per case\n",
    "    print(f\"\\n=== Case {i+1}: {ntr} train / {nte} test ===\")\n",
    "    print(\"LML per output:\", np.round(lmls, 4), \" | mean:\", np.round(lmls.mean(), 4))\n",
    "    print(\"RMSE per output:\", np.round(rmses, 4), \" | mean:\", np.round(rmses.mean(), 4))\n",
    "    print(f\"Training time: {train_time:.3f}s\")\n",
    "\n",
    "    # print model hyperparams after train\n",
    "    for i in range(len(models)):\n",
    "        k = models[i].kern # getting optimized params of the model i_th\n",
    "        \n",
    "        print(f\"Output {i} kernel_variance\", k.variance.values)\n",
    "        print(f\"Output {i} lengthscales\", k.lengthscale.values)\n",
    "        print(f\"Output {i} noise_variance\", m.Gaussian_noise.variance.values)\n",
    "\n",
    "    all_results_sogp.append({\n",
    "        \"case\": (ntr, nte),\n",
    "        \"lmls\": lmls,\n",
    "        \"rmses\": rmses, #full rmse for each output \n",
    "        \"nlls\": nlls, #negative log likelihood for all function\n",
    "        \"lml_mean\": lmls.mean() if isinstance(lmls, np.ndarray) else float(lmls),\n",
    "        \"rmse_mean\": rmses.mean(), #rmses mean in all function\n",
    "        \"nll_mean\": nlls.mean(), # mean of nlls for each model\n",
    "        \"time\": train_time\n",
    "    })"
   ]
  },
  {
   "cell_type": "markdown",
   "id": "b5a38134-cb38-4451-80b7-f0b88c66c19e",
   "metadata": {},
   "source": [
    "# Multiple output GP"
   ]
  },
  {
   "cell_type": "code",
   "execution_count": 125,
   "id": "cdfc145c-e984-40f2-a63c-f7f51908120a",
   "metadata": {},
   "outputs": [],
   "source": [
    "## full rank structure\n",
    "\n",
    "def build_lcm_kernel(d, S, Q=None, rank=None, ard=False, var_bounds=(1e-4, 100), ls_bounds=(1e-4, 100)):\n",
    "    \n",
    "    if rank is None:\n",
    "        rank = S  # full rank as default\n",
    "\n",
    "    parts = []\n",
    "    for q in range(Q):\n",
    "        rbf = GPy.kern.RBF(input_dim=d, ARD=ard, name=f\"rbf{q+1}\", active_dims=list(range(d)))\n",
    "        rbf.variance.constrain_bounded(*var_bounds)\n",
    "        rbf.lengthscale.constrain_bounded(*ls_bounds)\n",
    "\n",
    "        B = GPy.kern.Coregionalize(input_dim=1,output_dim=S, rank=rank, name=f\"B{q+1}\", active_dims=[d])\n",
    "        parts.append(rbf.prod(B, name=f\"ICM{q+1}\"))\n",
    "    kern = parts[0]\n",
    "    for p in parts[1:]:\n",
    "        kern = kern + p\n",
    "    return kern"
   ]
  },
  {
   "cell_type": "code",
   "execution_count": 127,
   "id": "299f5099-269d-4103-bf4b-16c707ba79ad",
   "metadata": {},
   "outputs": [],
   "source": [
    "def train_mogp_lcm(\n",
    "    X_train, Y_train,\n",
    "    Q=None, rank=None, ard=False,\n",
    "    max_iters=100000,\n",
    "    var_bounds=(1e-4, 1e2),\n",
    "    ls_bounds=(1e-4, 1e2),\n",
    "    noise_bounds=(1e-4, 0.1)\n",
    "):\n",
    "\n",
    "    S, d = Y_train.shape[1], X_train.shape[1]\n",
    "\n",
    "    # pack lists as GPy expects\n",
    "    X_list = [X_train for _ in range(S)] # replicate the data\n",
    "    Y_list = [Y_train[:, [s]] for s in range(S)] # geeting the training output data for each output stacking\n",
    "\n",
    "    # build the kernel for LCM model/ full rank SLFM\n",
    "    kern = build_lcm_kernel(d, S, Q=Q, rank=rank, ard=ard,\n",
    "                            var_bounds=var_bounds, ls_bounds=ls_bounds)\n",
    "\n",
    "    #build model\n",
    "    m = GPy.models.GPCoregionalizedRegression(X_list=X_list, Y_list=Y_list, kernel=kern)\n",
    "\n",
    "    # noise bounds per output\n",
    "    for lik in m.likelihood.likelihoods_list:\n",
    "        lik.variance.constrain_bounded(*noise_bounds)\n",
    "\n",
    "    t0 = time.perf_counter() #start time train\n",
    "    \n",
    "    m.optimize(optimizer=\"lbfgsb\", max_iters=max_iters, messages=True)\n",
    "    \n",
    "    train_time = time.perf_counter() - t0 #end time train\n",
    "    \n",
    "    return m, train_time\n"
   ]
  },
  {
   "cell_type": "code",
   "execution_count": 129,
   "id": "89324aac-13a6-4017-b824-939b7e1ce108",
   "metadata": {},
   "outputs": [],
   "source": [
    "## getting the neg log likelihood in testing set\n",
    "def predictive_test_nll(y_true, mu, var, eps=1e-12):\n",
    "    var = np.clip(var.reshape(-1), eps, None)\n",
    "    y_true = y_true.reshape(-1); mu = mu.reshape(-1)\n",
    "    return float(0.5*np.mean(np.log(2*np.pi*var) + (y_true - mu)**2/var))\n",
    "\n",
    "## getting the MOGP values\n",
    "def eval_mogp_augmented(model, X_test, Y_test, make_scatter=False):\n",
    "    S, d = Y_test.shape[1], X_test.shape[1]\n",
    "    rmses, nlls = [], []\n",
    "\n",
    "    for s in range(S):\n",
    "        s_idx = np.full((X_test.shape[0], 1), s, dtype=int)\n",
    "        Xte_aug = np.hstack([X_test, s_idx])\n",
    "\n",
    "        Ymd = {'output_index': s_idx}\n",
    "\n",
    "        mu, var = model.predict(Xte_aug, Y_metadata=Ymd)\n",
    "        rmses.append(np.sqrt(mean_squared_error(Y_test[:, s], mu))) # rmse for each outputs\n",
    "        nlls.append(predictive_test_nll(Y_test[:, s], mu, var)) # nlls for each outputs\n",
    "\n",
    "    return np.array(rmses), np.array(nlls)"
   ]
  },
  {
   "cell_type": "code",
   "execution_count": 131,
   "id": "74c647d2-45f7-4a72-bb98-a5e733f58f4e",
   "metadata": {},
   "outputs": [
    {
     "name": "stderr",
     "output_type": "stream",
     "text": [
      "reconstraining parameters rbf1.variance\n",
      "reconstraining parameters rbf1.lengthscale\n",
      "reconstraining parameters rbf2.variance\n",
      "reconstraining parameters rbf2.lengthscale\n",
      "reconstraining parameters rbf3.variance\n",
      "reconstraining parameters rbf3.lengthscale\n",
      "reconstraining parameters gp.mixed_noise.Gaussian_noise_0.variance\n",
      "reconstraining parameters gp.mixed_noise.Gaussian_noise_1.variance\n",
      "reconstraining parameters gp.mixed_noise.Gaussian_noise_2.variance\n"
     ]
    },
    {
     "data": {
      "application/vnd.jupyter.widget-view+json": {
       "model_id": "ba003276c579413596707975df8b65c4",
       "version_major": 2,
       "version_minor": 0
      },
      "text/plain": [
       "HBox(children=(VBox(children=(IntProgress(value=0, max=10000), HTML(value=''))), Box(children=(HTML(value=''),…"
      ]
     },
     "metadata": {},
     "output_type": "display_data"
    },
    {
     "name": "stderr",
     "output_type": "stream",
     "text": [
      "reconstraining parameters rbf1.variance\n",
      "reconstraining parameters rbf1.lengthscale\n",
      "reconstraining parameters rbf2.variance\n",
      "reconstraining parameters rbf2.lengthscale\n",
      "reconstraining parameters rbf3.variance\n",
      "reconstraining parameters rbf3.lengthscale\n",
      "reconstraining parameters gp.mixed_noise.Gaussian_noise_0.variance\n",
      "reconstraining parameters gp.mixed_noise.Gaussian_noise_1.variance\n",
      "reconstraining parameters gp.mixed_noise.Gaussian_noise_2.variance\n"
     ]
    },
    {
     "name": "stdout",
     "output_type": "stream",
     "text": [
      "Model detail optimized params:\n",
      "   \u001b[1msum.                 \u001b[0;0m  |                   value  |  constraints   |  priors\n",
      "  \u001b[1mICM1.rbf1.variance   \u001b[0;0m  |  0.00010000000000286356  |  0.0001,100.0  |        \n",
      "  \u001b[1mICM1.rbf1.lengthscale\u001b[0;0m  |       99.98967116372113  |  0.0001,100.0  |        \n",
      "  \u001b[1mICM1.B1.W            \u001b[0;0m  |                  (3, 3)  |                |        \n",
      "  \u001b[1mICM1.B1.kappa        \u001b[0;0m  |                    (3,)  |      +ve       |        \n",
      "  \u001b[1mICM2.rbf2.variance   \u001b[0;0m  |    0.000167329996177419  |  0.0001,100.0  |        \n",
      "  \u001b[1mICM2.rbf2.lengthscale\u001b[0;0m  |       3.446397613933325  |  0.0001,100.0  |        \n",
      "  \u001b[1mICM2.B2.W            \u001b[0;0m  |                  (3, 3)  |                |        \n",
      "  \u001b[1mICM2.B2.kappa        \u001b[0;0m  |                    (3,)  |      +ve       |        \n",
      "  \u001b[1mICM3.rbf3.variance   \u001b[0;0m  |  0.00010000000016520694  |  0.0001,100.0  |        \n",
      "  \u001b[1mICM3.rbf3.lengthscale\u001b[0;0m  |       99.99093409931372  |  0.0001,100.0  |        \n",
      "  \u001b[1mICM3.B3.W            \u001b[0;0m  |                  (3, 3)  |                |        \n",
      "  \u001b[1mICM3.B3.kappa        \u001b[0;0m  |                    (3,)  |      +ve       |        \n",
      "\n",
      "=== MOGP Case 1: 5 train / 10 test ===\n",
      "LML (overall): 30.378864\n",
      "RMSE per output: [0.1104 0.1147 0.1244]  | mean: 0.1165\n",
      "NLL  per output: [-0.9915 -0.9958 -0.9077]  | mean: -0.965\n",
      "Training time: 0.794s\n"
     ]
    },
    {
     "data": {
      "application/vnd.jupyter.widget-view+json": {
       "model_id": "87c649b7fc0b479ea57583e24a52f386",
       "version_major": 2,
       "version_minor": 0
      },
      "text/plain": [
       "HBox(children=(VBox(children=(IntProgress(value=0, max=10000), HTML(value=''))), Box(children=(HTML(value=''),…"
      ]
     },
     "metadata": {},
     "output_type": "display_data"
    },
    {
     "name": "stderr",
     "output_type": "stream",
     "text": [
      "reconstraining parameters rbf1.variance\n",
      "reconstraining parameters rbf1.lengthscale\n",
      "reconstraining parameters rbf2.variance\n",
      "reconstraining parameters rbf2.lengthscale\n",
      "reconstraining parameters rbf3.variance\n",
      "reconstraining parameters rbf3.lengthscale\n",
      "reconstraining parameters gp.mixed_noise.Gaussian_noise_0.variance\n",
      "reconstraining parameters gp.mixed_noise.Gaussian_noise_1.variance\n",
      "reconstraining parameters gp.mixed_noise.Gaussian_noise_2.variance\n"
     ]
    },
    {
     "name": "stdout",
     "output_type": "stream",
     "text": [
      "Model detail optimized params:\n",
      "   \u001b[1msum.                 \u001b[0;0m  |                   value  |  constraints   |  priors\n",
      "  \u001b[1mICM1.rbf1.variance   \u001b[0;0m  |    0.008785953010262916  |  0.0001,100.0  |        \n",
      "  \u001b[1mICM1.rbf1.lengthscale\u001b[0;0m  |      13.781179300173482  |  0.0001,100.0  |        \n",
      "  \u001b[1mICM1.B1.W            \u001b[0;0m  |                  (3, 3)  |                |        \n",
      "  \u001b[1mICM1.B1.kappa        \u001b[0;0m  |                    (3,)  |      +ve       |        \n",
      "  \u001b[1mICM2.rbf2.variance   \u001b[0;0m  |  0.00010000012827111082  |  0.0001,100.0  |        \n",
      "  \u001b[1mICM2.rbf2.lengthscale\u001b[0;0m  |       99.99998614996377  |  0.0001,100.0  |        \n",
      "  \u001b[1mICM2.B2.W            \u001b[0;0m  |                  (3, 3)  |                |        \n",
      "  \u001b[1mICM2.B2.kappa        \u001b[0;0m  |                    (3,)  |      +ve       |        \n",
      "  \u001b[1mICM3.rbf3.variance   \u001b[0;0m  |   0.0001000000094690137  |  0.0001,100.0  |        \n",
      "  \u001b[1mICM3.rbf3.lengthscale\u001b[0;0m  |       99.99999999993565  |  0.0001,100.0  |        \n",
      "  \u001b[1mICM3.B3.W            \u001b[0;0m  |                  (3, 3)  |                |        \n",
      "  \u001b[1mICM3.B3.kappa        \u001b[0;0m  |                    (3,)  |      +ve       |        \n",
      "\n",
      "=== MOGP Case 2: 10 train / 20 test ===\n",
      "LML (overall): 52.493967\n",
      "RMSE per output: [0.0932 0.0937 0.0603]  | mean: 0.0824\n",
      "NLL  per output: [-0.9662 -1.0435 -1.5193]  | mean: -1.1763\n",
      "Training time: 1.339s\n"
     ]
    },
    {
     "data": {
      "application/vnd.jupyter.widget-view+json": {
       "model_id": "a1cd39b0e9194255928b5988782497a2",
       "version_major": 2,
       "version_minor": 0
      },
      "text/plain": [
       "HBox(children=(VBox(children=(IntProgress(value=0, max=10000), HTML(value=''))), Box(children=(HTML(value=''),…"
      ]
     },
     "metadata": {},
     "output_type": "display_data"
    },
    {
     "name": "stderr",
     "output_type": "stream",
     "text": [
      "reconstraining parameters rbf1.variance\n",
      "reconstraining parameters rbf1.lengthscale\n",
      "reconstraining parameters rbf2.variance\n",
      "reconstraining parameters rbf2.lengthscale\n",
      "reconstraining parameters rbf3.variance\n",
      "reconstraining parameters rbf3.lengthscale\n",
      "reconstraining parameters gp.mixed_noise.Gaussian_noise_0.variance\n",
      "reconstraining parameters gp.mixed_noise.Gaussian_noise_1.variance\n",
      "reconstraining parameters gp.mixed_noise.Gaussian_noise_2.variance\n"
     ]
    },
    {
     "name": "stdout",
     "output_type": "stream",
     "text": [
      "Model detail optimized params:\n",
      "   \u001b[1msum.                 \u001b[0;0m  |                   value  |  constraints   |  priors\n",
      "  \u001b[1mICM1.rbf1.variance   \u001b[0;0m  |  0.00010000003107875764  |  0.0001,100.0  |        \n",
      "  \u001b[1mICM1.rbf1.lengthscale\u001b[0;0m  |                   100.0  |  0.0001,100.0  |        \n",
      "  \u001b[1mICM1.B1.W            \u001b[0;0m  |                  (3, 3)  |                |        \n",
      "  \u001b[1mICM1.B1.kappa        \u001b[0;0m  |                    (3,)  |      +ve       |        \n",
      "  \u001b[1mICM2.rbf2.variance   \u001b[0;0m  |       99.99999999995568  |  0.0001,100.0  |        \n",
      "  \u001b[1mICM2.rbf2.lengthscale\u001b[0;0m  |                   100.0  |  0.0001,100.0  |        \n",
      "  \u001b[1mICM2.B2.W            \u001b[0;0m  |                  (3, 3)  |                |        \n",
      "  \u001b[1mICM2.B2.kappa        \u001b[0;0m  |                    (3,)  |      +ve       |        \n",
      "  \u001b[1mICM3.rbf3.variance   \u001b[0;0m  |  0.00010000011097493208  |  0.0001,100.0  |        \n",
      "  \u001b[1mICM3.rbf3.lengthscale\u001b[0;0m  |       99.99999999999997  |  0.0001,100.0  |        \n",
      "  \u001b[1mICM3.B3.W            \u001b[0;0m  |                  (3, 3)  |                |        \n",
      "  \u001b[1mICM3.B3.kappa        \u001b[0;0m  |                    (3,)  |      +ve       |        \n",
      "\n",
      "=== MOGP Case 3: 20 train / 40 test ===\n",
      "LML (overall): 102.668491\n",
      "RMSE per output: [0.0508 0.028  0.0233]  | mean: 0.034\n",
      "NLL  per output: [-1.7318 -2.3514 -2.4911]  | mean: -2.1914\n",
      "Training time: 4.461s\n"
     ]
    },
    {
     "data": {
      "application/vnd.jupyter.widget-view+json": {
       "model_id": "16cf61e1f2c240bf96d0938c610ab66e",
       "version_major": 2,
       "version_minor": 0
      },
      "text/plain": [
       "HBox(children=(VBox(children=(IntProgress(value=0, max=10000), HTML(value=''))), Box(children=(HTML(value=''),…"
      ]
     },
     "metadata": {},
     "output_type": "display_data"
    },
    {
     "name": "stderr",
     "output_type": "stream",
     "text": [
      "reconstraining parameters rbf1.variance\n",
      "reconstraining parameters rbf1.lengthscale\n",
      "reconstraining parameters rbf2.variance\n",
      "reconstraining parameters rbf2.lengthscale\n",
      "reconstraining parameters rbf3.variance\n",
      "reconstraining parameters rbf3.lengthscale\n",
      "reconstraining parameters gp.mixed_noise.Gaussian_noise_0.variance\n",
      "reconstraining parameters gp.mixed_noise.Gaussian_noise_1.variance\n",
      "reconstraining parameters gp.mixed_noise.Gaussian_noise_2.variance\n"
     ]
    },
    {
     "name": "stdout",
     "output_type": "stream",
     "text": [
      "Model detail optimized params:\n",
      "   \u001b[1msum.                 \u001b[0;0m  |                   value  |  constraints   |  priors\n",
      "  \u001b[1mICM1.rbf1.variance   \u001b[0;0m  |  0.00010190983022276887  |  0.0001,100.0  |        \n",
      "  \u001b[1mICM1.rbf1.lengthscale\u001b[0;0m  |       99.99998270556485  |  0.0001,100.0  |        \n",
      "  \u001b[1mICM1.B1.W            \u001b[0;0m  |                  (3, 3)  |                |        \n",
      "  \u001b[1mICM1.B1.kappa        \u001b[0;0m  |                    (3,)  |      +ve       |        \n",
      "  \u001b[1mICM2.rbf2.variance   \u001b[0;0m  |      1.2117288608146546  |  0.0001,100.0  |        \n",
      "  \u001b[1mICM2.rbf2.lengthscale\u001b[0;0m  |      23.165044354445143  |  0.0001,100.0  |        \n",
      "  \u001b[1mICM2.B2.W            \u001b[0;0m  |                  (3, 3)  |                |        \n",
      "  \u001b[1mICM2.B2.kappa        \u001b[0;0m  |                    (3,)  |      +ve       |        \n",
      "  \u001b[1mICM3.rbf3.variance   \u001b[0;0m  |   0.0001030778040701727  |  0.0001,100.0  |        \n",
      "  \u001b[1mICM3.rbf3.lengthscale\u001b[0;0m  |        99.9927636110181  |  0.0001,100.0  |        \n",
      "  \u001b[1mICM3.B3.W            \u001b[0;0m  |                  (3, 3)  |                |        \n",
      "  \u001b[1mICM3.B3.kappa        \u001b[0;0m  |                    (3,)  |      +ve       |        \n",
      "\n",
      "=== MOGP Case 4: 40 train / 80 test ===\n",
      "LML (overall): 266.040286\n",
      "RMSE per output: [0.0237 0.0127 0.0138]  | mean: 0.0167\n",
      "NLL  per output: [-2.303  -2.9463 -2.8745]  | mean: -2.7079\n",
      "Training time: 15.365s\n"
     ]
    },
    {
     "data": {
      "application/vnd.jupyter.widget-view+json": {
       "model_id": "bedc599e9e664061b1071dafe61e8ea9",
       "version_major": 2,
       "version_minor": 0
      },
      "text/plain": [
       "HBox(children=(VBox(children=(IntProgress(value=0, max=10000), HTML(value=''))), Box(children=(HTML(value=''),…"
      ]
     },
     "metadata": {},
     "output_type": "display_data"
    },
    {
     "name": "stderr",
     "output_type": "stream",
     "text": [
      "reconstraining parameters rbf1.variance\n",
      "reconstraining parameters rbf1.lengthscale\n",
      "reconstraining parameters rbf2.variance\n",
      "reconstraining parameters rbf2.lengthscale\n",
      "reconstraining parameters rbf3.variance\n",
      "reconstraining parameters rbf3.lengthscale\n",
      "reconstraining parameters gp.mixed_noise.Gaussian_noise_0.variance\n",
      "reconstraining parameters gp.mixed_noise.Gaussian_noise_1.variance\n"
     ]
    },
    {
     "name": "stdout",
     "output_type": "stream",
     "text": [
      "Model detail optimized params:\n",
      "   \u001b[1msum.                 \u001b[0;0m  |                   value  |  constraints   |  priors\n",
      "  \u001b[1mICM1.rbf1.variance   \u001b[0;0m  |    0.061899272993495284  |  0.0001,100.0  |        \n",
      "  \u001b[1mICM1.rbf1.lengthscale\u001b[0;0m  |      21.910108874747102  |  0.0001,100.0  |        \n",
      "  \u001b[1mICM1.B1.W            \u001b[0;0m  |                  (3, 3)  |                |        \n",
      "  \u001b[1mICM1.B1.kappa        \u001b[0;0m  |                    (3,)  |      +ve       |        \n",
      "  \u001b[1mICM2.rbf2.variance   \u001b[0;0m  |  0.00010000003459882834  |  0.0001,100.0  |        \n",
      "  \u001b[1mICM2.rbf2.lengthscale\u001b[0;0m  |       99.99999999999991  |  0.0001,100.0  |        \n",
      "  \u001b[1mICM2.B2.W            \u001b[0;0m  |                  (3, 3)  |                |        \n",
      "  \u001b[1mICM2.B2.kappa        \u001b[0;0m  |                    (3,)  |      +ve       |        \n",
      "  \u001b[1mICM3.rbf3.variance   \u001b[0;0m  |  0.00010000000016483014  |  0.0001,100.0  |        \n",
      "  \u001b[1mICM3.rbf3.lengthscale\u001b[0;0m  |       99.99999998052202  |  0.0001,100.0  |        \n",
      "  \u001b[1mICM3.B3.W            \u001b[0;0m  |                  (3, 3)  |                |        \n",
      "  \u001b[1mICM3.B3.kappa        \u001b[0;0m  |                    (3,)  |      +ve       |        \n",
      "\n",
      "=== MOGP Case 5: 60 train / 120 test ===\n",
      "LML (overall): 441.264492\n",
      "RMSE per output: [0.0205 0.0112 0.0101]  | mean: 0.0139\n",
      "NLL  per output: [-2.469  -3.0435 -3.1491]  | mean: -2.8872\n",
      "Training time: 9.015s\n"
     ]
    },
    {
     "name": "stderr",
     "output_type": "stream",
     "text": [
      "reconstraining parameters gp.mixed_noise.Gaussian_noise_2.variance\n"
     ]
    },
    {
     "data": {
      "application/vnd.jupyter.widget-view+json": {
       "model_id": "8f1a83ad589942e0bb009f5fa698f690",
       "version_major": 2,
       "version_minor": 0
      },
      "text/plain": [
       "HBox(children=(VBox(children=(IntProgress(value=0, max=10000), HTML(value=''))), Box(children=(HTML(value=''),…"
      ]
     },
     "metadata": {},
     "output_type": "display_data"
    },
    {
     "name": "stderr",
     "output_type": "stream",
     "text": [
      "reconstraining parameters rbf1.variance\n",
      "reconstraining parameters rbf1.lengthscale\n",
      "reconstraining parameters rbf2.variance\n",
      "reconstraining parameters rbf2.lengthscale\n",
      "reconstraining parameters rbf3.variance\n",
      "reconstraining parameters rbf3.lengthscale\n",
      "reconstraining parameters gp.mixed_noise.Gaussian_noise_0.variance\n"
     ]
    },
    {
     "name": "stdout",
     "output_type": "stream",
     "text": [
      "Model detail optimized params:\n",
      "   \u001b[1msum.                 \u001b[0;0m  |                   value  |  constraints   |  priors\n",
      "  \u001b[1mICM1.rbf1.variance   \u001b[0;0m  |      0.5990374411100544  |  0.0001,100.0  |        \n",
      "  \u001b[1mICM1.rbf1.lengthscale\u001b[0;0m  |       22.19022124715833  |  0.0001,100.0  |        \n",
      "  \u001b[1mICM1.B1.W            \u001b[0;0m  |                  (3, 3)  |                |        \n",
      "  \u001b[1mICM1.B1.kappa        \u001b[0;0m  |                    (3,)  |      +ve       |        \n",
      "  \u001b[1mICM2.rbf2.variance   \u001b[0;0m  |      2.2300409947718736  |  0.0001,100.0  |        \n",
      "  \u001b[1mICM2.rbf2.lengthscale\u001b[0;0m  |       99.62016416269206  |  0.0001,100.0  |        \n",
      "  \u001b[1mICM2.B2.W            \u001b[0;0m  |                  (3, 3)  |                |        \n",
      "  \u001b[1mICM2.B2.kappa        \u001b[0;0m  |                    (3,)  |      +ve       |        \n",
      "  \u001b[1mICM3.rbf3.variance   \u001b[0;0m  |  0.00010001754435507046  |  0.0001,100.0  |        \n",
      "  \u001b[1mICM3.rbf3.lengthscale\u001b[0;0m  |       99.99864115692276  |  0.0001,100.0  |        \n",
      "  \u001b[1mICM3.B3.W            \u001b[0;0m  |                  (3, 3)  |                |        \n",
      "  \u001b[1mICM3.B3.kappa        \u001b[0;0m  |                    (3,)  |      +ve       |        \n",
      "\n",
      "=== MOGP Case 6: 100 train / 200 test ===\n",
      "LML (overall): 827.792569\n",
      "RMSE per output: [0.0206 0.0098 0.0108]  | mean: 0.0137\n",
      "NLL  per output: [-2.3939 -3.1968 -3.1059]  | mean: -2.8989\n",
      "Training time: 155.578s\n"
     ]
    },
    {
     "name": "stderr",
     "output_type": "stream",
     "text": [
      "reconstraining parameters gp.mixed_noise.Gaussian_noise_1.variance\n",
      "reconstraining parameters gp.mixed_noise.Gaussian_noise_2.variance\n"
     ]
    },
    {
     "data": {
      "application/vnd.jupyter.widget-view+json": {
       "model_id": "aaf4f4fd6d18449784cbbd0edc8476e6",
       "version_major": 2,
       "version_minor": 0
      },
      "text/plain": [
       "HBox(children=(VBox(children=(IntProgress(value=0, max=10000), HTML(value=''))), Box(children=(HTML(value=''),…"
      ]
     },
     "metadata": {},
     "output_type": "display_data"
    },
    {
     "name": "stderr",
     "output_type": "stream",
     "text": [
      "reconstraining parameters rbf1.variance\n",
      "reconstraining parameters rbf1.lengthscale\n",
      "reconstraining parameters rbf2.variance\n",
      "reconstraining parameters rbf2.lengthscale\n",
      "reconstraining parameters rbf3.variance\n",
      "reconstraining parameters rbf3.lengthscale\n"
     ]
    },
    {
     "name": "stdout",
     "output_type": "stream",
     "text": [
      "Model detail optimized params:\n",
      "   \u001b[1msum.                 \u001b[0;0m  |                   value  |  constraints   |  priors\n",
      "  \u001b[1mICM1.rbf1.variance   \u001b[0;0m  |       8.110966028352657  |  0.0001,100.0  |        \n",
      "  \u001b[1mICM1.rbf1.lengthscale\u001b[0;0m  |       37.30498603935052  |  0.0001,100.0  |        \n",
      "  \u001b[1mICM1.B1.W            \u001b[0;0m  |                  (3, 3)  |                |        \n",
      "  \u001b[1mICM1.B1.kappa        \u001b[0;0m  |                    (3,)  |      +ve       |        \n",
      "  \u001b[1mICM2.rbf2.variance   \u001b[0;0m  |   0.0001096189345612956  |  0.0001,100.0  |        \n",
      "  \u001b[1mICM2.rbf2.lengthscale\u001b[0;0m  |       99.95225887981448  |  0.0001,100.0  |        \n",
      "  \u001b[1mICM2.B2.W            \u001b[0;0m  |                  (3, 3)  |                |        \n",
      "  \u001b[1mICM2.B2.kappa        \u001b[0;0m  |                    (3,)  |      +ve       |        \n",
      "  \u001b[1mICM3.rbf3.variance   \u001b[0;0m  |  0.00010058454411205877  |  0.0001,100.0  |        \n",
      "  \u001b[1mICM3.rbf3.lengthscale\u001b[0;0m  |       99.99995914457979  |  0.0001,100.0  |        \n",
      "  \u001b[1mICM3.B3.W            \u001b[0;0m  |                  (3, 3)  |                |        \n",
      "  \u001b[1mICM3.B3.kappa        \u001b[0;0m  |                    (3,)  |      +ve       |        \n",
      "\n",
      "=== MOGP Case 7: 150 train / 300 test ===\n",
      "LML (overall): 1219.906073\n",
      "RMSE per output: [0.0203 0.0104 0.0105]  | mean: 0.0137\n",
      "NLL  per output: [-2.478  -3.1461 -3.1297]  | mean: -2.9179\n",
      "Training time: 236.422s\n"
     ]
    },
    {
     "name": "stderr",
     "output_type": "stream",
     "text": [
      "reconstraining parameters gp.mixed_noise.Gaussian_noise_0.variance\n",
      "reconstraining parameters gp.mixed_noise.Gaussian_noise_1.variance\n",
      "reconstraining parameters gp.mixed_noise.Gaussian_noise_2.variance\n"
     ]
    },
    {
     "data": {
      "application/vnd.jupyter.widget-view+json": {
       "model_id": "3ca8d5734e784418a080b156adc1ebb9",
       "version_major": 2,
       "version_minor": 0
      },
      "text/plain": [
       "HBox(children=(VBox(children=(IntProgress(value=0, max=10000), HTML(value=''))), Box(children=(HTML(value=''),…"
      ]
     },
     "metadata": {},
     "output_type": "display_data"
    },
    {
     "name": "stdout",
     "output_type": "stream",
     "text": [
      "Model detail optimized params:\n",
      "   \u001b[1msum.                 \u001b[0;0m  |                   value  |  constraints   |  priors\n",
      "  \u001b[1mICM1.rbf1.variance   \u001b[0;0m  |  0.00010000048113704265  |  0.0001,100.0  |        \n",
      "  \u001b[1mICM1.rbf1.lengthscale\u001b[0;0m  |                   100.0  |  0.0001,100.0  |        \n",
      "  \u001b[1mICM1.B1.W            \u001b[0;0m  |                  (3, 3)  |                |        \n",
      "  \u001b[1mICM1.B1.kappa        \u001b[0;0m  |                    (3,)  |      +ve       |        \n",
      "  \u001b[1mICM2.rbf2.variance   \u001b[0;0m  |     0.03005681803484517  |  0.0001,100.0  |        \n",
      "  \u001b[1mICM2.rbf2.lengthscale\u001b[0;0m  |      27.120888991229055  |  0.0001,100.0  |        \n",
      "  \u001b[1mICM2.B2.W            \u001b[0;0m  |                  (3, 3)  |                |        \n",
      "  \u001b[1mICM2.B2.kappa        \u001b[0;0m  |                    (3,)  |      +ve       |        \n",
      "  \u001b[1mICM3.rbf3.variance   \u001b[0;0m  |  0.00010000000007819276  |  0.0001,100.0  |        \n",
      "  \u001b[1mICM3.rbf3.lengthscale\u001b[0;0m  |                   100.0  |  0.0001,100.0  |        \n",
      "  \u001b[1mICM3.B3.W            \u001b[0;0m  |                  (3, 3)  |                |        \n",
      "  \u001b[1mICM3.B3.kappa        \u001b[0;0m  |                    (3,)  |      +ve       |        \n",
      "\n",
      "=== MOGP Case 8: 200 train / 400 test ===\n",
      "LML (overall): 1658.579039\n",
      "RMSE per output: [0.0199 0.0104 0.0101]  | mean: 0.0134\n",
      "NLL  per output: [-2.4996 -3.1503 -3.1812]  | mean: -2.9437\n",
      "Training time: 170.380s\n"
     ]
    }
   ],
   "source": [
    "# Define your size cases (same as SOGP)\n",
    "size_cases = [(5, 10), (10, 20), (20, 40), (40, 80), (60, 120), (100, 200), (150, 300), (200, 400)]\n",
    "\n",
    "# set model params option\n",
    "Q = 3            # number of latent components in LCM\n",
    "rank = 3      # full rank structure (each group have R = 3, Q = 3)\n",
    "\n",
    "ard = False      # treat all the features with equal affect to the length scale\n",
    "max_iters = 10000\n",
    "\n",
    "# Data options (match how you generated SOGP data)\n",
    "d, S = 5, 3\n",
    "\n",
    "all_results_mogp = []\n",
    "\n",
    "for i, (ntr, nte) in enumerate(size_cases):\n",
    "    # generate data set\n",
    "    X_train, Y_train, X_test, Y_test, f_train, f_test, truth, x_scaler = generate_quadratic_dataset(n_train = ntr, n_test = nte, d = d, S = S, seed = seeds + i, noise_levels=(0.02, 0.01, 0.01), weight_range=(0.5, 1.1))\n",
    "\n",
    "    # train the MOGP\n",
    "    mogp, t_mogp = train_mogp_lcm(\n",
    "        X_train, Y_train, Q=Q, rank=rank, ard=ard, max_iters=max_iters\n",
    "    )\n",
    "\n",
    "    # evaluate\n",
    "    rmse, nll = eval_mogp_augmented(mogp, X_test, Y_test, make_scatter=False)\n",
    "\n",
    "    # print model hyperparams after train\n",
    "    print(\"Model detail optimized params:\\n\", mogp.sum)\n",
    "\n",
    "    # collect + print output data\n",
    "    lml = float(mogp.log_likelihood())\n",
    "    print(f\"\\n=== MOGP Case {i+1}: {ntr} train / {nte} test ===\")\n",
    "    print(\"LML (overall):\", round(lml, 6))\n",
    "    print(\"RMSE per output:\", np.round(rmse, 4), \" | mean:\", np.round(rmse.mean(), 4))\n",
    "    print(\"NLL  per output:\", np.round(nll, 4),  \" | mean:\", np.round(nll.mean(), 4))\n",
    "    print(f\"Training time: {t_mogp:.3f}s\")\n",
    "\n",
    "    all_results_mogp.append({\n",
    "        \"case\": (ntr, nte),\n",
    "        \"rmse\": rmse,\n",
    "        \"nll\": nll,\n",
    "        \"rmse_mean\": rmse.mean(),\n",
    "        \"nll_mean\": nll.mean(),\n",
    "        \"lml\": lml,\n",
    "        \"train_time\": t_mogp\n",
    "    })"
   ]
  },
  {
   "cell_type": "code",
   "execution_count": 138,
   "id": "648fc84c-f354-402b-9665-9521ff26c765",
   "metadata": {},
   "outputs": [
    {
     "data": {
      "text/html": [
       "<div>\n",
       "<style scoped>\n",
       "    .dataframe tbody tr th:only-of-type {\n",
       "        vertical-align: middle;\n",
       "    }\n",
       "\n",
       "    .dataframe tbody tr th {\n",
       "        vertical-align: top;\n",
       "    }\n",
       "\n",
       "    .dataframe thead th {\n",
       "        text-align: right;\n",
       "    }\n",
       "</style>\n",
       "<table border=\"1\" class=\"dataframe\">\n",
       "  <thead>\n",
       "    <tr style=\"text-align: right;\">\n",
       "      <th></th>\n",
       "      <th>case</th>\n",
       "      <th>SOGP_RMSE</th>\n",
       "      <th>MOGP_RMSE</th>\n",
       "      <th>SOGP_NLL</th>\n",
       "      <th>MOGP_NLL</th>\n",
       "      <th>SOGP_time</th>\n",
       "      <th>MOGP_time</th>\n",
       "    </tr>\n",
       "  </thead>\n",
       "  <tbody>\n",
       "    <tr>\n",
       "      <th>0</th>\n",
       "      <td>5/10</td>\n",
       "      <td>0.116543</td>\n",
       "      <td>0.116478</td>\n",
       "      <td>-0.723389</td>\n",
       "      <td>-0.964989</td>\n",
       "      <td>0.208615</td>\n",
       "      <td>0.793772</td>\n",
       "    </tr>\n",
       "    <tr>\n",
       "      <th>1</th>\n",
       "      <td>10/20</td>\n",
       "      <td>0.076399</td>\n",
       "      <td>0.082411</td>\n",
       "      <td>-1.142142</td>\n",
       "      <td>-1.176323</td>\n",
       "      <td>0.166234</td>\n",
       "      <td>1.339114</td>\n",
       "    </tr>\n",
       "    <tr>\n",
       "      <th>2</th>\n",
       "      <td>20/40</td>\n",
       "      <td>0.046701</td>\n",
       "      <td>0.034028</td>\n",
       "      <td>-1.832310</td>\n",
       "      <td>-2.191434</td>\n",
       "      <td>0.232813</td>\n",
       "      <td>4.460718</td>\n",
       "    </tr>\n",
       "    <tr>\n",
       "      <th>3</th>\n",
       "      <td>40/80</td>\n",
       "      <td>0.021658</td>\n",
       "      <td>0.016746</td>\n",
       "      <td>-2.471874</td>\n",
       "      <td>-2.707929</td>\n",
       "      <td>0.216340</td>\n",
       "      <td>15.364508</td>\n",
       "    </tr>\n",
       "    <tr>\n",
       "      <th>4</th>\n",
       "      <td>60/120</td>\n",
       "      <td>0.015389</td>\n",
       "      <td>0.013902</td>\n",
       "      <td>-2.743347</td>\n",
       "      <td>-2.887200</td>\n",
       "      <td>0.337204</td>\n",
       "      <td>9.015177</td>\n",
       "    </tr>\n",
       "    <tr>\n",
       "      <th>5</th>\n",
       "      <td>100/200</td>\n",
       "      <td>0.014992</td>\n",
       "      <td>0.013722</td>\n",
       "      <td>-2.812334</td>\n",
       "      <td>-2.898882</td>\n",
       "      <td>0.666098</td>\n",
       "      <td>155.577573</td>\n",
       "    </tr>\n",
       "    <tr>\n",
       "      <th>6</th>\n",
       "      <td>150/300</td>\n",
       "      <td>0.014897</td>\n",
       "      <td>0.013730</td>\n",
       "      <td>-2.838232</td>\n",
       "      <td>-2.917926</td>\n",
       "      <td>0.740571</td>\n",
       "      <td>236.422175</td>\n",
       "    </tr>\n",
       "    <tr>\n",
       "      <th>7</th>\n",
       "      <td>200/400</td>\n",
       "      <td>0.014215</td>\n",
       "      <td>0.013445</td>\n",
       "      <td>-2.895513</td>\n",
       "      <td>-2.943724</td>\n",
       "      <td>0.837811</td>\n",
       "      <td>170.380087</td>\n",
       "    </tr>\n",
       "  </tbody>\n",
       "</table>\n",
       "</div>"
      ],
      "text/plain": [
       "      case  SOGP_RMSE  MOGP_RMSE  SOGP_NLL  MOGP_NLL  SOGP_time   MOGP_time\n",
       "0     5/10   0.116543   0.116478 -0.723389 -0.964989   0.208615    0.793772\n",
       "1    10/20   0.076399   0.082411 -1.142142 -1.176323   0.166234    1.339114\n",
       "2    20/40   0.046701   0.034028 -1.832310 -2.191434   0.232813    4.460718\n",
       "3    40/80   0.021658   0.016746 -2.471874 -2.707929   0.216340   15.364508\n",
       "4   60/120   0.015389   0.013902 -2.743347 -2.887200   0.337204    9.015177\n",
       "5  100/200   0.014992   0.013722 -2.812334 -2.898882   0.666098  155.577573\n",
       "6  150/300   0.014897   0.013730 -2.838232 -2.917926   0.740571  236.422175\n",
       "7  200/400   0.014215   0.013445 -2.895513 -2.943724   0.837811  170.380087"
      ]
     },
     "execution_count": 138,
     "metadata": {},
     "output_type": "execute_result"
    }
   ],
   "source": [
    "# Merge by (n_train, n_test)\n",
    "rows = []\n",
    "# index MOGP by case for easy lookup\n",
    "mogp_by_case = {tuple(r[\"case\"]): r for r in all_results_mogp}\n",
    "\n",
    "for r in all_results_sogp:\n",
    "    case = tuple(r[\"case\"])\n",
    "    m = mogp_by_case[case]  # assume both ran on the same set of cases\n",
    "\n",
    "    rows.append({\n",
    "        \"case\": f\"{case[0]}/{case[1]}\",\n",
    "        # means\n",
    "        \"SOGP_RMSE\": float(r[\"rmse_mean\"]),\n",
    "        \"MOGP_RMSE\": float(m[\"rmse_mean\"]),\n",
    "        \"SOGP_NLL\":  float(r.get(\"nll_mean\", np.nan)),  # if you added NLLs as suggested\n",
    "        \"MOGP_NLL\":  float(m[\"nll_mean\"]),\n",
    "        # times\n",
    "        \"SOGP_time\": float(r[\"time\"]),        # your stored SOGP time\n",
    "        \"MOGP_time\": float(m[\"train_time\"]),  # your stored MOGP time\n",
    "    })\n",
    "\n",
    "cmp_df = pd.DataFrame(rows)\n",
    "cmp_df"
   ]
  },
  {
   "cell_type": "code",
   "execution_count": 142,
   "id": "ffcbeac8-e87c-44f4-b86b-455c3273a599",
   "metadata": {},
   "outputs": [
    {
     "data": {
      "image/png": "[encoded data removed]",
      "text/plain": [
       "<Figure size 640x480 with 1 Axes>"
      ]
     },
     "metadata": {},
     "output_type": "display_data"
    },
    {
     "data": {
      "image/png": "[encoded data removed]",
      "text/plain": [
       "<Figure size 640x480 with 1 Axes>"
      ]
     },
     "metadata": {},
     "output_type": "display_data"
    }
   ],
   "source": [
    "labels = cmp_df[\"case\"].tolist()\n",
    "x = np.arange(len(labels)); w = 0.3\n",
    "\n",
    "# plot the rmse\n",
    "plt.figure()\n",
    "plt.bar(x - w/2, cmp_df[\"SOGP_RMSE\"], width=w, label=\"SOGP\")\n",
    "plt.bar(x + w/2, cmp_df[\"MOGP_RMSE\"], width=w, label=\"MOGP (LMC)\")\n",
    "plt.xticks(x, labels)\n",
    "plt.ylabel(\"Mean RMSE\")\n",
    "plt.title(\"SOGP vs MOGP — Mean RMSE by case\")\n",
    "plt.legend(); plt.grid(True, axis='y', alpha=0.25)\n",
    "plt.show()\n",
    "\n",
    "# plot the LLH\n",
    "plt.figure()\n",
    "plt.bar(x - w/2, cmp_df[\"SOGP_NLL\"], width=w, label=\"SOGP\")\n",
    "plt.bar(x + w/2, cmp_df[\"MOGP_NLL\"], width=w, label=\"MOGP (LMC)\")\n",
    "plt.xticks(x, labels)\n",
    "plt.ylabel(\"Mean NLL\")\n",
    "plt.title(\"SOGP vs MOGP — Mean NLL by case\")\n",
    "plt.legend(); plt.grid(True, axis='y', alpha=0.25)\n",
    "plt.show()"
   ]
  },
  {
   "cell_type": "code",
   "execution_count": 146,
   "id": "3c06ed4b-fe2f-4388-9ab6-d1241844ed5b",
   "metadata": {},
   "outputs": [
    {
     "data": {
      "image/png": "[encoded data removed]",
      "text/plain": [
       "<Figure size 640x480 with 1 Axes>"
      ]
     },
     "metadata": {},
     "output_type": "display_data"
    }
   ],
   "source": [
    "# training time\n",
    "plt.figure()\n",
    "plt.plot(cmp_df[\"SOGP_time\"], label=\"SOGP\")\n",
    "plt.plot(cmp_df[\"MOGP_time\"], label=\"MOGP (LMC)\")\n",
    "plt.xticks(x, labels)\n",
    "plt.ylabel(\"Training time (s)\")\n",
    "plt.title(\"SOGP vs MOGP — Training time by dataset\")\n",
    "plt.legend(); plt.grid(True, axis='y', alpha=0.25)\n",
    "plt.show()"
   ]
  },
  {
   "cell_type": "code",
   "execution_count": null,
   "id": "9b5d1914-4672-43be-9919-a8fd3a7b0687",
   "metadata": {},
   "outputs": [],
   "source": []
  }
 ],
 "metadata": {
  "kernelspec": {
   "display_name": "Python [conda env:base] *",
   "language": "python",
   "name": "conda-base-py"
  },
  "language_info": {
   "codemirror_mode": {
    "name": "ipython",
    "version": 3
   },
   "file_extension": ".py",
   "mimetype": "text/x-python",
   "name": "python",
   "nbconvert_exporter": "python",
   "pygments_lexer": "ipython3",
   "version": "3.12.7"
  }
 },
 "nbformat": 4,
 "nbformat_minor": 5
}
